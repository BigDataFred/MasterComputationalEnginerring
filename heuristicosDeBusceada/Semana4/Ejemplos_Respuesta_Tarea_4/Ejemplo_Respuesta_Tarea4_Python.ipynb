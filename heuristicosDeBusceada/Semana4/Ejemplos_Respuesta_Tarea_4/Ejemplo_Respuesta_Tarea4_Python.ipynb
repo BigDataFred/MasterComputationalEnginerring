{
 "cells": [
  {
   "cell_type": "markdown",
   "metadata": {},
   "source": [
    "# Formato para la implementación de los ejercicios de la Tarea  4 en Python"
   ]
  },
  {
   "cell_type": "markdown",
   "metadata": {},
   "source": [
    "### Los programas implementados para la  solución de los ejercicios se evaluarán ejecutando una notebook con el formato que se describe a continuación. Cada estudiante debe asegurarse que sus programas se ejecutan de manera correcta y en un tiempo razonable utilizando este formato. "
   ]
  },
  {
   "cell_type": "markdown",
   "metadata": {},
   "source": [
    "### Los programas se pueden implementar en Python ó R. No deben implementarse en los dos lenguajes pues solamente se evaluará en uno de ellos. El código en Python o R podrá incluirse directamente en las celdas de la notebook o implementarse independientemente para ser invocado DESDE LA NOTEBOOK. Es decir, los programas no se evaluarán independientemente sino a partir del llamado que se hace en la notebook. "
   ]
  },
  {
   "cell_type": "code",
   "execution_count": 4,
   "metadata": {},
   "outputs": [],
   "source": [
    "# Ejemplo de resolución del problema QAP en Python\n",
    "\n",
    "# Importamos las librerías imprescindibles para la ejecución del ejercicio\n",
    "import numpy as np\n",
    "\n",
    "\n",
    "def ReadQAPInstance(fname):\n",
    "  # Este programa recibe el nombre y ubicación de un fichero con los datos de una instancia del problema QAP\n",
    "  # y devuelve una estructura con los datos de la instancia.\n",
    "  QAPInstance = {}\n",
    "  return QAPInstance\n",
    "\n",
    "\n",
    "def QAPAdvLocalSearch(fname,permutation,max_evals,k):\n",
    "  best_vals = []\n",
    "  best_sol = permutation\n",
    "  my_QAP_Instance = ReadQAPInstance(fname)  # Se lee la instancia\n",
    "  # En los siguientes pasos se implementa la evaluación la búsqueda local en Python   \n",
    "  \n",
    "\n",
    "  # Finalmente se devuelven  un vector con el valor de la mejor solución encontrada cada k evaluaciones\n",
    "    \n",
    "  return best_vals,best_sol       \n",
    "\n"
   ]
  },
  {
   "cell_type": "code",
   "execution_count": 5,
   "metadata": {},
   "outputs": [
    {
     "name": "stdout",
     "output_type": "stream",
     "text": [
      "10 1 [] [1, 3, 2, 4, 10, 9, 8, 7, 6, 5]\n",
      "10 2 [] [1, 3, 2, 4, 10, 9, 8, 7, 6, 5]\n",
      "10 3 [] [1, 3, 2, 4, 10, 9, 8, 7, 6, 5]\n",
      "10 4 [] [1, 3, 2, 4, 10, 9, 8, 7, 6, 5]\n",
      "10 5 [] [1, 3, 2, 4, 10, 9, 8, 7, 6, 5]\n",
      "20 1 [] range(1, 21)\n",
      "20 2 [] range(1, 21)\n",
      "20 3 [] range(1, 21)\n",
      "20 4 [] range(1, 21)\n",
      "20 5 [] range(1, 21)\n",
      "30 1 [] range(1, 31)\n",
      "30 2 [] range(1, 31)\n",
      "30 3 [] range(1, 31)\n",
      "30 4 [] range(1, 31)\n",
      "30 5 [] range(1, 31)\n"
     ]
    }
   ],
   "source": [
    "# En esta parte comprobamos la implementación de los programas. \n",
    "# Esta celda no debe ser modificada\n",
    "\n",
    "maxevals=1000\n",
    "k=20\n",
    "\n",
    "\n",
    "# Evaluación del algoritmo para 5 instancias de tamaño 10\n",
    "filename_base = '../Instances/QAP/Cebe.qap.n10.'\n",
    "mypermutation_10 = [1,3,2,4,10,9,8,7,6,5]\n",
    "for i in range(5):\n",
    "  fname  = filename_base+str(i+1)\n",
    "  best_val,best_sol = QAPAdvLocalSearch(fname,mypermutation_10,maxevals,k)  \n",
    "  print(10,i+1,best_val,best_sol)  \n",
    "  \n",
    "\n",
    "# Evaluación del algoritmo para 5 instancias de tamaño 20\n",
    "filename_base = '../Instances/QAP/Cebe.qap.n20.'\n",
    "mypermutation_20 = range(1,21)\n",
    "for i in range(5):\n",
    "  fname  = filename_base+str(i+1)\n",
    "  best_val,best_sol = QAPAdvLocalSearch(fname,mypermutation_20,maxevals,k)  \n",
    "  print(20,i+1,best_val,best_sol)  \n",
    "\n",
    "\n",
    "# Evaluación del algoritmo para 5 instancias de tamaño 30\n",
    "filename_base = '../Instances/QAP/Cebe.qap.n30.'\n",
    "mypermutation_30 = range(1,31)\n",
    "for i in range(5):\n",
    "  fname  = filename_base+str(i+1)\n",
    "  best_val,best_sol = QAPAdvLocalSearch(fname,mypermutation_30,maxevals,k)  \n",
    "  print(30,i+1,best_val,best_sol)  \n",
    "\n",
    "\n",
    "\n",
    "    "
   ]
  },
  {
   "cell_type": "code",
   "execution_count": 8,
   "metadata": {},
   "outputs": [],
   "source": [
    "def QAPAdvEA(fname,psize,ngen):\n",
    "  evals = np.zeros((ngen))\n",
    "  best_sol = []\n",
    " \n",
    "  my_QAP_Instance = ReadQAPInstance(fname)  # Se lee la instancia\n",
    "  # En los siguientes pasos se implementa el algoritmo evolutivo para el problema QAP\n",
    "\n",
    "  # Finalmente se devuelven un vector con el mejor valor encontrado hasta cada generación k así como la mejor solución\n",
    "  return evals,best_sol  "
   ]
  },
  {
   "cell_type": "code",
   "execution_count": 9,
   "metadata": {},
   "outputs": [
    {
     "name": "stdout",
     "output_type": "stream",
     "text": [
      "10 1 [0. 0. 0. 0. 0. 0. 0. 0. 0. 0. 0. 0. 0. 0. 0. 0. 0. 0. 0. 0.] []\n",
      "10 2 [0. 0. 0. 0. 0. 0. 0. 0. 0. 0. 0. 0. 0. 0. 0. 0. 0. 0. 0. 0.] []\n",
      "50 1 [0. 0. 0. 0. 0. 0. 0. 0. 0. 0. 0. 0. 0. 0. 0. 0. 0. 0. 0. 0.] []\n",
      "50 2 [0. 0. 0. 0. 0. 0. 0. 0. 0. 0. 0. 0. 0. 0. 0. 0. 0. 0. 0. 0.] []\n"
     ]
    }
   ],
   "source": [
    "# En esta parte comprobamos la implementación de los programas. \n",
    "# Esta celda no debe ser modificada\n",
    "\n",
    "\n",
    "popsize = 100\n",
    "n_gen = 20\n",
    "\n",
    "\n",
    "# Evaluación del algoritmo para 2 instancias de tamaño 10\n",
    "filename_base = '../Instances/QAP/Cebe.qap.n10.'\n",
    "for i in range(2):\n",
    "  fname  = filename_base+str(i+1)\n",
    "  evals,best_sol = QAPAdvEA(fname,popsize,n_gen)    \n",
    "  print(10,i+1,evals,best_sol)  \n",
    "\n",
    "# Evaluación del algoritmo para 2 instancias de tamaño 50\n",
    "filename_base = '../Instances/QAP/Cebe.qap.n50.'\n",
    "for i in range(2):\n",
    "  fname  = filename_base+str(i+1)\n",
    "  evals,best_sol = QAPAdvEA(fname,popsize,n_gen)    \n",
    "  print(50,i+1,evals,best_sol)  \n",
    "\n"
   ]
  },
  {
   "cell_type": "code",
   "execution_count": 11,
   "metadata": {},
   "outputs": [],
   "source": [
    "# Ejemplo de la implementación de la búsqueda local avanzada para el problema BiPart en Python\n",
    "\n",
    "# Importamos las librerías imprescindibles para la ejecución del ejercicio\n",
    "import numpy as np\n",
    "\n",
    "\n",
    "def ReadBipPartInstance(fname):\n",
    "  # Este programa recibe el nombre y ubicación de un fichero con los datos de una instancia del problema BiPart\n",
    "  # y devuelve una estructura con los datos de la instancia.\n",
    "  BiPartInstance = {}\n",
    "  return BiPartInstance\n",
    "\n",
    "def BipPartAdvLocalSearch(fname,solution,max_evals,k):\n",
    "  best_vals = []\n",
    "  best_sol = solution\n",
    "\n",
    "  my_BiPart_Instance = ReadBipPartInstance(fname)  # Se lee la instancia\n",
    "  # En los siguientes pasos se implementa la búsqueda local para el problema BiPart \n",
    "\n",
    "  # Finalmente se devuelven el mejor valor encontrado así como la mejor solución\n",
    "  return best_vals,best_sol        \n"
   ]
  },
  {
   "cell_type": "code",
   "execution_count": 12,
   "metadata": {},
   "outputs": [
    {
     "name": "stdout",
     "output_type": "stream",
     "text": [
      "10 1 [] [1. 1. 1. 1. 1. 0. 0. 0. 0. 0.]\n",
      "10 2 [] [1. 1. 1. 1. 1. 0. 0. 0. 0. 0.]\n",
      "10 3 [] [1. 1. 1. 1. 1. 0. 0. 0. 0. 0.]\n",
      "10 4 [] [1. 1. 1. 1. 1. 0. 0. 0. 0. 0.]\n",
      "10 5 [] [1. 1. 1. 1. 1. 0. 0. 0. 0. 0.]\n",
      "20 1 [] [1. 1. 1. 1. 1. 1. 1. 1. 1. 1. 0. 0. 0. 0. 0. 0. 0. 0. 0. 0.]\n",
      "20 2 [] [1. 1. 1. 1. 1. 1. 1. 1. 1. 1. 0. 0. 0. 0. 0. 0. 0. 0. 0. 0.]\n",
      "20 3 [] [1. 1. 1. 1. 1. 1. 1. 1. 1. 1. 0. 0. 0. 0. 0. 0. 0. 0. 0. 0.]\n",
      "20 4 [] [1. 1. 1. 1. 1. 1. 1. 1. 1. 1. 0. 0. 0. 0. 0. 0. 0. 0. 0. 0.]\n",
      "20 5 [] [1. 1. 1. 1. 1. 1. 1. 1. 1. 1. 0. 0. 0. 0. 0. 0. 0. 0. 0. 0.]\n",
      "50 1 [] [1. 1. 1. 1. 1. 1. 1. 1. 1. 1. 1. 1. 1. 1. 1. 1. 1. 1. 1. 1. 1. 1. 1. 1.\n",
      " 1. 0. 0. 0. 0. 0. 0. 0. 0. 0. 0. 0. 0. 0. 0. 0. 0. 0. 0. 0. 0. 0. 0. 0.\n",
      " 0. 0.]\n",
      "50 2 [] [1. 1. 1. 1. 1. 1. 1. 1. 1. 1. 1. 1. 1. 1. 1. 1. 1. 1. 1. 1. 1. 1. 1. 1.\n",
      " 1. 0. 0. 0. 0. 0. 0. 0. 0. 0. 0. 0. 0. 0. 0. 0. 0. 0. 0. 0. 0. 0. 0. 0.\n",
      " 0. 0.]\n",
      "50 3 [] [1. 1. 1. 1. 1. 1. 1. 1. 1. 1. 1. 1. 1. 1. 1. 1. 1. 1. 1. 1. 1. 1. 1. 1.\n",
      " 1. 0. 0. 0. 0. 0. 0. 0. 0. 0. 0. 0. 0. 0. 0. 0. 0. 0. 0. 0. 0. 0. 0. 0.\n",
      " 0. 0.]\n",
      "50 4 [] [1. 1. 1. 1. 1. 1. 1. 1. 1. 1. 1. 1. 1. 1. 1. 1. 1. 1. 1. 1. 1. 1. 1. 1.\n",
      " 1. 0. 0. 0. 0. 0. 0. 0. 0. 0. 0. 0. 0. 0. 0. 0. 0. 0. 0. 0. 0. 0. 0. 0.\n",
      " 0. 0.]\n",
      "50 5 [] [1. 1. 1. 1. 1. 1. 1. 1. 1. 1. 1. 1. 1. 1. 1. 1. 1. 1. 1. 1. 1. 1. 1. 1.\n",
      " 1. 0. 0. 0. 0. 0. 0. 0. 0. 0. 0. 0. 0. 0. 0. 0. 0. 0. 0. 0. 0. 0. 0. 0.\n",
      " 0. 0.]\n",
      "80 1 [] [1. 1. 1. 1. 1. 1. 1. 1. 1. 1. 1. 1. 1. 1. 1. 1. 1. 1. 1. 1. 1. 1. 1. 1.\n",
      " 1. 1. 1. 1. 1. 1. 1. 1. 1. 1. 1. 1. 1. 1. 1. 1. 0. 0. 0. 0. 0. 0. 0. 0.\n",
      " 0. 0. 0. 0. 0. 0. 0. 0. 0. 0. 0. 0. 0. 0. 0. 0. 0. 0. 0. 0. 0. 0. 0. 0.\n",
      " 0. 0. 0. 0. 0. 0. 0. 0.]\n",
      "80 2 [] [1. 1. 1. 1. 1. 1. 1. 1. 1. 1. 1. 1. 1. 1. 1. 1. 1. 1. 1. 1. 1. 1. 1. 1.\n",
      " 1. 1. 1. 1. 1. 1. 1. 1. 1. 1. 1. 1. 1. 1. 1. 1. 0. 0. 0. 0. 0. 0. 0. 0.\n",
      " 0. 0. 0. 0. 0. 0. 0. 0. 0. 0. 0. 0. 0. 0. 0. 0. 0. 0. 0. 0. 0. 0. 0. 0.\n",
      " 0. 0. 0. 0. 0. 0. 0. 0.]\n",
      "80 3 [] [1. 1. 1. 1. 1. 1. 1. 1. 1. 1. 1. 1. 1. 1. 1. 1. 1. 1. 1. 1. 1. 1. 1. 1.\n",
      " 1. 1. 1. 1. 1. 1. 1. 1. 1. 1. 1. 1. 1. 1. 1. 1. 0. 0. 0. 0. 0. 0. 0. 0.\n",
      " 0. 0. 0. 0. 0. 0. 0. 0. 0. 0. 0. 0. 0. 0. 0. 0. 0. 0. 0. 0. 0. 0. 0. 0.\n",
      " 0. 0. 0. 0. 0. 0. 0. 0.]\n",
      "80 4 [] [1. 1. 1. 1. 1. 1. 1. 1. 1. 1. 1. 1. 1. 1. 1. 1. 1. 1. 1. 1. 1. 1. 1. 1.\n",
      " 1. 1. 1. 1. 1. 1. 1. 1. 1. 1. 1. 1. 1. 1. 1. 1. 0. 0. 0. 0. 0. 0. 0. 0.\n",
      " 0. 0. 0. 0. 0. 0. 0. 0. 0. 0. 0. 0. 0. 0. 0. 0. 0. 0. 0. 0. 0. 0. 0. 0.\n",
      " 0. 0. 0. 0. 0. 0. 0. 0.]\n",
      "80 5 [] [1. 1. 1. 1. 1. 1. 1. 1. 1. 1. 1. 1. 1. 1. 1. 1. 1. 1. 1. 1. 1. 1. 1. 1.\n",
      " 1. 1. 1. 1. 1. 1. 1. 1. 1. 1. 1. 1. 1. 1. 1. 1. 0. 0. 0. 0. 0. 0. 0. 0.\n",
      " 0. 0. 0. 0. 0. 0. 0. 0. 0. 0. 0. 0. 0. 0. 0. 0. 0. 0. 0. 0. 0. 0. 0. 0.\n",
      " 0. 0. 0. 0. 0. 0. 0. 0.]\n"
     ]
    }
   ],
   "source": [
    "# En esta parte comprobamos la implementación de los programas. \n",
    "# Esta celda no debe ser modificada\n",
    "\n",
    "\n",
    "maxevals=1000\n",
    "k=20\n",
    "\n",
    "\n",
    "\n",
    "# Evaluación del algoritmo para 5 instancias de tamaño n = 10\n",
    "filename_base = '../Instances/BIPART/Cebe.bip.n10.'\n",
    "my_solution_10 = np.hstack((np.ones((5)),np.zeros((5))))\n",
    "for i in range(5):\n",
    "  fname  = filename_base+str(i+1)\n",
    "  best_val,best_sol = BipPartAdvLocalSearch(fname,my_solution_10,maxevals,k)  \n",
    "  print(10,i+1,best_val,best_sol)  \n",
    "\n",
    "\n",
    "\n",
    "# Evaluación del algoritmo para 5 instancias de tamaño n = 20\n",
    "filename_base = '../Instances/BIPART/Cebe.bip.n20.'\n",
    "my_solution_20 = np.hstack((np.ones((10)),np.zeros((10))))\n",
    "for i in range(5):\n",
    "  fname  = filename_base+str(i+1) \n",
    "  best_val,best_sol = BipPartAdvLocalSearch(fname,my_solution_20,maxevals,k)  \n",
    "  print(20,i+1,best_val,best_sol)  \n",
    "\n",
    "\n",
    "# Evaluación del algoritmo para 5 instancias de tamaño n = 50\n",
    "filename_base = '../Instances/BIPART/Cebe.bip.n50.'\n",
    "my_solution_50 = np.hstack((np.ones((25)),np.zeros((25))))\n",
    "for i in range(5):\n",
    "  fname  = filename_base+str(i+1) \n",
    "  best_val,best_sol = BipPartAdvLocalSearch(fname,my_solution_50,maxevals,k)  \n",
    "  print(50,i+1,best_val,best_sol)  \n",
    "\n",
    "\n",
    "# Evaluación del algoritmo para 5 instancias de tamaño n = 80\n",
    "filename_base = '../Instances/BIPART/Cebe.bip.n80.'\n",
    "my_solution_80 = np.hstack((np.ones((40)),np.zeros((40))))\n",
    "for i in range(5):\n",
    "  fname  = filename_base+str(i+1) \n",
    "  best_val,best_sol = BipPartAdvLocalSearch(fname,my_solution_80,maxevals,k)  \n",
    "  print(80,i+1,best_val,best_sol)  \n",
    "\n",
    "\n"
   ]
  },
  {
   "cell_type": "code",
   "execution_count": 13,
   "metadata": {},
   "outputs": [],
   "source": [
    "# Ejemplo de la implementación del algoritmo evolutivo avanzado para el problema BiPart en Python\n",
    "\n",
    "def BipAdvEA(fname,psize,ngen):\n",
    "  evals = np.zeros((ngen))\n",
    "  best_sol = []\n",
    "\n",
    "  my_BipPart_Instance = ReadBipPartInstance(fname)  # Se lee la instancia\n",
    "  # En los siguientes pasos se implementa el algoritmo evolutivo para el problema BipPart \n",
    "\n",
    "  # Finalmente se devuelven un vector con el mejor valor encontrado hasta cada generación k así como la mejor solución\n",
    "  return evals,best_sol        \n",
    "\n"
   ]
  },
  {
   "cell_type": "code",
   "execution_count": 14,
   "metadata": {},
   "outputs": [
    {
     "name": "stdout",
     "output_type": "stream",
     "text": [
      "10 1 [0. 0. 0. 0. 0. 0. 0. 0. 0. 0. 0. 0. 0. 0. 0. 0. 0. 0. 0. 0.] []\n",
      "10 2 [0. 0. 0. 0. 0. 0. 0. 0. 0. 0. 0. 0. 0. 0. 0. 0. 0. 0. 0. 0.] []\n",
      "50 1 [0. 0. 0. 0. 0. 0. 0. 0. 0. 0. 0. 0. 0. 0. 0. 0. 0. 0. 0. 0.] []\n",
      "50 2 [0. 0. 0. 0. 0. 0. 0. 0. 0. 0. 0. 0. 0. 0. 0. 0. 0. 0. 0. 0.] []\n"
     ]
    }
   ],
   "source": [
    "# En esta parte comprobamos la implementación de los programas. \n",
    "# Esta celda no debe ser modificada\n",
    "\n",
    "\n",
    "popsize = 100\n",
    "n_gen = 20\n",
    "\n",
    "#  EA para 2 instancias de tamaño n=10\n",
    "filename_base = '../Instances/BIPART/Cebe.bip.n10.'\n",
    "for i in range(2):\n",
    "  fname  = filename_base+str(i+1)\n",
    "  evals,best_sol = BipAdvEA(fname,popsize,n_gen)  \n",
    "  print(10,i+1,evals,best_sol)  \n",
    "\n",
    "#  EA para 2 instancias de tamaño n=50\n",
    "filename_base = '../Instances/BIPART/Cebe.bip.n50.'\n",
    "for i in range(2):\n",
    "  fname  = filename_base+str(i+1)\n",
    "  evals,best_sol = BipAdvEA(fname,popsize,n_gen)  \n",
    "  print(50,i+1,evals,best_sol)  \n",
    "\n"
   ]
  },
  {
   "cell_type": "code",
   "execution_count": null,
   "metadata": {
    "collapsed": true
   },
   "outputs": [],
   "source": [
    "\n",
    "\n"
   ]
  },
  {
   "cell_type": "code",
   "execution_count": null,
   "metadata": {
    "collapsed": true
   },
   "outputs": [],
   "source": []
  }
 ],
 "metadata": {
  "kernelspec": {
   "display_name": "Python 3",
   "language": "python",
   "name": "python3"
  },
  "language_info": {
   "codemirror_mode": {
    "name": "ipython",
    "version": 3
   },
   "file_extension": ".py",
   "mimetype": "text/x-python",
   "name": "python",
   "nbconvert_exporter": "python",
   "pygments_lexer": "ipython3",
   "version": "3.5.2"
  }
 },
 "nbformat": 4,
 "nbformat_minor": 1
}
