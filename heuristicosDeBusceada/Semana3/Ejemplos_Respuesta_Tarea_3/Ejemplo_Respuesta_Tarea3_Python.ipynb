{
 "cells": [
  {
   "cell_type": "markdown",
   "metadata": {
    "deletable": true,
    "editable": true
   },
   "source": [
    "# Formato para la implementación de los ejercicios de la Tarea  3 en Python"
   ]
  },
  {
   "cell_type": "markdown",
   "metadata": {
    "deletable": true,
    "editable": true
   },
   "source": [
    "### Los programas implementados para la  solución de los ejercicios se evaluarán ejecutando una notebook con el formato que se describe a continuación. Cada estudiante debe asegurarse que sus programas se ejecutan de manera correcta y en un tiempo razonable utilizando este formato. "
   ]
  },
  {
   "cell_type": "markdown",
   "metadata": {
    "collapsed": false,
    "deletable": true,
    "editable": true
   },
   "source": [
    "### Los programas se pueden implementar en Python ó R. No deben implementarse en los dos lenguajes pues solamente se evaluará en uno de ellos. El código en Python o R podrá incluirse directamente en las celdas de la notebook o implementarse independientemente para ser invocado DESDE LA NOTEBOOK. Es decir, los programas no se evaluarán independientemente sino a partir del llamado que se hace en la notebook. "
   ]
  },
  {
   "cell_type": "code",
   "execution_count": 5,
   "metadata": {
    "collapsed": false,
    "deletable": true,
    "editable": true
   },
   "outputs": [],
   "source": [
    "# Ejemplo de resolución del problema QAP en Python\n",
    "\n",
    "# Importamos las librerías imprescindibles para la ejecución del ejercicio\n",
    "import numpy as np\n",
    "\n",
    "\n",
    "def ReadQAPInstance(fname):\n",
    "  # Este programa recibe el nombre y ubicación de un fichero con los datos de una instancia del problema QAP\n",
    "  # y devuelve una estructura con los datos de la instancia.\n",
    "  QAPInstance = {}\n",
    "  return QAPInstance\n",
    "\n",
    "\n",
    "\n",
    "def QAPEA(fname,psize,ngen):\n",
    "  evals = np.zeros((ngen))\n",
    "  best_sol = []\n",
    " \n",
    "  my_LOP_Instance = ReadQAPInstance(fname)  # Se lee la instancia\n",
    "  # En los siguientes pasos se implementa el algoritmo evolutivo para el problema QAP\n",
    "\n",
    "  # Finalmente se devuelven un vector con el mejor valor encontrado hasta cada generación k así como la mejor solución\n",
    "  return evals,best_sol        \n",
    "    "
   ]
  },
  {
   "cell_type": "code",
   "execution_count": 6,
   "metadata": {
    "collapsed": false,
    "deletable": true,
    "editable": true
   },
   "outputs": [
    {
     "name": "stdout",
     "output_type": "stream",
     "text": [
      "(10, 1, array([ 0.,  0.,  0.,  0.,  0.,  0.,  0.,  0.,  0.,  0.,  0.,  0.,  0.,\n",
      "        0.,  0.,  0.,  0.,  0.,  0.,  0.]), [])\n",
      "(10, 2, array([ 0.,  0.,  0.,  0.,  0.,  0.,  0.,  0.,  0.,  0.,  0.,  0.,  0.,\n",
      "        0.,  0.,  0.,  0.,  0.,  0.,  0.]), [])\n",
      "(50, 1, array([ 0.,  0.,  0.,  0.,  0.,  0.,  0.,  0.,  0.,  0.,  0.,  0.,  0.,\n",
      "        0.,  0.,  0.,  0.,  0.,  0.,  0.]), [])\n",
      "(50, 2, array([ 0.,  0.,  0.,  0.,  0.,  0.,  0.,  0.,  0.,  0.,  0.,  0.,  0.,\n",
      "        0.,  0.,  0.,  0.,  0.,  0.,  0.]), [])\n"
     ]
    }
   ],
   "source": [
    "# En esta parte comprobamos la implementación de los programas. \n",
    "# Esta celda no debe ser modificada\n",
    "\n",
    "\n",
    "popsize = 100\n",
    "n_gen = 20\n",
    "\n",
    "\n",
    "# Evaluación del algoritmo para 2 instancias de tamaño 10\n",
    "filename_base = '../Instances/QAP/Cebe.qap.n10.'\n",
    "for i in range(2):\n",
    "  fname  = filename_base+str(i+1)\n",
    "  evals,best_sol = QAPEA(fname,popsize,n_gen)    \n",
    "  print(10,i+1,evals,best_sol)  \n",
    "\n",
    "# Evaluación del algoritmo para 2 instancias de tamaño 50\n",
    "filename_base = '../Instances/QAP/Cebe.qap.n50.'\n",
    "for i in range(2):\n",
    "  fname  = filename_base+str(i+1)\n",
    "  evals,best_sol = QAPEA(fname,popsize,n_gen)    \n",
    "  print(50,i+1,evals,best_sol)  \n",
    "    \n"
   ]
  },
  {
   "cell_type": "code",
   "execution_count": 3,
   "metadata": {
    "collapsed": false,
    "deletable": true,
    "editable": true
   },
   "outputs": [],
   "source": [
    "# Ejemplo de la implementación del algoritmo evolutivo para el problema BipPart en Python\n",
    "\n",
    "# Importamos las librerías imprescindibles para la ejecución del ejercicio\n",
    "import numpy as np\n",
    "\n",
    "\n",
    "def Read_Bip_Instance(fname):\n",
    "  # Este programa recibe el nombre y ubicación de un fichero con los datos de una instancia del problema BipPart\n",
    "  # y devuelve una estructura con los datos de la instancia.\n",
    "  BipPartInstance = {}\n",
    "  return BipPartInstance\n",
    "\n",
    "def BipEA(fname,psize,ngen):\n",
    "  evals = np.zeros((ngen))\n",
    "  best_sol = []\n",
    "\n",
    "  my_BipPart_Instance = Read_Bip_Instance(fname)  # Se lee la instancia\n",
    "  # En los siguientes pasos se implementa el algoritmo evolutivo para el problema BipPart \n",
    "\n",
    "  # Finalmente se devuelven un vector con el mejor valor encontrado hasta cada generación k así como la mejor solución\n",
    "  return evals,best_sol        \n",
    "\n"
   ]
  },
  {
   "cell_type": "code",
   "execution_count": 4,
   "metadata": {
    "collapsed": false,
    "deletable": true,
    "editable": true
   },
   "outputs": [
    {
     "name": "stdout",
     "output_type": "stream",
     "text": [
      "(10, 1, array([ 0.,  0.,  0.,  0.,  0.,  0.,  0.,  0.,  0.,  0.,  0.,  0.,  0.,\n",
      "        0.,  0.,  0.,  0.,  0.,  0.,  0.]), [])\n",
      "(10, 2, array([ 0.,  0.,  0.,  0.,  0.,  0.,  0.,  0.,  0.,  0.,  0.,  0.,  0.,\n",
      "        0.,  0.,  0.,  0.,  0.,  0.,  0.]), [])\n",
      "(50, 1, array([ 0.,  0.,  0.,  0.,  0.,  0.,  0.,  0.,  0.,  0.,  0.,  0.,  0.,\n",
      "        0.,  0.,  0.,  0.,  0.,  0.,  0.]), [])\n",
      "(50, 2, array([ 0.,  0.,  0.,  0.,  0.,  0.,  0.,  0.,  0.,  0.,  0.,  0.,  0.,\n",
      "        0.,  0.,  0.,  0.,  0.,  0.,  0.]), [])\n"
     ]
    }
   ],
   "source": [
    "# En esta parte comprobamos la implementación de los programas. \n",
    "# Esta celda no debe ser modificada\n",
    "\n",
    "popsize = 100\n",
    "n_gen = 20\n",
    "\n",
    "#  EA para 2 instancias de tamaño n=10\n",
    "filename_base = '../Instances/BIPART/Cebe.bip.n10.'\n",
    "for i in range(2):\n",
    "  fname  = filename_base+str(i+1)\n",
    "  evals,best_sol = BipEA(fname,popsize,n_gen)  \n",
    "  print(10,i+1,evals,best_sol)  \n",
    "\n",
    "#  EA para 2 instancias de tamaño n=50\n",
    "filename_base = '../Instances/BIPART/Cebe.bip.n50.'\n",
    "for i in range(2):\n",
    "  fname  = filename_base+str(i+1)\n",
    "  evals,best_sol = BipEA(fname,popsize,n_gen)  \n",
    "  print(50,i+1,evals,best_sol)  \n",
    "\n",
    "\n",
    "    \n",
    "      \n",
    "    \n"
   ]
  },
  {
   "cell_type": "code",
   "execution_count": null,
   "metadata": {
    "collapsed": true,
    "deletable": true,
    "editable": true
   },
   "outputs": [],
   "source": [
    "\n",
    "\n"
   ]
  },
  {
   "cell_type": "code",
   "execution_count": null,
   "metadata": {
    "collapsed": true,
    "deletable": true,
    "editable": true
   },
   "outputs": [],
   "source": []
  }
 ],
 "metadata": {
  "kernelspec": {
   "display_name": "Python 2",
   "language": "python",
   "name": "python2"
  },
  "language_info": {
   "codemirror_mode": {
    "name": "ipython",
    "version": 2
   },
   "file_extension": ".py",
   "mimetype": "text/x-python",
   "name": "python",
   "nbconvert_exporter": "python",
   "pygments_lexer": "ipython2",
   "version": "2.7.12"
  }
 },
 "nbformat": 4,
 "nbformat_minor": 0
}
