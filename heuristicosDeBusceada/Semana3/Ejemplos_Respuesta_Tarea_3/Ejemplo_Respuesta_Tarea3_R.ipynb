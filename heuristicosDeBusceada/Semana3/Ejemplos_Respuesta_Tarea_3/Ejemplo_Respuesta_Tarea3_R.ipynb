{
 "cells": [
  {
   "cell_type": "markdown",
   "metadata": {
    "deletable": true,
    "editable": true
   },
   "source": [
    "# Formato para la implementación de los ejercicios de la Tarea  2  en  R"
   ]
  },
  {
   "cell_type": "markdown",
   "metadata": {
    "deletable": true,
    "editable": true
   },
   "source": [
    "### Los programas implementados para la  solución de los ejercicios se evaluarán ejecutando una notebook con el formato que se describe a continuación. Cada estudiante debe asegurarse que sus programas se ejecutan de manera correcta y en un tiempo razonable utilizando este formato. "
   ]
  },
  {
   "cell_type": "markdown",
   "metadata": {
    "deletable": true,
    "editable": true
   },
   "source": [
    "### Los programas se pueden implementar en Python ó R. No deben implementarse en los dos lenguajes pues solamente se evaluará en uno de ellos. El código en Python o R podrá incluirse directamente en las celdas de la notebook o implementarse independientemente para ser invocado DESDE LA NOTEBOOK. Es decir, los programas no se evaluarán independientemente sino a partir del llamado que se hace en la notebook. "
   ]
  },
  {
   "cell_type": "code",
   "execution_count": 1,
   "metadata": {
    "collapsed": false,
    "deletable": true,
    "editable": true
   },
   "outputs": [],
   "source": [
    "\n",
    "ReadQAPInstance <- function(fname){\n",
    "   # Este programa recibe el nombre y ubicación de un fichero con los datos de una instancia del problema QAP\n",
    "   # y devuelve una estructura con los datos de la instancia.\n",
    "   QAPInstance <- 0\n",
    "   return(QAPInstance)  \n",
    "}\n",
    "\n",
    "# Implementación del algoritmo evolutivo\n",
    "QAPEA <- function(fname,psize,ngen){\n",
    "  evals <- c()\n",
    "  best_sol <- c()\n",
    "    \n",
    "  my_LOP_Instance <- ReadQAPInstance(fname)  # Se lee la instancia\n",
    "  # En los siguientes pasos se implementa el algoritmo evolutivo para el problema QAP \n",
    "\n",
    "    \n",
    "    \n",
    "  # Finalmente se devuelven un vector con el mejor valor encontrado hasta cada generación k así como la mejor solución\n",
    "  return(c(evals,best_sol))      \n",
    " }     \n",
    "     \n",
    " \n",
    "  \n",
    "     \n",
    "     "
   ]
  },
  {
   "cell_type": "code",
   "execution_count": 2,
   "metadata": {
    "collapsed": false,
    "deletable": true,
    "editable": true
   },
   "outputs": [
    {
     "name": "stdout",
     "output_type": "stream",
     "text": [
      "[1] 10  1\n",
      "[1] 10  2\n",
      "[1] 50  1\n",
      "[1] 50  2\n"
     ]
    }
   ],
   "source": [
    "# En esta parte comprobamos la implementación de los programas. \n",
    "# Esta celda no debe ser modificada\n",
    "\n",
    "popsize <-100\n",
    "n_gen <- 20\n",
    "\n",
    "# Búsqueda local para 2 instancias de tamaño 10\n",
    "filename_base = \"../Instances/QAP/Cebe.qap.n10.\"\n",
    "for (i in 1:2){  \n",
    "  fname <- paste(filename_base,toString(i),sep = \"\") \n",
    "  result <- QAPEA(fname,popsize,n_gen)\n",
    "  print(c(10,i,result))  \n",
    " }   \n",
    "\n",
    "\n",
    "# Búsqueda local para 2 instancias de tamaño 50\n",
    "filename_base = \"../Instances/QAP/Cebe.qap.n50.\"\n",
    "for (i in 1:2){  \n",
    "  fname <- paste(filename_base,toString(i),sep = \"\") \n",
    "  result <- QAPEA(fname,popsize,n_gen)\n",
    "  print(c(50,i,result))  \n",
    " }     \n",
    "  \n",
    "  \n",
    "    \n",
    "    "
   ]
  },
  {
   "cell_type": "code",
   "execution_count": 5,
   "metadata": {
    "collapsed": true,
    "deletable": true,
    "editable": true
   },
   "outputs": [],
   "source": [
    "# Ejemplo de implementación del algoritmo evolutivo para el problema BipPart\n",
    "\n",
    "ReadBipPartInstance <- function(fname){\n",
    "  # Este programa recibe el nombre y ubicación de un fichero con los datos de una instancia del problema BipPart\n",
    "  # y devuelve una estructura con los datos de la instancia.\n",
    "   BipPartInstance <- 0\n",
    "   return(BipPartInstance)  \n",
    "}\n",
    "\n",
    "# Implementación del algoritmo evolutivo\n",
    "BipEA <- function(fname,psize,ngen){\n",
    "  evals <- c()\n",
    "  best_sol <- c()\n",
    "  my_NumPart_Instance <- ReadBipPartInstance(fname)  # Se lee la instancia \n",
    "  \n",
    "  # En los siguientes pasos se implementa el algoritmo evolutivo para el problema BipPart\n",
    "\n",
    "    \n",
    "    \n",
    "   # Finalmente se devuelven un vector con el mejor valor encontrado hasta cada generación k así como la mejor solución\n",
    "  return(c(evals,best_sol))      \n",
    " }     \n",
    "     \n",
    " \n"
   ]
  },
  {
   "cell_type": "code",
   "execution_count": 6,
   "metadata": {
    "collapsed": false,
    "deletable": true,
    "editable": true
   },
   "outputs": [
    {
     "name": "stdout",
     "output_type": "stream",
     "text": [
      "[1] 10  1\n",
      "[1] 10  2\n",
      "[1] 50  1\n",
      "[1] 50  2\n"
     ]
    }
   ],
   "source": [
    "# En esta parte comprobamos la implementación de los programas. \n",
    "# Esta celda no debe ser modificada\n",
    "\n",
    "popsize <-100\n",
    "n_gen <- 20\n",
    "\n",
    "#  EA para 2 instancias de tamaño n=10\n",
    "filename_base = \"../Instances/BIPART/Cebe.bip.n10.\"\n",
    "for (i in 1:2){  \n",
    "  fname <- paste(filename_base,toString(i),sep = \"\") \n",
    "  result <- BipEA(fname,popsize,n_gen)\n",
    "  print(c(10,i,result))  \n",
    " }   \n",
    "\n",
    "#  EA para 2 instancias de tamaño n=50\n",
    "filename_base = \"../Instances/BIPART/Cebe.bip.n50.\"\n",
    "for (i in 1:2){  \n",
    "  fname <- paste(filename_base,toString(i),sep = \"\") \n",
    "  result <- BipEA(fname,popsize,n_gen)\n",
    "  print(c(50,i,result))  \n",
    " }   \n",
    "    "
   ]
  },
  {
   "cell_type": "code",
   "execution_count": null,
   "metadata": {
    "collapsed": true,
    "deletable": true,
    "editable": true
   },
   "outputs": [],
   "source": []
  }
 ],
 "metadata": {
  "kernelspec": {
   "display_name": "R",
   "language": "R",
   "name": "ir"
  },
  "language_info": {
   "codemirror_mode": "r",
   "file_extension": ".r",
   "mimetype": "text/x-r-source",
   "name": "R",
   "pygments_lexer": "r",
   "version": "3.4.3"
  }
 },
 "nbformat": 4,
 "nbformat_minor": 2
}
