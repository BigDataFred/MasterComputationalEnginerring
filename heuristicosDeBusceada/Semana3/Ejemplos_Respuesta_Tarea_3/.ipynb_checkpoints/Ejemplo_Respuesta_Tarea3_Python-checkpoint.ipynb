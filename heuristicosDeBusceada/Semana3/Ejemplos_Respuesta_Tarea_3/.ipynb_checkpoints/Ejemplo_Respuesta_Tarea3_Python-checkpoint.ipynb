{
 "cells": [
  {
   "cell_type": "markdown",
   "metadata": {},
   "source": [
    "# Formato para la implementación de los ejercicios de la Tarea  3 en Python"
   ]
  },
  {
   "cell_type": "markdown",
   "metadata": {},
   "source": [
    "### Los programas implementados para la  solución de los ejercicios se evaluarán ejecutando una notebook con el formato que se describe a continuación. Cada estudiante debe asegurarse que sus programas se ejecutan de manera correcta y en un tiempo razonable utilizando este formato. "
   ]
  },
  {
   "cell_type": "markdown",
   "metadata": {},
   "source": [
    "### Los programas se pueden implementar en Python ó R. No deben implementarse en los dos lenguajes pues solamente se evaluará en uno de ellos. El código en Python o R podrá incluirse directamente en las celdas de la notebook o implementarse independientemente para ser invocado DESDE LA NOTEBOOK. Es decir, los programas no se evaluarán independientemente sino a partir del llamado que se hace en la notebook. "
   ]
  },
  {
   "cell_type": "code",
   "execution_count": 41,
   "metadata": {},
   "outputs": [],
   "source": [
    "# Ejemplo de resolución del problema QAP en Python\n",
    "\n",
    "# Importamos las librerías imprescindibles para la ejecución del ejercicio\n",
    "import numpy as np\n",
    "\n",
    "\n",
    "def ReadQAPInstance(fname):\n",
    "    # Este programa recibe el nombre y ubicación de un fichero con los datos de una instancia del problema QAP\n",
    "    # y devuelve una estructura con los datos de la instancia.\n",
    "    hdl = open(fname, 'r')\n",
    "    mylist = hdl.readlines()\n",
    "    hdl.close()\n",
    "    n = eval(mylist[0])\n",
    "\n",
    "    w  = np.zeros((n,n))\n",
    "    for i in range(n):\n",
    "        for j,val in enumerate(mylist[i+1].split()):     \n",
    "            w[i,j]=eval(val)\n",
    "    \n",
    "    d  = np.zeros((n,n))\n",
    "    for i in range(n,2*n):\n",
    "        for j,val in enumerate(mylist[i+1].split()):     \n",
    "            d[i-n,j]=eval(val)\n",
    "    \n",
    "    QAPInstance = { \"weights\" : w,\n",
    "                   \"distances\" : d}\n",
    "\n",
    "    return QAPInstance"
   ]
  },
  {
   "cell_type": "code",
   "execution_count": 42,
   "metadata": {},
   "outputs": [],
   "source": [
    "def QAPEvaluator( Dist_Matrix, Weigth_Matrix, permutation):\n",
    "    n = Dist_Matrix.shape[0]   \n",
    "    perm = np.asarray(permutation)# La representación en python comienza en cero   \n",
    "    val_qap = 0  # \n",
    "    for i in range(n):\n",
    "        for j in range(n):    \n",
    "            val_qap = val_qap + Weigth_Matrix[i,j] * Dist_Matrix[perm[i],perm[j]]# Coste utlizacion entre instalaciones consecutivas   \n",
    "  \n",
    "    # Finalmente se devuelve el resultado\n",
    "    return (val_qap,)"
   ]
  },
  {
   "cell_type": "code",
   "execution_count": 43,
   "metadata": {},
   "outputs": [],
   "source": [
    "import random\n",
    "from deap import algorithms, base, creator, tools\n",
    "\n",
    "def QAPEA(fname,psize,ngen):\n",
    "    evals = np.zeros((ngen))\n",
    "    best_sol = []\n",
    " \n",
    "    my_QAP_Instance = ReadQAPInstance(fname)  # Se lee la instancia\n",
    "    \n",
    "    Dist_Matrix       = my_QAP_Instance[\"distances\"]\n",
    "    Weigth_Matrix     = my_QAP_Instance[\"weights\"]\n",
    "    \n",
    "    # En los siguientes pasos se implementa el algoritmo evolutivo para el problema QAP\n",
    "    # Se crea una clase FitnessMax para la maximización de funciones\n",
    "    creator.create(\"FitnessMin\", base.Fitness, weights=(-1.0,))\n",
    "    # Se crea una clase individuo asociada a la clase FitnessMin\n",
    "    creator.create(\"Individual\", list, fitness=creator.FitnessMin)\n",
    "    \n",
    "    # Heredamos las clases y funciones implementadas como parte de DEAP\n",
    "    toolbox = base.Toolbox()\n",
    "    \n",
    "    # Utilizaremos una representación int aleatoria entre 1 y 10\n",
    "    IND_SIZE = int(fname[-4:-2])\n",
    "    toolbox.register(\"indices\", random.sample,range(0,IND_SIZE,1),IND_SIZE)\n",
    "    \n",
    "    # Definimos que nuestros individuos tendrán secuencias de tamaño IND_SIZE  \n",
    "    toolbox.register(\"individual\", tools.initIterate, creator.Individual, toolbox.indices)\n",
    "    \n",
    "    # Definimos la población a partir de los individuos\n",
    "    toolbox.register(\"population\", tools.initRepeat, list, toolbox.individual)\n",
    "    \n",
    "    # Asociamos como función de aptitud la función QAPEvaluator\n",
    "    toolbox.register(\"evaluate\", QAPEvaluator,Dist_Matrix,Weigth_Matrix)\n",
    "    \n",
    "    # Nuestro operador de cruzamiento basado en correspondencia parcial\n",
    "    toolbox.register(\"mate\", tools.cxPartialyMatched)\n",
    "    \n",
    "    # El operador de mutación con una probabilidad de mutación de 0.05\n",
    "    toolbox.register(\"mutate\", tools.mutShuffleIndexes,indpb=0.05)\n",
    "    \n",
    "    # Usaremos selección por mejor individuo\n",
    "    toolbox.register(\"select\", tools.selBest)\n",
    "\n",
    "\n",
    "    # La población tendrá 150 individuos\n",
    "    pop = toolbox.population(n=psize)\n",
    "    # El algoritmo evolutivo simple utiliza los siguientes parámetros\n",
    "    # Probabilidad de cruzamiento 0.5\n",
    "    # Probabilidad de aplicar el operador de mutación 0.2\n",
    "    # Número de generaciones ngen\n",
    "    stats = tools.Statistics(lambda ind: ind.fitness.values)\n",
    "    stats.register(\"min\", np.min)\n",
    "\n",
    "    pop, logbook = algorithms.eaSimple(pop, toolbox, stats=stats,cxpb=0.5, mutpb=0.05, ngen=ngen, verbose=False)\n",
    "    evals = logbook.select('min')[1:ngen+1]\n",
    "    best_sol = list( ( np.asarray( tools.selBest(pop, k=1) )+1 ).flatten() )\n",
    "        \n",
    "    # Finalmente se devuelven un vector con el mejor valor encontrado hasta cada generación k así como la mejor solución\n",
    "    return evals,best_sol        \n",
    "    "
   ]
  },
  {
   "cell_type": "code",
   "execution_count": 44,
   "metadata": {},
   "outputs": [
    {
     "name": "stderr",
     "output_type": "stream",
     "text": [
      "/Users/froux/opt/anaconda3/lib/python3.7/site-packages/deap/creator.py:141: RuntimeWarning: A class named 'FitnessMin' has already been created and it will be overwritten. Consider deleting previous creation of that class or rename it.\n",
      "  RuntimeWarning)\n"
     ]
    },
    {
     "name": "stdout",
     "output_type": "stream",
     "text": [
      "10 1 [9629002.0, 10460558.0, 7540422.0, 11244655.0, 10016078.0, 9794449.0, 7585812.0, 8918897.0, 8918897.0, 8918897.0, 9883628.0, 8341022.0, 7458319.0, 9170066.0, 5668777.0, 5668777.0, 5668777.0, 5668777.0, 5668777.0, 9455369.0] [8, 2, 10, 9, 7, 3, 5, 4, 6, 1]\n",
      "10 2 [212446.0, 209722.0, 208869.0, 208869.0, 206117.0, 206117.0, 200169.0, 209722.0, 207635.0, 209124.0, 211652.0, 211652.0, 207396.0, 202913.0, 202913.0, 202913.0, 202913.0, 202913.0, 202913.0, 211220.0] [5, 10, 8, 9, 1, 4, 2, 7, 3, 6]\n",
      "50 1 [557892383.0, 527867791.0, 564532175.0, 511308017.0, 550877459.0, 550877459.0, 575382407.0, 551671849.0, 525726360.0, 525726360.0, 543757878.0, 527976950.0, 546948350.0, 530472541.0, 554994887.0, 534340336.0, 534340336.0, 537623712.0, 534706376.0, 542802712.0] [14, 27, 46, 21, 11, 10, 28, 24, 15, 6, 33, 20, 17, 19, 7, 38, 1, 48, 2, 35, 40, 42, 12, 44, 45, 18, 29, 23, 49, 22, 25, 3, 37, 31, 36, 43, 41, 32, 39, 5, 26, 4, 16, 50, 47, 8, 9, 34, 13, 30]\n",
      "50 2 [5814651.0, 5830905.0, 5814883.0, 5808315.0, 5794935.0, 5818173.0, 5799223.0, 5799223.0, 5799223.0, 5772252.0, 5795192.0, 5776176.0, 5816932.0, 5809554.0, 5809554.0, 5809554.0, 5809554.0, 5815252.0, 5815252.0, 5815252.0] [12, 25, 37, 17, 7, 9, 16, 30, 18, 42, 50, 40, 41, 39, 23, 2, 8, 48, 5, 28, 43, 19, 10, 11, 14, 4, 1, 20, 33, 45, 36, 46, 34, 13, 22, 26, 35, 21, 29, 38, 24, 32, 15, 47, 49, 6, 44, 3, 27, 31]\n"
     ]
    }
   ],
   "source": [
    "# En esta parte comprobamos la implementación de los programas. \n",
    "# Esta celda no debe ser modificada\n",
    "\n",
    "\n",
    "popsize = 100\n",
    "n_gen = 20\n",
    "\n",
    "\n",
    "# Evaluación del algoritmo para 2 instancias de tamaño 10\n",
    "filename_base = '../Instances/QAP/Cebe.qap.n10.'\n",
    "for i in range(2):\n",
    "  fname  = filename_base+str(i+1)\n",
    "  evals,best_sol = QAPEA(fname,popsize,n_gen)    \n",
    "  print(10,i+1,evals,best_sol)  \n",
    "\n",
    "# Evaluación del algoritmo para 2 instancias de tamaño 50\n",
    "filename_base = '../Instances/QAP/Cebe.qap.n50.'\n",
    "for i in range(2):\n",
    "  fname  = filename_base+str(i+1)\n",
    "  evals,best_sol = QAPEA(fname,popsize,n_gen)    \n",
    "  print(50,i+1,evals,best_sol)  \n",
    "    "
   ]
  },
  {
   "cell_type": "code",
   "execution_count": 45,
   "metadata": {},
   "outputs": [],
   "source": [
    "# Ejemplo de la implementación del algoritmo evolutivo para el problema BipPart en Python\n",
    "\n",
    "# Importamos las librerías imprescindibles para la ejecución del ejercicio\n",
    "import numpy as np\n",
    "\n",
    "\n",
    "def Read_Bip_Instance(fname):\n",
    "    # Este programa recibe el nombre y ubicación de un fichero con los datos de una instancia del problema BiPartioning\n",
    "    # y devuelve una estructura con los datos de la instancia.\n",
    "    hdl = open(fname, 'r')           \n",
    "    mylist = hdl.readlines()\n",
    "    hdl.close()\n",
    "    n = eval(mylist[0])      \n",
    "    edge_weights = np.zeros((n,n))      # Pesos de las aristas \n",
    "    for i in range(n):\n",
    "        for j,val in enumerate(mylist[i+1].split()):     \n",
    "            edge_weights[i,j]=eval(val) \n",
    "    \n",
    "    BipPartInstance = {\"edge_weights\":edge_weights}\n",
    "\n",
    "    return BipPartInstance"
   ]
  },
  {
   "cell_type": "code",
   "execution_count": 154,
   "metadata": {},
   "outputs": [],
   "source": [
    "def BipEvaluator(edge_weights,solution):\n",
    "    n = edge_weights.shape[0]         # Número de nodos\n",
    "    #balance =  np.sum(solution) # Numero de nodos en una de las partes\n",
    "    fval = 0                  # Peso de las aristas entre partes del grafo\n",
    "    for i in range(n-1):\n",
    "        for j in range(i+1,n):\n",
    "            if solution[i]==1-solution[j]:      # Si estan en partes diferentes  \n",
    "                fval = fval+edge_weights[i,j]  \n",
    "\n",
    "    #feasible=(balance==n/2)            \n",
    "    # Finalmente se devuelve el resultado\n",
    "    return (fval,)#feasible,fval,balance"
   ]
  },
  {
   "cell_type": "code",
   "execution_count": 162,
   "metadata": {},
   "outputs": [],
   "source": [
    "import random\n",
    "from deap import algorithms, base, creator, tools\n",
    "\n",
    "# En los siguientes pasos se implementa el algoritmo evolutivo para el problema QAP\n",
    "# Se crea una clase FitnessMax para la maximización de funciones\n",
    "creator.create(\"FitnessMax\", base.Fitness, weights=(1.0,))\n",
    "# Se crea una clase individuo asociada a la clase FitnessMin\n",
    "creator.create(\"Individual\", list, fitness=creator.FitnessMax)\n",
    "    \n",
    "def BipEA(fname,psize,ngen):\n",
    "    \n",
    "    evals = np.zeros((ngen))\n",
    "    best_sol = []\n",
    "\n",
    "    my_BipPart_Instance = Read_Bip_Instance(fname)  # Se lee la instancia\n",
    "    edge_weights = my_BipPart_Instance[\"edge_weights\"]\n",
    "    IND_SIZE = int(fname[-4:-2])\n",
    "    \n",
    "    # Heredamos las clases y funciones implementadas como parte de DEAP\n",
    "    toolbox = base.Toolbox()\n",
    "    \n",
    "    # Utilizaremos una representación binaria\n",
    "    n = int(IND_SIZE/2)\n",
    "    init_sol = np.hstack((np.ones(n),np.zeros(n)))\n",
    "    toolbox.register(\"attr_bool\", np.random.permutation, init_sol)\n",
    "    \n",
    "    # Definimos que nuestros individuos tendrán secuencias de tamaño IND_SIZE  \n",
    "    toolbox.register(\"individual\", tools.initIterate, creator.Individual, toolbox.attr_bool)\n",
    "    \n",
    "    # Definimos la población a partir de los individuos\n",
    "    toolbox.register(\"population\", tools.initRepeat, list, toolbox.individual)\n",
    "    \n",
    "    # Asociamos como función de aptitud la función QAPEvaluator\n",
    "    toolbox.register(\"evaluate\", BipEvaluator,edge_weights)\n",
    "    \n",
    "    # Nuestro operador de cruzamiento basado en correspondencia parcial\n",
    "    toolbox.register(\"mate\", tools.cxOnePoint)\n",
    "    \n",
    "    # El operador de mutación con una probabilidad de mutación de 0.05\n",
    "    toolbox.register(\"mutate\", tools.mutFlipBit,indpb=0.05)\n",
    "    \n",
    "    # Usaremos selección por mejor individuo\n",
    "    toolbox.register(\"select\", tools.selRoulette )\n",
    "    \n",
    "    while True:\n",
    "        # La población tendrá psize individuos\n",
    "        pop = toolbox.population(n=psize)\n",
    "        # El algoritmo evolutivo simple utiliza los siguientes parámetros\n",
    "        # Probabilidad de cruzamiento 0.5\n",
    "        # Probabilidad de aplicar el operador de mutación 0.2\n",
    "        # Número de generaciones ngen\n",
    "        stats = tools.Statistics(lambda ind: ind.fitness.values)\n",
    "        stats.register(\"max\", np.max)\n",
    "        \n",
    "        pop, logbook = algorithms.eaSimple(pop, toolbox, stats=stats,cxpb=0.5, mutpb=0.2, ngen=ngen, verbose=False)\n",
    "        evals = logbook.select('max')[1:ngen+1]\n",
    "        best_sol = tools.selBest(pop, k=1)\n",
    "        if (len( np.where( np.asarray( best_sol ) == 1)[0] ) == int(IND_SIZE/2)): \n",
    "            # Finalmente se devuelven un vector con el mejor valor encontrado hasta cada generación k así como la mejor solución\n",
    "            return evals,best_sol \n",
    "                     "
   ]
  },
  {
   "cell_type": "code",
   "execution_count": 163,
   "metadata": {},
   "outputs": [
    {
     "ename": "AttributeError",
     "evalue": "'numpy.ndarray' object has no attribute 'fitness'",
     "output_type": "error",
     "traceback": [
      "\u001b[0;31m---------------------------------------------------------------------------\u001b[0m",
      "\u001b[0;31mAttributeError\u001b[0m                            Traceback (most recent call last)",
      "\u001b[0;32m<ipython-input-163-6b8f602fb580>\u001b[0m in \u001b[0;36m<module>\u001b[0;34m\u001b[0m\n\u001b[1;32m      9\u001b[0m \u001b[0;32mfor\u001b[0m \u001b[0mi\u001b[0m \u001b[0;32min\u001b[0m \u001b[0mrange\u001b[0m\u001b[0;34m(\u001b[0m\u001b[0;36m2\u001b[0m\u001b[0;34m)\u001b[0m\u001b[0;34m:\u001b[0m\u001b[0;34m\u001b[0m\u001b[0;34m\u001b[0m\u001b[0m\n\u001b[1;32m     10\u001b[0m   \u001b[0mfname\u001b[0m  \u001b[0;34m=\u001b[0m \u001b[0mfilename_base\u001b[0m\u001b[0;34m+\u001b[0m\u001b[0mstr\u001b[0m\u001b[0;34m(\u001b[0m\u001b[0mi\u001b[0m\u001b[0;34m+\u001b[0m\u001b[0;36m1\u001b[0m\u001b[0;34m)\u001b[0m\u001b[0;34m\u001b[0m\u001b[0;34m\u001b[0m\u001b[0m\n\u001b[0;32m---> 11\u001b[0;31m   \u001b[0mevals\u001b[0m\u001b[0;34m,\u001b[0m\u001b[0mbest_sol\u001b[0m \u001b[0;34m=\u001b[0m \u001b[0mBipEA\u001b[0m\u001b[0;34m(\u001b[0m\u001b[0mfname\u001b[0m\u001b[0;34m,\u001b[0m\u001b[0mpopsize\u001b[0m\u001b[0;34m,\u001b[0m\u001b[0mn_gen\u001b[0m\u001b[0;34m)\u001b[0m\u001b[0;34m\u001b[0m\u001b[0;34m\u001b[0m\u001b[0m\n\u001b[0m\u001b[1;32m     12\u001b[0m   \u001b[0mprint\u001b[0m\u001b[0;34m(\u001b[0m\u001b[0;36m10\u001b[0m\u001b[0;34m,\u001b[0m\u001b[0mi\u001b[0m\u001b[0;34m+\u001b[0m\u001b[0;36m1\u001b[0m\u001b[0;34m,\u001b[0m\u001b[0mevals\u001b[0m\u001b[0;34m,\u001b[0m\u001b[0mbest_sol\u001b[0m\u001b[0;34m)\u001b[0m\u001b[0;34m\u001b[0m\u001b[0;34m\u001b[0m\u001b[0m\n\u001b[1;32m     13\u001b[0m \u001b[0;31m#  EA para 2 instancias de tamaño n=50\u001b[0m\u001b[0;34m\u001b[0m\u001b[0;34m\u001b[0m\u001b[0;34m\u001b[0m\u001b[0m\n",
      "\u001b[0;32m<ipython-input-162-719934538510>\u001b[0m in \u001b[0;36mBipEA\u001b[0;34m(fname, psize, ngen)\u001b[0m\n\u001b[1;32m     54\u001b[0m         \u001b[0mstats\u001b[0m\u001b[0;34m.\u001b[0m\u001b[0mregister\u001b[0m\u001b[0;34m(\u001b[0m\u001b[0;34m\"max\"\u001b[0m\u001b[0;34m,\u001b[0m \u001b[0mnp\u001b[0m\u001b[0;34m.\u001b[0m\u001b[0mmax\u001b[0m\u001b[0;34m)\u001b[0m\u001b[0;34m\u001b[0m\u001b[0;34m\u001b[0m\u001b[0m\n\u001b[1;32m     55\u001b[0m \u001b[0;34m\u001b[0m\u001b[0m\n\u001b[0;32m---> 56\u001b[0;31m         \u001b[0mpop\u001b[0m\u001b[0;34m,\u001b[0m \u001b[0mlogbook\u001b[0m \u001b[0;34m=\u001b[0m \u001b[0malgorithms\u001b[0m\u001b[0;34m.\u001b[0m\u001b[0meaSimple\u001b[0m\u001b[0;34m(\u001b[0m\u001b[0mpop\u001b[0m\u001b[0;34m,\u001b[0m \u001b[0mtoolbox\u001b[0m\u001b[0;34m,\u001b[0m \u001b[0mstats\u001b[0m\u001b[0;34m=\u001b[0m\u001b[0mstats\u001b[0m\u001b[0;34m,\u001b[0m\u001b[0mcxpb\u001b[0m\u001b[0;34m=\u001b[0m\u001b[0;36m0.5\u001b[0m\u001b[0;34m,\u001b[0m \u001b[0mmutpb\u001b[0m\u001b[0;34m=\u001b[0m\u001b[0;36m0.2\u001b[0m\u001b[0;34m,\u001b[0m \u001b[0mngen\u001b[0m\u001b[0;34m=\u001b[0m\u001b[0mngen\u001b[0m\u001b[0;34m,\u001b[0m \u001b[0mverbose\u001b[0m\u001b[0;34m=\u001b[0m\u001b[0;32mFalse\u001b[0m\u001b[0;34m)\u001b[0m\u001b[0;34m\u001b[0m\u001b[0;34m\u001b[0m\u001b[0m\n\u001b[0m\u001b[1;32m     57\u001b[0m         \u001b[0mevals\u001b[0m \u001b[0;34m=\u001b[0m \u001b[0mlogbook\u001b[0m\u001b[0;34m.\u001b[0m\u001b[0mselect\u001b[0m\u001b[0;34m(\u001b[0m\u001b[0;34m'max'\u001b[0m\u001b[0;34m)\u001b[0m\u001b[0;34m[\u001b[0m\u001b[0;36m1\u001b[0m\u001b[0;34m:\u001b[0m\u001b[0mngen\u001b[0m\u001b[0;34m+\u001b[0m\u001b[0;36m1\u001b[0m\u001b[0;34m]\u001b[0m\u001b[0;34m\u001b[0m\u001b[0;34m\u001b[0m\u001b[0m\n\u001b[1;32m     58\u001b[0m         \u001b[0mbest_sol\u001b[0m \u001b[0;34m=\u001b[0m \u001b[0mtools\u001b[0m\u001b[0;34m.\u001b[0m\u001b[0mselBest\u001b[0m\u001b[0;34m(\u001b[0m\u001b[0mpop\u001b[0m\u001b[0;34m,\u001b[0m \u001b[0mk\u001b[0m\u001b[0;34m=\u001b[0m\u001b[0;36m1\u001b[0m\u001b[0;34m)\u001b[0m\u001b[0;34m\u001b[0m\u001b[0;34m\u001b[0m\u001b[0m\n",
      "\u001b[0;32m~/opt/anaconda3/lib/python3.7/site-packages/deap/algorithms.py\u001b[0m in \u001b[0;36meaSimple\u001b[0;34m(population, toolbox, cxpb, mutpb, ngen, stats, halloffame, verbose)\u001b[0m\n\u001b[1;32m    149\u001b[0m     \u001b[0minvalid_ind\u001b[0m \u001b[0;34m=\u001b[0m \u001b[0;34m[\u001b[0m\u001b[0mind\u001b[0m \u001b[0;32mfor\u001b[0m \u001b[0mind\u001b[0m \u001b[0;32min\u001b[0m \u001b[0mpopulation\u001b[0m \u001b[0;32mif\u001b[0m \u001b[0;32mnot\u001b[0m \u001b[0mind\u001b[0m\u001b[0;34m.\u001b[0m\u001b[0mfitness\u001b[0m\u001b[0;34m.\u001b[0m\u001b[0mvalid\u001b[0m\u001b[0;34m]\u001b[0m\u001b[0;34m\u001b[0m\u001b[0;34m\u001b[0m\u001b[0m\n\u001b[1;32m    150\u001b[0m     \u001b[0mfitnesses\u001b[0m \u001b[0;34m=\u001b[0m \u001b[0mtoolbox\u001b[0m\u001b[0;34m.\u001b[0m\u001b[0mmap\u001b[0m\u001b[0;34m(\u001b[0m\u001b[0mtoolbox\u001b[0m\u001b[0;34m.\u001b[0m\u001b[0mevaluate\u001b[0m\u001b[0;34m,\u001b[0m \u001b[0minvalid_ind\u001b[0m\u001b[0;34m)\u001b[0m\u001b[0;34m\u001b[0m\u001b[0;34m\u001b[0m\u001b[0m\n\u001b[0;32m--> 151\u001b[0;31m     \u001b[0;32mfor\u001b[0m \u001b[0mind\u001b[0m\u001b[0;34m,\u001b[0m \u001b[0mfit\u001b[0m \u001b[0;32min\u001b[0m \u001b[0mzip\u001b[0m\u001b[0;34m(\u001b[0m\u001b[0minvalid_ind\u001b[0m\u001b[0;34m,\u001b[0m \u001b[0mfitnesses\u001b[0m\u001b[0;34m)\u001b[0m\u001b[0;34m:\u001b[0m\u001b[0;34m\u001b[0m\u001b[0;34m\u001b[0m\u001b[0m\n\u001b[0m\u001b[1;32m    152\u001b[0m         \u001b[0mind\u001b[0m\u001b[0;34m.\u001b[0m\u001b[0mfitness\u001b[0m\u001b[0;34m.\u001b[0m\u001b[0mvalues\u001b[0m \u001b[0;34m=\u001b[0m \u001b[0mfit\u001b[0m\u001b[0;34m\u001b[0m\u001b[0;34m\u001b[0m\u001b[0m\n\u001b[1;32m    153\u001b[0m \u001b[0;34m\u001b[0m\u001b[0m\n",
      "\u001b[0;32m~/opt/anaconda3/lib/python3.7/site-packages/deap/tools/constraint.py\u001b[0m in \u001b[0;36mwrapper\u001b[0;34m(individual, *args, **kwargs)\u001b[0m\n\u001b[1;32m     49\u001b[0m                 \u001b[0;32mreturn\u001b[0m \u001b[0mfunc\u001b[0m\u001b[0;34m(\u001b[0m\u001b[0mindividual\u001b[0m\u001b[0;34m,\u001b[0m \u001b[0;34m*\u001b[0m\u001b[0margs\u001b[0m\u001b[0;34m,\u001b[0m \u001b[0;34m**\u001b[0m\u001b[0mkwargs\u001b[0m\u001b[0;34m)\u001b[0m\u001b[0;34m\u001b[0m\u001b[0;34m\u001b[0m\u001b[0m\n\u001b[1;32m     50\u001b[0m \u001b[0;34m\u001b[0m\u001b[0m\n\u001b[0;32m---> 51\u001b[0;31m             \u001b[0mweights\u001b[0m \u001b[0;34m=\u001b[0m \u001b[0mtuple\u001b[0m\u001b[0;34m(\u001b[0m\u001b[0;36m1\u001b[0m \u001b[0;32mif\u001b[0m \u001b[0mw\u001b[0m \u001b[0;34m>=\u001b[0m \u001b[0;36m0\u001b[0m \u001b[0;32melse\u001b[0m \u001b[0;34m-\u001b[0m\u001b[0;36m1\u001b[0m \u001b[0;32mfor\u001b[0m \u001b[0mw\u001b[0m \u001b[0;32min\u001b[0m \u001b[0mindividual\u001b[0m\u001b[0;34m.\u001b[0m\u001b[0mfitness\u001b[0m\u001b[0;34m.\u001b[0m\u001b[0mweights\u001b[0m\u001b[0;34m)\u001b[0m\u001b[0;34m\u001b[0m\u001b[0;34m\u001b[0m\u001b[0m\n\u001b[0m\u001b[1;32m     52\u001b[0m \u001b[0;34m\u001b[0m\u001b[0m\n\u001b[1;32m     53\u001b[0m             \u001b[0mdists\u001b[0m \u001b[0;34m=\u001b[0m \u001b[0mtuple\u001b[0m\u001b[0;34m(\u001b[0m\u001b[0;36m0\u001b[0m \u001b[0;32mfor\u001b[0m \u001b[0mw\u001b[0m \u001b[0;32min\u001b[0m \u001b[0mindividual\u001b[0m\u001b[0;34m.\u001b[0m\u001b[0mfitness\u001b[0m\u001b[0;34m.\u001b[0m\u001b[0mweights\u001b[0m\u001b[0;34m)\u001b[0m\u001b[0;34m\u001b[0m\u001b[0;34m\u001b[0m\u001b[0m\n",
      "\u001b[0;31mAttributeError\u001b[0m: 'numpy.ndarray' object has no attribute 'fitness'"
     ]
    }
   ],
   "source": [
    "# En esta parte comprobamos la implementación de los programas. \n",
    "# Esta celda no debe ser modificada\n",
    "\n",
    "popsize = 100\n",
    "n_gen = 20\n",
    "\n",
    "#  EA para 2 instancias de tamaño n=10\n",
    "filename_base = '../Instances/BIPART/Cebe.bip.n10.'\n",
    "for i in range(2):\n",
    "  fname  = filename_base+str(i+1)\n",
    "  evals,best_sol = BipEA(fname,popsize,n_gen)  \n",
    "  print(10,i+1,evals,best_sol)  \n",
    "#  EA para 2 instancias de tamaño n=50\n",
    "filename_base = '../Instances/BIPART/Cebe.bip.n50.'\n",
    "for i in range(2):\n",
    "  fname  = filename_base+str(i+1)\n",
    "  evals,best_sol = BipEA(fname,popsize,n_gen)  \n",
    "  print(50,i+1,evals,best_sol)  \n"
   ]
  },
  {
   "cell_type": "code",
   "execution_count": null,
   "metadata": {},
   "outputs": [],
   "source": [
    "\n",
    "\n"
   ]
  },
  {
   "cell_type": "code",
   "execution_count": null,
   "metadata": {},
   "outputs": [],
   "source": []
  }
 ],
 "metadata": {
  "kernelspec": {
   "display_name": "Python 3",
   "language": "python",
   "name": "python3"
  },
  "language_info": {
   "codemirror_mode": {
    "name": "ipython",
    "version": 3
   },
   "file_extension": ".py",
   "mimetype": "text/x-python",
   "name": "python",
   "nbconvert_exporter": "python",
   "pygments_lexer": "ipython3",
   "version": "3.7.4"
  }
 },
 "nbformat": 4,
 "nbformat_minor": 1
}
