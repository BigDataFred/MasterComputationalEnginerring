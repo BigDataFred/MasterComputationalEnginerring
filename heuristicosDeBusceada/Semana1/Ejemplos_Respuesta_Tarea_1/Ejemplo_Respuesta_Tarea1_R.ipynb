{
 "cells": [
  {
   "cell_type": "markdown",
   "metadata": {
    "deletable": true,
    "editable": true
   },
   "source": [
    "# Formato para la implementación de los ejercicios de la Tarea  1 en  R"
   ]
  },
  {
   "cell_type": "markdown",
   "metadata": {
    "deletable": true,
    "editable": true
   },
   "source": [
    "### Los programas implementados para la  solución de los ejercicios se evaluarán ejecutando una notebook con el formato que se describe a continuación. Cada estudiante debe asegurarse que sus programas se ejecutan de manera correcta y en un tiempo razonable utilizando este formato. "
   ]
  },
  {
   "cell_type": "markdown",
   "metadata": {
    "deletable": true,
    "editable": true
   },
   "source": [
    "### Los programas se pueden implementar en Python ó R. No deben implementarse en los dos lenguajes pues solamente se evaluará en uno de ellos. El código en Python o R podrá incluirse directamente en las celdas de la notebook o implementarse independientemente para ser invocado DESDE LA NOTEBOOK. Es decir, los programas no se evaluarán independientemente sino a partir del llamado que se hace en la notebook. "
   ]
  },
  {
   "cell_type": "code",
   "execution_count": 1,
   "metadata": {
    "collapsed": true,
    "deletable": true,
    "editable": true
   },
   "outputs": [],
   "source": [
    "\n",
    "ReadQAPInstance <- function(fname){\n",
    "   # Este programa recibe el nombre y ubicación de un fichero con los datos de una instancia del problema QAP\n",
    "   # y devuelve una estructura con los datos de la instancia.\n",
    "   QAPInstance <- 0\n",
    "   return(QAPInstance)  \n",
    "}\n",
    "\n",
    "QAPEvaluator <- function(fname, permutation){\n",
    "  result <- 0\n",
    "  my_QAP_Instance <- ReadQAPInstance(fname)  # Se lee la instancia\n",
    "  # En los siguientes pasos se implementa la evaluación del problema QAP \n",
    "\n",
    "  # Finalmente se devuelve el resultado\n",
    "  return(result)      \n",
    " }     \n",
    "     \n",
    " \n",
    "     \n",
    "     "
   ]
  },
  {
   "cell_type": "code",
   "execution_count": 2,
   "metadata": {
    "collapsed": false,
    "deletable": true,
    "editable": true
   },
   "outputs": [
    {
     "name": "stdout",
     "output_type": "stream",
     "text": [
      "[1] 0\n",
      "[1] 10  1  0\n",
      "[1] 10  2  0\n",
      "[1] 10  3  0\n",
      "[1] 10  4  0\n",
      "[1] 10  5  0\n",
      "[1] 20  1  0\n",
      "[1] 20  2  0\n",
      "[1] 20  3  0\n",
      "[1] 20  4  0\n",
      "[1] 20  5  0\n",
      "[1] 30  1  0\n",
      "[1] 30  2  0\n",
      "[1] 30  3  0\n",
      "[1] 30  4  0\n",
      "[1] 30  5  0\n",
      "[1] 50  1  0\n",
      "[1] 50  2  0\n",
      "[1] 50  3  0\n",
      "[1] 50  4  0\n",
      "[1] 50  5  0\n"
     ]
    }
   ],
   "source": [
    "# En esta parte comprobamos la implementación de los programas. \n",
    "# Esta celda no debe ser modificada\n",
    "\n",
    "myperm <- c(3,4,1,2,5,10,8,7,6,9)\n",
    "eval <- QAPEvaluator('../../Instances/QAP/Cebe.qap.n10.1',myperm)\n",
    "print(eval)\n",
    "\n",
    "\n",
    "# Evaluación de una permutación para 5 instancias de tamaño 10\n",
    "filename_base = \"../Instances/QAP/Cebe.qap.n10.\"\n",
    "mypermutation_10 <- c(1,3,2,4,10,9,8,7,6,5)\n",
    "for (i in 1:5){  \n",
    "  fname <- paste(filename_base,toString(i),sep = \"\")\n",
    "  val <- QAPEvaluator(fname,mypermutation_10)\n",
    "  print(c(10,i,val))  \n",
    " }   \n",
    "\n",
    "\n",
    "# Evaluación de una permutación para 5 instancias de tamaño 20\n",
    "filename_base = \"../Instances/QAP/Cebe.qap.n20.\"\n",
    "mypermutation_20 <- c(1:20)\n",
    "for (i in 1:5){  \n",
    "  fname <- paste(filename_base,toString(i),sep = \"\")\n",
    "  val <- QAPEvaluator(fname,mypermutation_20)\n",
    "  print(c(20,i,val))  \n",
    " }   \n",
    "\n",
    "# Evaluación de una permutación para 5 instancias de tamaño 30\n",
    "filename_base = \"../Instances/QAP/Cebe.qap.n30.\"\n",
    "mypermutation_30 <- c(1:30)\n",
    "for (i in 1:5){  \n",
    "  fname <- paste(filename_base,toString(i),sep = \"\")\n",
    "  val <- QAPEvaluator(fname,mypermutation_30)\n",
    "  print(c(30,i,val))  \n",
    " }   \n",
    "\n",
    "\n",
    "# Evaluación de una permutación para 5 instancias de tamaño 50\n",
    "filename_base = \"../Instances/QAP/Cebe.qap.n50.\"\n",
    "mypermutation_50 <- c(1:50)\n",
    "for (i in 1:5){  \n",
    "  fname <- paste(filename_base,toString(i),sep = \"\")\n",
    "  val <- QAPEvaluator(fname,mypermutation_50)\n",
    "  print(c(50,i,val))  \n",
    " }   \n",
    "\n"
   ]
  },
  {
   "cell_type": "code",
   "execution_count": 3,
   "metadata": {
    "collapsed": true,
    "deletable": true,
    "editable": true
   },
   "outputs": [],
   "source": [
    "# Ejemplo de resolución del problema BiPart en R\n",
    "\n",
    "ReadBipInstance <- function(fname){\n",
    "  # Este programa recibe el nombre y ubicación de un fichero con los datos de una instancia del problema BiPart\n",
    "  # y devuelve una estructura con los datos de la instancia.\n",
    "   BipInstance <- 0\n",
    "   return(BipInstance)  \n",
    "}\n",
    "\n",
    "BipEvaluator <- function(fname, solution){\n",
    "  result <- 0\n",
    "  my_Bip_Instance <- ReadBipInstance(fname)  # Se lee la instancia\n",
    "  # En los siguientes pasos se implementa la evaluación del problema Bip \n",
    "\n",
    "  # Finalmente se devuelve el resultado\n",
    "  return(result)      \n",
    " }         \n",
    "\n",
    "\n",
    "\n",
    "\n"
   ]
  },
  {
   "cell_type": "code",
   "execution_count": 4,
   "metadata": {
    "collapsed": false,
    "deletable": true,
    "editable": true
   },
   "outputs": [
    {
     "name": "stdout",
     "output_type": "stream",
     "text": [
      "[1] 10  1  0\n",
      "[1] 10  2  0\n",
      "[1] 10  3  0\n",
      "[1] 10  4  0\n",
      "[1] 10  5  0\n",
      "[1] 20  1  0\n",
      "[1] 20  2  0\n",
      "[1] 20  3  0\n",
      "[1] 20  4  0\n",
      "[1] 20  5  0\n",
      "[1] 50  1  0\n",
      "[1] 50  2  0\n",
      "[1] 50  3  0\n",
      "[1] 50  4  0\n",
      "[1] 50  5  0\n",
      "[1] 80  1  0\n",
      "[1] 80  2  0\n",
      "[1] 80  3  0\n",
      "[1] 80  4  0\n",
      "[1] 80  5  0\n"
     ]
    }
   ],
   "source": [
    "# En esta parte comprobamos la implementación de los programas. \n",
    "# Esta celda no debe ser modificada\n",
    "\n",
    "# Evaluación de una solución para 5 instancias de tamaño 10\n",
    "filename_base = \"../Instances/BIPART/Cebe.bip.n10.\"\n",
    "my_solution_10 <- c(0,1,0,1,0,1,0,1,0,1)\n",
    "for (i in 1:5){  \n",
    "  fname <- paste(filename_base,toString(i),sep = \"\")\n",
    "  val <- BipEvaluator(fname,my_solution_10)\n",
    "  print(c(10,i,val))  \n",
    " }   \n",
    "\n",
    "\n",
    "# Evaluación de una solución para 5 instancias de tamaño 20\n",
    "filename_base = \"../Instances/BIPART/Cebe.bip.n20.\"\n",
    "my_solution_20 <- c(rep(1,10),rep(0,10))\n",
    "for (i in 1:5){  \n",
    "  fname <- paste(filename_base,toString(i),sep = \"\")\n",
    "  val <- BipEvaluator(fname,my_solution_20)\n",
    "  print(c(20,i,val))  \n",
    " }   \n",
    "\n",
    "\n",
    "# Evaluación de una solución para 5 instancias de tamaño 50\n",
    "filename_base = \"../Instances/BIPART/Cebe.bip.n50.\"\n",
    "my_solution_50 <- c(rep(1,25),rep(0,25))\n",
    "for (i in 1:5){  \n",
    "  fname <- paste(filename_base,toString(i),sep = \"\")\n",
    "  val <- BipEvaluator(fname,my_solution_50)\n",
    "  print(c(50,i,val))  \n",
    " }   \n",
    "\n",
    "\n",
    "# Evaluación de una solución para 5 instancias de tamaño 80\n",
    "filename_base = \"../Instances/BIPART/Cebe.bip.n80.\"\n",
    "my_solution_80 <- c(rep(1,40),rep(0,40))\n",
    "for (i in 1:5){  \n",
    "  fname <- paste(filename_base,toString(i),sep = \"\")\n",
    "  val <- BipEvaluator(fname,my_solution_80)\n",
    "  print(c(80,i,val))  \n",
    " }   \n"
   ]
  },
  {
   "cell_type": "code",
   "execution_count": null,
   "metadata": {
    "collapsed": true,
    "deletable": true,
    "editable": true
   },
   "outputs": [],
   "source": []
  }
 ],
 "metadata": {
  "kernelspec": {
   "display_name": "R",
   "language": "R",
   "name": "ir"
  },
  "language_info": {
   "codemirror_mode": "r",
   "file_extension": ".r",
   "mimetype": "text/x-r-source",
   "name": "R",
   "pygments_lexer": "r",
   "version": "3.4.3"
  }
 },
 "nbformat": 4,
 "nbformat_minor": 2
}
