{
 "cells": [
  {
   "cell_type": "markdown",
   "metadata": {},
   "source": [
    "# Formato para la implementación de los ejercicios de la Tarea  2 en Python"
   ]
  },
  {
   "cell_type": "markdown",
   "metadata": {},
   "source": [
    "### Los programas implementados para la  solución de los ejercicios se evaluarán ejecutando una notebook con el formato que se describe a continuación. Cada estudiante debe asegurarse que sus programas se ejecutan de manera correcta y en un tiempo razonable utilizando este formato. "
   ]
  },
  {
   "cell_type": "markdown",
   "metadata": {},
   "source": [
    "### Los programas se pueden implementar en Python ó R. No deben implementarse en los dos lenguajes pues solamente se evaluará en uno de ellos. El código en Python o R podrá incluirse directamente en las celdas de la notebook o implementarse independientemente para ser invocado DESDE LA NOTEBOOK. Es decir, los programas no se evaluarán independientemente sino a partir del llamado que se hace en la notebook. "
   ]
  },
  {
   "cell_type": "code",
   "execution_count": 1,
   "metadata": {},
   "outputs": [],
   "source": [
    "# Ejemplo de resolución del problema QAP en Python\n",
    "# Importamos las librerías imprescindibles para la ejecución del ejercicio\n",
    "import numpy as np"
   ]
  },
  {
   "cell_type": "code",
   "execution_count": 2,
   "metadata": {},
   "outputs": [],
   "source": [
    "def ReadQAPInstance(fname):\n",
    "    # Este programa recibe el nombre y ubicación de un fichero con los datos de una instancia del problema QAP\n",
    "    # y devuelve una estructura con los datos de la instancia.\n",
    "    hdl = open(fname, 'r')\n",
    "    mylist = hdl.readlines()\n",
    "    hdl.close()\n",
    "    n = eval(mylist[0])\n",
    "\n",
    "    w  = np.zeros((n,n))\n",
    "    for i in range(n):\n",
    "        for j,val in enumerate(mylist[i+1].split()):     \n",
    "            w[i,j]=eval(val)\n",
    "    \n",
    "    d  = np.zeros((n,n))\n",
    "    for i in range(n,2*n):\n",
    "        for j,val in enumerate(mylist[i+1].split()):     \n",
    "            d[i-n,j]=eval(val)\n",
    "    \n",
    "    QAPInstance = { \"weights\" : w,\n",
    "                   \"distances\" : d}\n",
    "\n",
    "    return QAPInstance"
   ]
  },
  {
   "cell_type": "code",
   "execution_count": 3,
   "metadata": {},
   "outputs": [],
   "source": [
    "def QAPEvaluator( Dist_Matrix, Weigth_Matrix, permutation):\n",
    "    n = Dist_Matrix.shape[0]   \n",
    "    perm = np.asarray(permutation) - 1                           # La representación en python comienza en cero   \n",
    "    val_qap = 0  # \n",
    "    for i in range(n):\n",
    "        for j in range(n):    \n",
    "            val_qap = val_qap + Weigth_Matrix[i,j] * Dist_Matrix[perm[i],perm[j]]# Coste utlizacion entre instalaciones consecutivas   \n",
    "  \n",
    "    # Finalmente se devuelve el resultado\n",
    "    return val_qap  "
   ]
  },
  {
   "cell_type": "code",
   "execution_count": 4,
   "metadata": {},
   "outputs": [],
   "source": [
    "#my_QAP_Instance = ReadQAPInstance('../Instances/QAP/Cebe.qap.n10.1')  \n",
    "  \n",
    "#Dist_Matrix     = my_QAP_Instance[\"distances\"]\n",
    "#Weigth_Matrix     = my_QAP_Instance[\"weights\"]\n",
    "\n",
    "#print(np.shape(Dist_Matrix))\n",
    "#print(np.shape(Weigth_Matrix))\n",
    "\n",
    "#QAPEvaluator( Dist_Matrix, Weigth_Matrix, [1,3,2,4,10,9,8,7,6,5])"
   ]
  },
  {
   "cell_type": "code",
   "execution_count": 5,
   "metadata": {},
   "outputs": [],
   "source": [
    "# Swap crea una vecindad basada en el operador de intercambio entre posiciones\n",
    "# Todas las permutaciones que se pueden obtener como un swap entre la primera posición\n",
    "# y cualquiera de las restantes están en la vecindad\n",
    "def getAllPairwiseComps(perm):\n",
    "    n = perm.shape[0]\n",
    "    n_neighbors = int( n*(n-1)/2 )           # Número de vecinos\n",
    "    neighbors = np.zeros((n_neighbors,n),dtype=int) # Guardaremos todos los vecinos en neighbors \n",
    "    ind = 0\n",
    "    for j in range(n):\n",
    "        for i in range(j+1,n):\n",
    "            neighbors[ind,:] = perm \n",
    "            neighbors[ind,i] = perm[j]\n",
    "            neighbors[ind,j] = perm[i]  \n",
    "            ind = ind + 1   \n",
    "    return neighbors"
   ]
  },
  {
   "cell_type": "code",
   "execution_count": 6,
   "metadata": {},
   "outputs": [],
   "source": [
    "#getAllPairwiseComps( np.array([1,2,3,4]) )"
   ]
  },
  {
   "cell_type": "code",
   "execution_count": 7,
   "metadata": {},
   "outputs": [],
   "source": [
    "#n=10\n",
    "#init_sol = np.random.permutation(n)+1\n",
    "#print( init_sol )\n",
    "#neighbors = getAllPairwiseComps(init_sol)\n",
    "#print( neighbors.shape[0] )"
   ]
  },
  {
   "cell_type": "code",
   "execution_count": 8,
   "metadata": {},
   "outputs": [],
   "source": [
    "def QAPLocalSearch(fname,permutation):\n",
    "    best_val = 0\n",
    "    init_sol = np.asarray( permutation )\n",
    "    \n",
    "    # IMPORTANTE:  Se lee la instancia  UNA SOLA VEZ.\n",
    "    # ES INCORRECTO LEER LA INSTANCIA DEL FICHERO CADA VEZ QUE SE EVALUA UNA SOLUCIÓN\n",
    "    my_QAP_Instance = ReadQAPInstance(fname)  \n",
    "  \n",
    "    Dist_Matrix       = my_QAP_Instance[\"distances\"]\n",
    "    Weigth_Matrix     = my_QAP_Instance[\"weights\"]\n",
    "    \n",
    "    # En los siguientes pasos se implementa la evaluación la búsqueda local en Python   \n",
    "    n = Dist_Matrix.shape[1]   \n",
    "    best_val = QAPEvaluator( Dist_Matrix, Weigth_Matrix, init_sol )              # Mejor valor\n",
    "    best_sol = init_sol                                             # Mejor solución \n",
    "    improvement = True\n",
    "    number_evaluations = 1   \n",
    "    while improvement:                    # Mientras se mejore el valor de la función\n",
    "        neighbors = getAllPairwiseComps(best_sol)       # Todos los vecinos\n",
    "        n_neighbors = neighbors.shape[0]\n",
    "        number_evaluations =  number_evaluations + n_neighbors  # Se calcula es número de evaluaciones\n",
    "        best_val_among_neighbors = best_val\n",
    "        for i in range(n_neighbors):                    # Se recorren todos los vecinos buscando el mejor \n",
    "            sol = neighbors[i,:]  \n",
    "            fval =  QAPEvaluator( Dist_Matrix, Weigth_Matrix, sol )    # Se evalua la función\n",
    "            if fval<best_val_among_neighbors:             # Si es mejor que el mejor valor entre los vecinos hasta el momento\n",
    "                best_val_among_neighbors = fval             # se actualiza el mejor valor\n",
    "                best_sol_among_neighbors = sol   \n",
    "        improvement = (best_val_among_neighbors<best_val) #  Se determina si ha habido mejora con respecto al ciclo anterior\n",
    "        if improvement:                                \n",
    "            best_val = best_val_among_neighbors           # Se actualiza el mejor valor y la mejor solución \n",
    "            best_sol = best_sol_among_neighbors      \n",
    "            #print(best_val,best_sol, number_evaluations)\n",
    "        if (number_evaluations > 1e6):\n",
    "            print(\"Iterations > 1e6. Aborting local search.\")\n",
    "            break\n",
    "\n",
    "    # Finalmente se devuelven el mejor valor encontrado así como la mejor solución\n",
    "    return best_val,best_sol       "
   ]
  },
  {
   "cell_type": "code",
   "execution_count": 9,
   "metadata": {},
   "outputs": [
    {
     "ename": "FileNotFoundError",
     "evalue": "[Errno 2] No such file or directory: '../Instances/QAP/Cebe.qap.n10.1'",
     "output_type": "error",
     "traceback": [
      "\u001b[0;31m---------------------------------------------------------------------------\u001b[0m",
      "\u001b[0;31mFileNotFoundError\u001b[0m                         Traceback (most recent call last)",
      "\u001b[0;32m<ipython-input-9-8b02520d8792>\u001b[0m in \u001b[0;36m<module>\u001b[0;34m\u001b[0m\n\u001b[1;32m      7\u001b[0m \u001b[0;32mfor\u001b[0m \u001b[0mi\u001b[0m \u001b[0;32min\u001b[0m \u001b[0mrange\u001b[0m\u001b[0;34m(\u001b[0m\u001b[0;36m5\u001b[0m\u001b[0;34m)\u001b[0m\u001b[0;34m:\u001b[0m\u001b[0;34m\u001b[0m\u001b[0;34m\u001b[0m\u001b[0m\n\u001b[1;32m      8\u001b[0m   \u001b[0mfname\u001b[0m  \u001b[0;34m=\u001b[0m \u001b[0mfilename_base\u001b[0m\u001b[0;34m+\u001b[0m\u001b[0mstr\u001b[0m\u001b[0;34m(\u001b[0m\u001b[0mi\u001b[0m\u001b[0;34m+\u001b[0m\u001b[0;36m1\u001b[0m\u001b[0;34m)\u001b[0m\u001b[0;34m\u001b[0m\u001b[0;34m\u001b[0m\u001b[0m\n\u001b[0;32m----> 9\u001b[0;31m   \u001b[0mbest_val\u001b[0m\u001b[0;34m,\u001b[0m\u001b[0mbest_sol\u001b[0m \u001b[0;34m=\u001b[0m \u001b[0mQAPLocalSearch\u001b[0m\u001b[0;34m(\u001b[0m\u001b[0mfname\u001b[0m\u001b[0;34m,\u001b[0m\u001b[0mmypermutation_10\u001b[0m\u001b[0;34m)\u001b[0m\u001b[0;34m\u001b[0m\u001b[0;34m\u001b[0m\u001b[0m\n\u001b[0m\u001b[1;32m     10\u001b[0m   \u001b[0mprint\u001b[0m\u001b[0;34m(\u001b[0m\u001b[0;36m10\u001b[0m\u001b[0;34m,\u001b[0m\u001b[0mi\u001b[0m\u001b[0;34m+\u001b[0m\u001b[0;36m1\u001b[0m\u001b[0;34m,\u001b[0m\u001b[0mbest_val\u001b[0m\u001b[0;34m,\u001b[0m\u001b[0mbest_sol\u001b[0m\u001b[0;34m)\u001b[0m\u001b[0;34m\u001b[0m\u001b[0;34m\u001b[0m\u001b[0m\n\u001b[1;32m     11\u001b[0m \u001b[0;34m\u001b[0m\u001b[0m\n",
      "\u001b[0;32m<ipython-input-8-21d10c2abdcd>\u001b[0m in \u001b[0;36mQAPLocalSearch\u001b[0;34m(fname, permutation)\u001b[0m\n\u001b[1;32m      5\u001b[0m     \u001b[0;31m# IMPORTANTE:  Se lee la instancia  UNA SOLA VEZ.\u001b[0m\u001b[0;34m\u001b[0m\u001b[0;34m\u001b[0m\u001b[0;34m\u001b[0m\u001b[0m\n\u001b[1;32m      6\u001b[0m     \u001b[0;31m# ES INCORRECTO LEER LA INSTANCIA DEL FICHERO CADA VEZ QUE SE EVALUA UNA SOLUCIÓN\u001b[0m\u001b[0;34m\u001b[0m\u001b[0;34m\u001b[0m\u001b[0;34m\u001b[0m\u001b[0m\n\u001b[0;32m----> 7\u001b[0;31m     \u001b[0mmy_QAP_Instance\u001b[0m \u001b[0;34m=\u001b[0m \u001b[0mReadQAPInstance\u001b[0m\u001b[0;34m(\u001b[0m\u001b[0mfname\u001b[0m\u001b[0;34m)\u001b[0m\u001b[0;34m\u001b[0m\u001b[0;34m\u001b[0m\u001b[0m\n\u001b[0m\u001b[1;32m      8\u001b[0m \u001b[0;34m\u001b[0m\u001b[0m\n\u001b[1;32m      9\u001b[0m     \u001b[0mDist_Matrix\u001b[0m       \u001b[0;34m=\u001b[0m \u001b[0mmy_QAP_Instance\u001b[0m\u001b[0;34m[\u001b[0m\u001b[0;34m\"distances\"\u001b[0m\u001b[0;34m]\u001b[0m\u001b[0;34m\u001b[0m\u001b[0;34m\u001b[0m\u001b[0m\n",
      "\u001b[0;32m<ipython-input-2-fd68602730df>\u001b[0m in \u001b[0;36mReadQAPInstance\u001b[0;34m(fname)\u001b[0m\n\u001b[1;32m      2\u001b[0m     \u001b[0;31m# Este programa recibe el nombre y ubicación de un fichero con los datos de una instancia del problema QAP\u001b[0m\u001b[0;34m\u001b[0m\u001b[0;34m\u001b[0m\u001b[0;34m\u001b[0m\u001b[0m\n\u001b[1;32m      3\u001b[0m     \u001b[0;31m# y devuelve una estructura con los datos de la instancia.\u001b[0m\u001b[0;34m\u001b[0m\u001b[0;34m\u001b[0m\u001b[0;34m\u001b[0m\u001b[0m\n\u001b[0;32m----> 4\u001b[0;31m     \u001b[0mhdl\u001b[0m \u001b[0;34m=\u001b[0m \u001b[0mopen\u001b[0m\u001b[0;34m(\u001b[0m\u001b[0mfname\u001b[0m\u001b[0;34m,\u001b[0m \u001b[0;34m'r'\u001b[0m\u001b[0;34m)\u001b[0m\u001b[0;34m\u001b[0m\u001b[0;34m\u001b[0m\u001b[0m\n\u001b[0m\u001b[1;32m      5\u001b[0m     \u001b[0mmylist\u001b[0m \u001b[0;34m=\u001b[0m \u001b[0mhdl\u001b[0m\u001b[0;34m.\u001b[0m\u001b[0mreadlines\u001b[0m\u001b[0;34m(\u001b[0m\u001b[0;34m)\u001b[0m\u001b[0;34m\u001b[0m\u001b[0;34m\u001b[0m\u001b[0m\n\u001b[1;32m      6\u001b[0m     \u001b[0mhdl\u001b[0m\u001b[0;34m.\u001b[0m\u001b[0mclose\u001b[0m\u001b[0;34m(\u001b[0m\u001b[0;34m)\u001b[0m\u001b[0;34m\u001b[0m\u001b[0;34m\u001b[0m\u001b[0m\n",
      "\u001b[0;31mFileNotFoundError\u001b[0m: [Errno 2] No such file or directory: '../Instances/QAP/Cebe.qap.n10.1'"
     ]
    }
   ],
   "source": [
    "# En esta parte comprobamos la implementación de los programas. \n",
    "# Esta celda no debe ser modificada\n",
    "\n",
    "# Evaluación del algoritmo para 5 instancias de tamaño 10\n",
    "filename_base = '../Instances/QAP/Cebe.qap.n10.'\n",
    "mypermutation_10 = [1,3,2,4,10,9,8,7,6,5]\n",
    "for i in range(5):\n",
    "  fname  = filename_base+str(i+1)\n",
    "  best_val,best_sol = QAPLocalSearch(fname,mypermutation_10)  \n",
    "  print(10,i+1,best_val,best_sol)  \n",
    "  \n",
    "\n",
    "# Evaluación del algoritmo para 5 instancias de tamaño 20\n",
    "filename_base = '../Instances/QAP/Cebe.qap.n20.'\n",
    "mypermutation_20 = range(1,21)\n",
    "for i in range(5):\n",
    "  fname  = filename_base+str(i+1)\n",
    "  best_val,best_sol = QAPLocalSearch(fname,mypermutation_20)  \n",
    "  print(20,i+1,best_val,best_sol)  \n",
    "\n",
    "\n",
    "# Evaluación del algoritmo para 5 instancias de tamaño 30\n",
    "filename_base = '../Instances/QAP/Cebe.qap.n30.'\n",
    "mypermutation_30 = range(1,31)\n",
    "for i in range(5):\n",
    "  fname  = filename_base+str(i+1)\n",
    "  best_val,best_sol = QAPLocalSearch(fname,mypermutation_30)  \n",
    "  print(30,i+1,best_val,best_sol)  "
   ]
  },
  {
   "cell_type": "code",
   "execution_count": null,
   "metadata": {},
   "outputs": [],
   "source": [
    "# Ejemplo de la implementación de la búsqueda local para el problema Bipartitioning en Python\n",
    "\n",
    "# Importamos las librerías imprescindibles para la ejecución del ejercicio\n",
    "import numpy as np"
   ]
  },
  {
   "cell_type": "code",
   "execution_count": null,
   "metadata": {},
   "outputs": [],
   "source": [
    "def Read_Bip_Instance(fname):\n",
    "    # Este programa recibe el nombre y ubicación de un fichero con los datos de una instancia del problema BiPartioning\n",
    "    # y devuelve una estructura con los datos de la instancia.\n",
    "    hdl = open(fname, 'r')           \n",
    "    mylist = hdl.readlines()\n",
    "    hdl.close()\n",
    "    n = eval(mylist[0])      \n",
    "    edge_weights = np.zeros((n,n))      # Pesos de las aristas \n",
    "    for i in range(n):\n",
    "        for j,val in enumerate(mylist[i+1].split()):     \n",
    "            edge_weights[i,j]=eval(val) \n",
    "    \n",
    "    BipPartInstance = {\"edge_weights\":edge_weights}\n",
    "\n",
    "    return BipPartInstance"
   ]
  },
  {
   "cell_type": "code",
   "execution_count": null,
   "metadata": {},
   "outputs": [],
   "source": [
    "def BipEvaluator(edge_weights,solution):\n",
    "    n = edge_weights.shape[0]         # Número de nodos\n",
    "    balance =  np.sum(solution) # Numero de nodos en una de las partes\n",
    "    fval = 0                  # Peso de las aristas entre partes del grafo\n",
    "    for i in range(n-1):\n",
    "        for j in range(i+1,n):\n",
    "            if solution[i]==1-solution[j]:      # Si estan en partes diferentes  \n",
    "                fval = fval+edge_weights[i,j]  \n",
    "\n",
    "    feasible=(balance==n/2)            \n",
    "    # Finalmente se devuelve el resultado\n",
    "    return feasible,fval,balance"
   ]
  },
  {
   "cell_type": "code",
   "execution_count": null,
   "metadata": {},
   "outputs": [],
   "source": [
    "# TwoOpt crea una vecindad basda en el operador two-opt de forma determinista\n",
    "# Todas las permutaciones que se pueden obtener con two-opt están en la vecindad\n",
    "def SwapAll1AND0(perm):\n",
    "    n = perm.shape[0]\n",
    "    ix1 = np.where( perm == 1)[0]\n",
    "    ix0 = np.where( perm == 0)[0]\n",
    "    n_neighbors = len(ix1)*len(ix0)  # Número de vecinos    \n",
    "    neighbors = np.zeros((n_neighbors,n),dtype=int) # Guardaremos todos los vecinos en neighbors\n",
    "    ind = 0\n",
    "    for i in range(len(ix1)):\n",
    "        for j in range(len(ix0)):\n",
    "            neighbors[ind,:] = perm   \n",
    "            aux = perm.copy() \n",
    "            neighbors[ind,ix1[i]] = aux[ix0[j]]   # Se invierte el camino entre posiciones elegidas\n",
    "            neighbors[ind,ix0[j]] = aux[ix1[i]]   # Se invierte el camino entre posiciones elegidas\n",
    "            ind = ind + 1   \n",
    "    return neighbors"
   ]
  },
  {
   "cell_type": "code",
   "execution_count": null,
   "metadata": {},
   "outputs": [],
   "source": [
    "#SwapAll1AND0( np.array([1,1,0,0]) )"
   ]
  },
  {
   "cell_type": "code",
   "execution_count": null,
   "metadata": {},
   "outputs": [],
   "source": [
    "#my_solution_10 = np.hstack((np.ones((5)),np.zeros((5))))\n",
    "#print( my_solution_10 )\n",
    "\n",
    "#SwapAll1AND0( my_solution_10 )"
   ]
  },
  {
   "cell_type": "code",
   "execution_count": null,
   "metadata": {},
   "outputs": [],
   "source": [
    "#my_BipPart_Instance = Read_Bip_Instance('../Instances/BIPART/Cebe.bip.n10.1')  # Se lee la instancia\n",
    "#edge_weights = my_BipPart_Instance[\"edge_weights\"]\n",
    "#print( np.shape(edge_weights) )"
   ]
  },
  {
   "cell_type": "code",
   "execution_count": null,
   "metadata": {},
   "outputs": [],
   "source": [
    "def BipPartLocalSearch(fname,solution):\n",
    "    best_val = []\n",
    "    init_sol = solution\n",
    "\n",
    "    my_BipPart_Instance = Read_Bip_Instance(fname)  # Se lee la instancia\n",
    "    edge_weights = my_BipPart_Instance[\"edge_weights\"]\n",
    "    \n",
    "    # En los siguientes pasos se implementa la búsqueda local para el problema BipPart \n",
    "    n = edge_weights.shape[1]   \n",
    "    feasible,fval,balance = BipEvaluator( edge_weights, init_sol )              # Mejor valor\n",
    "    best_val = fval\n",
    "    best_sol = init_sol                                             # Mejor solución \n",
    "    improvement = True\n",
    "    number_evaluations = 1   \n",
    "    while improvement:                    # Mientras se mejore el valor de la función\n",
    "        neighbors = SwapAll1AND0(best_sol)       # Todos los vecinos\n",
    "        n_neighbors = neighbors.shape[0]\n",
    "        number_evaluations =  number_evaluations + n_neighbors  # Se calcula es número de evaluaciones\n",
    "        best_val_among_neighbors = best_val\n",
    "        for i in range(n_neighbors):                    # Se recorren todos los vecinos buscando el mejor \n",
    "            sol = neighbors[i,:]  \n",
    "            feasible,fval,balance =  BipEvaluator( edge_weights, sol )    # Se evalua la función\n",
    "            if (feasible):\n",
    "                if fval>best_val_among_neighbors:             # Si es mejor que el mejor valor entre los vecinos hasta el momento\n",
    "                    best_val_among_neighbors = fval             # se actualiza el mejor valor\n",
    "                    best_sol_among_neighbors = sol   \n",
    "        improvement = (best_val_among_neighbors>best_val) #  Se determina si ha habido mejora con respecto al ciclo anterior\n",
    "        if improvement:                                \n",
    "            best_val = best_val_among_neighbors           # Se actualiza el mejor valor y la mejor solución \n",
    "            best_sol = best_sol_among_neighbors      \n",
    "            #print(best_val,best_sol, number_evaluations)\n",
    "        if (number_evaluations > 1e6):\n",
    "            print(\"Iterations > 1e6. Aborting local search.\")\n",
    "            break\n",
    "    # Finalmente se devuelven el mejor valor encontrado así como la mejor solución\n",
    "    return best_val,best_sol        "
   ]
  },
  {
   "cell_type": "code",
   "execution_count": null,
   "metadata": {},
   "outputs": [],
   "source": [
    "# En esta parte comprobamos la implementación de los programas. \n",
    "# Esta celda no debe ser modificada\n",
    "\n",
    "\n",
    "\n",
    "# Evaluación del algoritmo para 5 instancias de tamaño n = 10\n",
    "filename_base = '../Instances/BIPART/Cebe.bip.n10.'\n",
    "my_solution_10 = np.hstack((np.ones((5)),np.zeros((5))))\n",
    "for i in range(5):\n",
    "  fname  = filename_base+str(i+1)\n",
    "  best_val,best_sol = BipPartLocalSearch(fname,my_solution_10)  \n",
    "  print(10,i+1,best_val,best_sol)  \n",
    "\n",
    "# Evaluación del algoritmo para 5 instancias de tamaño n = 20\n",
    "filename_base = '../Instances/BIPART/Cebe.bip.n20.'\n",
    "my_solution_20 = np.hstack((np.ones((10)),np.zeros((10))))\n",
    "for i in range(5):\n",
    "  fname  = filename_base+str(i+1) \n",
    "  best_val,best_sol = BipPartLocalSearch(fname,my_solution_20)  \n",
    "  print(20,i+1,best_val,best_sol)  \n",
    "\n",
    "\n",
    "# Evaluación del algoritmo para 5 instancias de tamaño n = 50\n",
    "filename_base = '../Instances/BIPART/Cebe.bip.n50.'\n",
    "my_solution_50 = np.hstack((np.ones((25)),np.zeros((25))))\n",
    "for i in range(5):\n",
    "  fname  = filename_base+str(i+1) \n",
    "  best_val,best_sol = BipPartLocalSearch(fname,my_solution_50)  \n",
    "  print(50,i+1,best_val,best_sol)  \n",
    "\n",
    "\n",
    "# Evaluación del algoritmo para 5 instancias de tamaño n = 80\n",
    "filename_base = '../Instances/BIPART/Cebe.bip.n80.'\n",
    "my_solution_80 = np.hstack((np.ones((40)),np.zeros((40))))\n",
    "for i in range(5):\n",
    "  fname  = filename_base+str(i+1) \n",
    "  best_val,best_sol = BipPartLocalSearch(fname,my_solution_80)  \n",
    "  print(80,i+1,best_val,best_sol)  "
   ]
  },
  {
   "cell_type": "code",
   "execution_count": null,
   "metadata": {},
   "outputs": [],
   "source": []
  }
 ],
 "metadata": {
  "kernelspec": {
   "display_name": "Python 3",
   "language": "python",
   "name": "python3"
  },
  "language_info": {
   "codemirror_mode": {
    "name": "ipython",
    "version": 3
   },
   "file_extension": ".py",
   "mimetype": "text/x-python",
   "name": "python",
   "nbconvert_exporter": "python",
   "pygments_lexer": "ipython3",
   "version": "3.7.4"
  }
 },
 "nbformat": 4,
 "nbformat_minor": 1
}
