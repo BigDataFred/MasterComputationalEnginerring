{
 "cells": [
  {
   "cell_type": "markdown",
   "metadata": {},
   "source": [
    "# Formato para la implementación de los ejercicios de la Tarea  2 en Python"
   ]
  },
  {
   "cell_type": "markdown",
   "metadata": {},
   "source": [
    "### Los programas implementados para la  solución de los ejercicios se evaluarán ejecutando una notebook con el formato que se describe a continuación. Cada estudiante debe asegurarse que sus programas se ejecutan de manera correcta y en un tiempo razonable utilizando este formato. "
   ]
  },
  {
   "cell_type": "markdown",
   "metadata": {},
   "source": [
    "### Los programas se pueden implementar en Python ó R. No deben implementarse en los dos lenguajes pues solamente se evaluará en uno de ellos. El código en Python o R podrá incluirse directamente en las celdas de la notebook o implementarse independientemente para ser invocado DESDE LA NOTEBOOK. Es decir, los programas no se evaluarán independientemente sino a partir del llamado que se hace en la notebook. "
   ]
  },
  {
   "cell_type": "code",
   "execution_count": 5,
   "metadata": {},
   "outputs": [
    {
     "ename": "IndentationError",
     "evalue": "unindent does not match any outer indentation level (<tokenize>, line 28)",
     "output_type": "error",
     "traceback": [
      "\u001b[0;36m  File \u001b[0;32m\"<tokenize>\"\u001b[0;36m, line \u001b[0;32m28\u001b[0m\n\u001b[0;31m    return QAPInstance\u001b[0m\n\u001b[0m    ^\u001b[0m\n\u001b[0;31mIndentationError\u001b[0m\u001b[0;31m:\u001b[0m unindent does not match any outer indentation level\n"
     ]
    }
   ],
   "source": [
    "# Ejemplo de resolución del problema QAP en Python\n",
    "\n",
    "# Importamos las librerías imprescindibles para la ejecución del ejercicio\n",
    "import numpy as np\n",
    "\n",
    "\n",
    "def ReadQAPInstance(fname):\n",
    "    # Este programa recibe el nombre y ubicación de un fichero con los datos de una instancia del problema QAP\n",
    "    # y devuelve una estructura con los datos de la instancia.\n",
    "    hdl = open(fname, 'r')\n",
    "    mylist = hdl.readlines()\n",
    "    hdl.close()\n",
    "    n = eval(mylist[0])\n",
    "\n",
    "    pesos  = np.zeros((n,n))\n",
    "    for i in range(n):\n",
    "        for j,val in enumerate(mylist[i+1].split()):     \n",
    "            pesos[i,j]=eval(val)\n",
    "    \n",
    "    distancias  = np.zeros((n,n))\n",
    "    for i in range(n,2*n):\n",
    "        for j,val in enumerate(mylist[i+1].split()):     \n",
    "            distancias[i-n,j]=eval(val)\n",
    "    \n",
    "    QAPInstance = { \"pesos\" : pesos,\n",
    "                   \"distancias\" : distancias}\n",
    "\n",
    "    return QAPInstance\n",
    "\n",
    "\n",
    "def QAPLocalSearch(fname,permutation):\n",
    "  best_val = 0\n",
    "  best_sol = permutation\n",
    "    \n",
    "  # IMPORTANTE:  Se lee la instancia  UNA SOLA VEZ.\n",
    "  # ES INCORRECTO LEER LA INSTANCIA DEL FICHERO CADA VEZ QUE SE EVALUA UNA SOLUCIÓN\n",
    "  my_QAP_Instance = ReadQAPInstance(fname)  \n",
    "\n",
    "  # En los siguientes pasos se implementa la evaluación la búsqueda local en Python   \n",
    "  \n",
    "\n",
    "  # Finalmente se devuelven el mejor valor encontrado así como la mejor solución\n",
    "  return best_val,best_sol       \n",
    "\n",
    "\n",
    "\n",
    "    "
   ]
  },
  {
   "cell_type": "code",
   "execution_count": 6,
   "metadata": {},
   "outputs": [
    {
     "name": "stdout",
     "output_type": "stream",
     "text": [
      "10 1 0 [1, 3, 2, 4, 10, 9, 8, 7, 6, 5]\n",
      "10 2 0 [1, 3, 2, 4, 10, 9, 8, 7, 6, 5]\n",
      "10 3 0 [1, 3, 2, 4, 10, 9, 8, 7, 6, 5]\n",
      "10 4 0 [1, 3, 2, 4, 10, 9, 8, 7, 6, 5]\n",
      "10 5 0 [1, 3, 2, 4, 10, 9, 8, 7, 6, 5]\n",
      "20 1 0 range(1, 21)\n",
      "20 2 0 range(1, 21)\n",
      "20 3 0 range(1, 21)\n",
      "20 4 0 range(1, 21)\n",
      "20 5 0 range(1, 21)\n",
      "30 1 0 range(1, 31)\n",
      "30 2 0 range(1, 31)\n",
      "30 3 0 range(1, 31)\n",
      "30 4 0 range(1, 31)\n",
      "30 5 0 range(1, 31)\n"
     ]
    }
   ],
   "source": [
    "# En esta parte comprobamos la implementación de los programas. \n",
    "# Esta celda no debe ser modificada\n",
    "\n",
    "# Evaluación del algoritmo para 5 instancias de tamaño 10\n",
    "filename_base = '../Instances/QAP/Cebe.qap.n10.'\n",
    "mypermutation_10 = [1,3,2,4,10,9,8,7,6,5]\n",
    "for i in range(5):\n",
    "  fname  = filename_base+str(i+1)\n",
    "  best_val,best_sol = QAPLocalSearch(fname,mypermutation_10)  \n",
    "  print(10,i+1,best_val,best_sol)  \n",
    "  \n",
    "\n",
    "# Evaluación del algoritmo para 5 instancias de tamaño 20\n",
    "filename_base = '../Instances/QAP/Cebe.qap.n20.'\n",
    "mypermutation_20 = range(1,21)\n",
    "for i in range(5):\n",
    "  fname  = filename_base+str(i+1)\n",
    "  best_val,best_sol = QAPLocalSearch(fname,mypermutation_20)  \n",
    "  print(20,i+1,best_val,best_sol)  \n",
    "\n",
    "\n",
    "# Evaluación del algoritmo para 5 instancias de tamaño 30\n",
    "filename_base = '../Instances/QAP/Cebe.qap.n30.'\n",
    "mypermutation_30 = range(1,31)\n",
    "for i in range(5):\n",
    "  fname  = filename_base+str(i+1)\n",
    "  best_val,best_sol = QAPLocalSearch(fname,mypermutation_30)  \n",
    "  print(30,i+1,best_val,best_sol)  \n"
   ]
  },
  {
   "cell_type": "code",
   "execution_count": 7,
   "metadata": {},
   "outputs": [],
   "source": [
    "# Ejemplo de la implementación de la búsqueda local para el problema Bipartitioning en Python\n",
    "\n",
    "# Importamos las librerías imprescindibles para la ejecución del ejercicio\n",
    "import numpy as np\n",
    "\n",
    "\n",
    "def Read_Bip_Instance(fname):\n",
    "  # Este programa recibe el nombre y ubicación de un fichero con los datos de una instancia del problema Bipartitioning\n",
    "  # y devuelve una estructura con los datos de la instancia.\n",
    "  BipPartInstance = {}\n",
    "  return BipPartInstance\n",
    "\n",
    "def BipPartLocalSearch(fname,solution):\n",
    "  best_val = []\n",
    "  best_sol = solution\n",
    "\n",
    "  my_NumPart_Instance = Read_Bip_Instance(fname)  # Se lee la instancia\n",
    "  # En los siguientes pasos se implementa la búsqueda local para el problema BipPart \n",
    "\n",
    "  # Finalmente se devuelven el mejor valor encontrado así como la mejor solución\n",
    "  return best_val,best_sol        \n",
    "\n"
   ]
  },
  {
   "cell_type": "code",
   "execution_count": 8,
   "metadata": {},
   "outputs": [
    {
     "name": "stdout",
     "output_type": "stream",
     "text": [
      "10 1 [] [1. 1. 1. 1. 1. 0. 0. 0. 0. 0.]\n",
      "10 2 [] [1. 1. 1. 1. 1. 0. 0. 0. 0. 0.]\n",
      "10 3 [] [1. 1. 1. 1. 1. 0. 0. 0. 0. 0.]\n",
      "10 4 [] [1. 1. 1. 1. 1. 0. 0. 0. 0. 0.]\n",
      "10 5 [] [1. 1. 1. 1. 1. 0. 0. 0. 0. 0.]\n",
      "20 1 [] [1. 1. 1. 1. 1. 1. 1. 1. 1. 1. 0. 0. 0. 0. 0. 0. 0. 0. 0. 0.]\n",
      "20 2 [] [1. 1. 1. 1. 1. 1. 1. 1. 1. 1. 0. 0. 0. 0. 0. 0. 0. 0. 0. 0.]\n",
      "20 3 [] [1. 1. 1. 1. 1. 1. 1. 1. 1. 1. 0. 0. 0. 0. 0. 0. 0. 0. 0. 0.]\n",
      "20 4 [] [1. 1. 1. 1. 1. 1. 1. 1. 1. 1. 0. 0. 0. 0. 0. 0. 0. 0. 0. 0.]\n",
      "20 5 [] [1. 1. 1. 1. 1. 1. 1. 1. 1. 1. 0. 0. 0. 0. 0. 0. 0. 0. 0. 0.]\n",
      "50 1 [] [1. 1. 1. 1. 1. 1. 1. 1. 1. 1. 1. 1. 1. 1. 1. 1. 1. 1. 1. 1. 1. 1. 1. 1.\n",
      " 1. 0. 0. 0. 0. 0. 0. 0. 0. 0. 0. 0. 0. 0. 0. 0. 0. 0. 0. 0. 0. 0. 0. 0.\n",
      " 0. 0.]\n",
      "50 2 [] [1. 1. 1. 1. 1. 1. 1. 1. 1. 1. 1. 1. 1. 1. 1. 1. 1. 1. 1. 1. 1. 1. 1. 1.\n",
      " 1. 0. 0. 0. 0. 0. 0. 0. 0. 0. 0. 0. 0. 0. 0. 0. 0. 0. 0. 0. 0. 0. 0. 0.\n",
      " 0. 0.]\n",
      "50 3 [] [1. 1. 1. 1. 1. 1. 1. 1. 1. 1. 1. 1. 1. 1. 1. 1. 1. 1. 1. 1. 1. 1. 1. 1.\n",
      " 1. 0. 0. 0. 0. 0. 0. 0. 0. 0. 0. 0. 0. 0. 0. 0. 0. 0. 0. 0. 0. 0. 0. 0.\n",
      " 0. 0.]\n",
      "50 4 [] [1. 1. 1. 1. 1. 1. 1. 1. 1. 1. 1. 1. 1. 1. 1. 1. 1. 1. 1. 1. 1. 1. 1. 1.\n",
      " 1. 0. 0. 0. 0. 0. 0. 0. 0. 0. 0. 0. 0. 0. 0. 0. 0. 0. 0. 0. 0. 0. 0. 0.\n",
      " 0. 0.]\n",
      "50 5 [] [1. 1. 1. 1. 1. 1. 1. 1. 1. 1. 1. 1. 1. 1. 1. 1. 1. 1. 1. 1. 1. 1. 1. 1.\n",
      " 1. 0. 0. 0. 0. 0. 0. 0. 0. 0. 0. 0. 0. 0. 0. 0. 0. 0. 0. 0. 0. 0. 0. 0.\n",
      " 0. 0.]\n",
      "80 1 [] [1. 1. 1. 1. 1. 1. 1. 1. 1. 1. 1. 1. 1. 1. 1. 1. 1. 1. 1. 1. 1. 1. 1. 1.\n",
      " 1. 1. 1. 1. 1. 1. 1. 1. 1. 1. 1. 1. 1. 1. 1. 1. 0. 0. 0. 0. 0. 0. 0. 0.\n",
      " 0. 0. 0. 0. 0. 0. 0. 0. 0. 0. 0. 0. 0. 0. 0. 0. 0. 0. 0. 0. 0. 0. 0. 0.\n",
      " 0. 0. 0. 0. 0. 0. 0. 0.]\n",
      "80 2 [] [1. 1. 1. 1. 1. 1. 1. 1. 1. 1. 1. 1. 1. 1. 1. 1. 1. 1. 1. 1. 1. 1. 1. 1.\n",
      " 1. 1. 1. 1. 1. 1. 1. 1. 1. 1. 1. 1. 1. 1. 1. 1. 0. 0. 0. 0. 0. 0. 0. 0.\n",
      " 0. 0. 0. 0. 0. 0. 0. 0. 0. 0. 0. 0. 0. 0. 0. 0. 0. 0. 0. 0. 0. 0. 0. 0.\n",
      " 0. 0. 0. 0. 0. 0. 0. 0.]\n",
      "80 3 [] [1. 1. 1. 1. 1. 1. 1. 1. 1. 1. 1. 1. 1. 1. 1. 1. 1. 1. 1. 1. 1. 1. 1. 1.\n",
      " 1. 1. 1. 1. 1. 1. 1. 1. 1. 1. 1. 1. 1. 1. 1. 1. 0. 0. 0. 0. 0. 0. 0. 0.\n",
      " 0. 0. 0. 0. 0. 0. 0. 0. 0. 0. 0. 0. 0. 0. 0. 0. 0. 0. 0. 0. 0. 0. 0. 0.\n",
      " 0. 0. 0. 0. 0. 0. 0. 0.]\n",
      "80 4 [] [1. 1. 1. 1. 1. 1. 1. 1. 1. 1. 1. 1. 1. 1. 1. 1. 1. 1. 1. 1. 1. 1. 1. 1.\n",
      " 1. 1. 1. 1. 1. 1. 1. 1. 1. 1. 1. 1. 1. 1. 1. 1. 0. 0. 0. 0. 0. 0. 0. 0.\n",
      " 0. 0. 0. 0. 0. 0. 0. 0. 0. 0. 0. 0. 0. 0. 0. 0. 0. 0. 0. 0. 0. 0. 0. 0.\n",
      " 0. 0. 0. 0. 0. 0. 0. 0.]\n",
      "80 5 [] [1. 1. 1. 1. 1. 1. 1. 1. 1. 1. 1. 1. 1. 1. 1. 1. 1. 1. 1. 1. 1. 1. 1. 1.\n",
      " 1. 1. 1. 1. 1. 1. 1. 1. 1. 1. 1. 1. 1. 1. 1. 1. 0. 0. 0. 0. 0. 0. 0. 0.\n",
      " 0. 0. 0. 0. 0. 0. 0. 0. 0. 0. 0. 0. 0. 0. 0. 0. 0. 0. 0. 0. 0. 0. 0. 0.\n",
      " 0. 0. 0. 0. 0. 0. 0. 0.]\n"
     ]
    }
   ],
   "source": [
    "# En esta parte comprobamos la implementación de los programas. \n",
    "# Esta celda no debe ser modificada\n",
    "\n",
    "\n",
    "\n",
    "# Evaluación del algoritmo para 5 instancias de tamaño n = 10\n",
    "filename_base = '../Instances/BIPART/Cebe.bip.n10.'\n",
    "my_solution_10 = np.hstack((np.ones((5)),np.zeros((5))))\n",
    "for i in range(5):\n",
    "  fname  = filename_base+str(i+1)\n",
    "  best_val,best_sol = BipPartLocalSearch(fname,my_solution_10)  \n",
    "  print(10,i+1,best_val,best_sol)  \n",
    "\n",
    "\n",
    "\n",
    "# Evaluación del algoritmo para 5 instancias de tamaño n = 20\n",
    "filename_base = '../Instances/BIPART/Cebe.bip.n20.'\n",
    "my_solution_20 = np.hstack((np.ones((10)),np.zeros((10))))\n",
    "for i in range(5):\n",
    "  fname  = filename_base+str(i+1) \n",
    "  best_val,best_sol = BipPartLocalSearch(fname,my_solution_20)  \n",
    "  print(20,i+1,best_val,best_sol)  \n",
    "\n",
    "\n",
    "# Evaluación del algoritmo para 5 instancias de tamaño n = 50\n",
    "filename_base = '../Instances/BIPART/Cebe.bip.n50.'\n",
    "my_solution_50 = np.hstack((np.ones((25)),np.zeros((25))))\n",
    "for i in range(5):\n",
    "  fname  = filename_base+str(i+1) \n",
    "  best_val,best_sol = BipPartLocalSearch(fname,my_solution_50)  \n",
    "  print(50,i+1,best_val,best_sol)  \n",
    "\n",
    "\n",
    "# Evaluación del algoritmo para 5 instancias de tamaño n = 80\n",
    "filename_base = '../Instances/BIPART/Cebe.bip.n80.'\n",
    "my_solution_80 = np.hstack((np.ones((40)),np.zeros((40))))\n",
    "for i in range(5):\n",
    "  fname  = filename_base+str(i+1) \n",
    "  best_val,best_sol = BipPartLocalSearch(fname,my_solution_80)  \n",
    "  print(80,i+1,best_val,best_sol)  \n",
    "\n",
    "\n",
    "\n",
    "\n",
    "\n"
   ]
  },
  {
   "cell_type": "code",
   "execution_count": null,
   "metadata": {
    "collapsed": true
   },
   "outputs": [],
   "source": [
    "\n",
    "\n"
   ]
  },
  {
   "cell_type": "code",
   "execution_count": null,
   "metadata": {
    "collapsed": true
   },
   "outputs": [],
   "source": []
  }
 ],
 "metadata": {
  "kernelspec": {
   "display_name": "Python 3",
   "language": "python",
   "name": "python3"
  },
  "language_info": {
   "codemirror_mode": {
    "name": "ipython",
    "version": 3
   },
   "file_extension": ".py",
   "mimetype": "text/x-python",
   "name": "python",
   "nbconvert_exporter": "python",
   "pygments_lexer": "ipython3",
   "version": "3.7.4"
  }
 },
 "nbformat": 4,
 "nbformat_minor": 1
}
