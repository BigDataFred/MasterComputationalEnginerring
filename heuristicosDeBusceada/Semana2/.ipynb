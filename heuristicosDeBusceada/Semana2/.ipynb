{
 "cells": [
  {
   "cell_type": "markdown",
   "metadata": {},
   "source": [
    "# Formato para la implementación de los ejercicios de la Tarea  2 en Python"
   ]
  },
  {
   "cell_type": "markdown",
   "metadata": {},
   "source": [
    "### Los programas implementados para la  solución de los ejercicios se evaluarán ejecutando una notebook con el formato que se describe a continuación. Cada estudiante debe asegurarse que sus programas se ejecutan de manera correcta y en un tiempo razonable utilizando este formato. "
   ]
  },
  {
   "cell_type": "markdown",
   "metadata": {},
   "source": [
    "### Los programas se pueden implementar en Python ó R. No deben implementarse en los dos lenguajes pues solamente se evaluará en uno de ellos. El código en Python o R podrá incluirse directamente en las celdas de la notebook o implementarse independientemente para ser invocado DESDE LA NOTEBOOK. Es decir, los programas no se evaluarán independientemente sino a partir del llamado que se hace en la notebook. "
   ]
  },
  {
   "cell_type": "code",
   "execution_count": 1,
   "metadata": {},
   "outputs": [],
   "source": [
    "# Ejemplo de resolución del problema QAP en Python\n",
    "# Importamos las librerías imprescindibles para la ejecución del ejercicio\n",
    "import numpy as np"
   ]
  },
  {
   "cell_type": "code",
   "execution_count": 2,
   "metadata": {},
   "outputs": [],
   "source": [
    "def ReadQAPInstance(fname):\n",
    "    # Este programa recibe el nombre y ubicación de un fichero con los datos de una instancia del problema QAP\n",
    "    # y devuelve una estructura con los datos de la instancia.\n",
    "    hdl = open(fname, 'r')\n",
    "    mylist = hdl.readlines()\n",
    "    hdl.close()\n",
    "    n = eval(mylist[0])\n",
    "\n",
    "    w  = np.zeros((n,n))\n",
    "    for i in range(n):\n",
    "        for j,val in enumerate(mylist[i+1].split()):     \n",
    "            w[i,j]=eval(val)\n",
    "    \n",
    "    d  = np.zeros((n,n))\n",
    "    for i in range(n,2*n):\n",
    "        for j,val in enumerate(mylist[i+1].split()):     \n",
    "            d[i-n,j]=eval(val)\n",
    "    \n",
    "    QAPInstance = { \"weights\" : w,\n",
    "                   \"distances\" : d}\n",
    "\n",
    "    return QAPInstance"
   ]
  },
  {
   "cell_type": "code",
   "execution_count": 3,
   "metadata": {},
   "outputs": [],
   "source": [
    "def QAPEvaluator( Dist_Matrix, Weigth_Matrix, permutation):\n",
    "    n = Dist_Matrix.shape[0]   \n",
    "    perm = np.asarray(permutation) - 1                           # La representación en python comienza en cero   \n",
    "    val_qap = 0  # \n",
    "    for i in range(n):\n",
    "        for j in range(n):    \n",
    "            val_qap = val_qap + Weigth_Matrix[i,j] * Dist_Matrix[perm[i],perm[j]]# Coste utlizacion entre instalaciones consecutivas   \n",
    "  \n",
    "    # Finalmente se devuelve el resultado\n",
    "    return val_qap  "
   ]
  },
  {
   "cell_type": "code",
   "execution_count": 4,
   "metadata": {},
   "outputs": [],
   "source": [
    "#my_QAP_Instance = ReadQAPInstance('../Instances/QAP/Cebe.qap.n10.1')  \n",
    "  \n",
    "#Dist_Matrix     = my_QAP_Instance[\"distances\"]\n",
    "#Weigth_Matrix     = my_QAP_Instance[\"weights\"]\n",
    "\n",
    "#print(np.shape(Dist_Matrix))\n",
    "#print(np.shape(Weigth_Matrix))\n",
    "\n",
    "#QAPEvaluator( Dist_Matrix, Weigth_Matrix, [1,3,2,4,10,9,8,7,6,5])"
   ]
  },
  {
   "cell_type": "code",
   "execution_count": 5,
   "metadata": {},
   "outputs": [],
   "source": [
    "# Swap crea una vecindad basada en el operador de intercambio entre posiciones\n",
    "# Todas las permutaciones que se pueden obtener como un swap entre la primera posición\n",
    "# y cualquiera de las restantes están en la vecindad\n",
    "def getAllPairwiseComps(perm):\n",
    "    n = perm.shape[0]\n",
    "    n_neighbors = int( n*(n-1)/2 )           # Número de vecinos\n",
    "    neighbors = np.zeros((n_neighbors,n),dtype=int) # Guardaremos todos los vecinos en neighbors \n",
    "    ind = 0\n",
    "    for j in range(n):\n",
    "        for i in range(j+1,n):\n",
    "            neighbors[ind,:] = perm \n",
    "            neighbors[ind,i] = perm[j]\n",
    "            neighbors[ind,j] = perm[i]  \n",
    "            ind = ind + 1   \n",
    "    return neighbors"
   ]
  },
  {
   "cell_type": "code",
   "execution_count": 6,
   "metadata": {},
   "outputs": [],
   "source": [
    "#getAllPairwiseComps( np.array([1,2,3,4]) )"
   ]
  },
  {
   "cell_type": "code",
   "execution_count": 7,
   "metadata": {},
   "outputs": [],
   "source": [
    "#n=10\n",
    "#init_sol = np.random.permutation(n)+1\n",
    "#print( init_sol )\n",
    "#neighbors = getAllPairwiseComps(init_sol)\n",
    "#print( neighbors.shape[0] )"
   ]
  },
  {
   "cell_type": "code",
   "execution_count": 8,
   "metadata": {},
   "outputs": [],
   "source": [
    "def QAPLocalSearch(fname,permutation):\n",
    "    best_val = 0\n",
    "    init_sol = np.asarray( permutation )\n",
    "    \n",
    "    # IMPORTANTE:  Se lee la instancia  UNA SOLA VEZ.\n",
    "    # ES INCORRECTO LEER LA INSTANCIA DEL FICHERO CADA VEZ QUE SE EVALUA UNA SOLUCIÓN\n",
    "    my_QAP_Instance = ReadQAPInstance(fname)  \n",
    "  \n",
    "    Dist_Matrix       = my_QAP_Instance[\"distances\"]\n",
    "    Weigth_Matrix     = my_QAP_Instance[\"weights\"]\n",
    "    \n",
    "    # En los siguientes pasos se implementa la evaluación la búsqueda local en Python   \n",
    "    n = Dist_Matrix.shape[1]   \n",
    "    best_val = QAPEvaluator( Dist_Matrix, Weigth_Matrix, init_sol )              # Mejor valor\n",
    "    best_sol = init_sol                                             # Mejor solución \n",
    "    improvement = True\n",
    "    number_evaluations = 1   \n",
    "    while improvement:                    # Mientras se mejore el valor de la función\n",
    "        neighbors = getAllPairwiseComps(best_sol)       # Todos los vecinos\n",
    "        n_neighbors = neighbors.shape[0]\n",
    "        number_evaluations =  number_evaluations + n_neighbors  # Se calcula es número de evaluaciones\n",
    "        best_val_among_neighbors = best_val\n",
    "        for i in range(n_neighbors):                    # Se recorren todos los vecinos buscando el mejor \n",
    "            sol = neighbors[i,:]  \n",
    "            fval =  QAPEvaluator( Dist_Matrix, Weigth_Matrix, sol )    # Se evalua la función\n",
    "            if fval<best_val_among_neighbors:             # Si es mejor que el mejor valor entre los vecinos hasta el momento\n",
    "                best_val_among_neighbors = fval             # se actualiza el mejor valor\n",
    "                best_sol_among_neighbors = sol   \n",
    "        improvement = (best_val_among_neighbors<best_val) #  Se determina si ha habido mejora con respecto al ciclo anterior\n",
    "        if improvement:                                \n",
    "            best_val = best_val_among_neighbors           # Se actualiza el mejor valor y la mejor solución \n",
    "            best_sol = best_sol_among_neighbors      \n",
    "            #print(best_val,best_sol, number_evaluations)\n",
    "        if (number_evaluations > 1e6):\n",
    "            print(\"Iterations > 1e6. Aborting local search.\")\n",
    "            break\n",
    "\n",
    "    # Finalmente se devuelven el mejor valor encontrado así como la mejor solución\n",
    "    return best_val,best_sol       "
   ]
  },
  {
   "cell_type": "code",
   "execution_count": 9,
   "metadata": {},
   "outputs": [
    {
     "name": "stdout",
     "output_type": "stream",
     "text": [
      "10 1 5822014.0 [ 1  6  3  5 10  9  7  8  2  4]\n",
      "10 2 201575.0 [ 1  3  4  5  8  9  7  6 10  2]\n",
      "10 3 7421514.0 [ 1  3  2 10  6  9  8  4  5  7]\n",
      "10 4 154520.0 [ 9  6  3  2  8  7  4  1  5 10]\n",
      "10 5 8360276.0 [ 7  8  2 10  1  9  6  3  4  5]\n",
      "20 1 26546289.0 [ 4  2  3  1 20  6 17 11  5  8  9 13 18 14 15 16 12  7 19 10]\n",
      "20 2 831188.0 [ 1 19  3  4 13  6 17 18  9 14  8  2 12 11 15 10  7  5 16 20]\n",
      "20 3 30146841.0 [ 1 15  3  5 12  7 17  4 11 10  9 19 13  8  2 18  6 16 20 14]\n",
      "20 4 830274.0 [ 1  7  8  6  5  3 15  9 14 10 11 18 13 19 12  2 17  4 16 20]\n",
      "20 5 30937585.0 [ 8  4 10 18 19  6  2 14  7 12 16 15 13  1  9 11 17  3  5 20]\n",
      "30 1 124657411.0 [18  2 15  4  1  6 17 26 10  9 11 12  8 16 22 23  5  7 25 20 21  3 14 24\n",
      " 19 27 13 28 29 30]\n",
      "30 2 1839159.0 [ 1  2 11 15  5 30  7 27  9 10 14 12 16  3 22 25 17 18 29  8 21  4 23 13\n",
      " 20 26 28 24 19  6]\n",
      "30 3 80648011.0 [ 1  6 19 16 15 25 30  8 10 22 11 12 18 28  5  4  3 20 21  2 27 14 23 17\n",
      " 26  9 24 13 29  7]\n",
      "30 4 1958738.0 [ 1  2 27  5 12  6 22  8  9 25  7 24 13 14 17 19 15 26 21 20  3 11 29  4\n",
      " 10 18 16 28 23 30]\n",
      "30 5 70552353.0 [ 1  8  3  4 26 21 19 27  9 28 11 18 13 23  2 16 30 15 20 17  7 22 10  5\n",
      " 25 24 12 14 29  6]\n"
     ]
    }
   ],
   "source": [
    "# En esta parte comprobamos la implementación de los programas. \n",
    "# Esta celda no debe ser modificada\n",
    "\n",
    "# Evaluación del algoritmo para 5 instancias de tamaño 10\n",
    "filename_base = '../Instances/QAP/Cebe.qap.n10.'\n",
    "mypermutation_10 = [1,3,2,4,10,9,8,7,6,5]\n",
    "for i in range(5):\n",
    "  fname  = filename_base+str(i+1)\n",
    "  best_val,best_sol = QAPLocalSearch(fname,mypermutation_10)  \n",
    "  print(10,i+1,best_val,best_sol)  \n",
    "  \n",
    "\n",
    "# Evaluación del algoritmo para 5 instancias de tamaño 20\n",
    "filename_base = '../Instances/QAP/Cebe.qap.n20.'\n",
    "mypermutation_20 = range(1,21)\n",
    "for i in range(5):\n",
    "  fname  = filename_base+str(i+1)\n",
    "  best_val,best_sol = QAPLocalSearch(fname,mypermutation_20)  \n",
    "  print(20,i+1,best_val,best_sol)  \n",
    "\n",
    "\n",
    "# Evaluación del algoritmo para 5 instancias de tamaño 30\n",
    "filename_base = '../Instances/QAP/Cebe.qap.n30.'\n",
    "mypermutation_30 = range(1,31)\n",
    "for i in range(5):\n",
    "  fname  = filename_base+str(i+1)\n",
    "  best_val,best_sol = QAPLocalSearch(fname,mypermutation_30)  \n",
    "  print(30,i+1,best_val,best_sol)  "
   ]
  },
  {
   "cell_type": "code",
   "execution_count": 10,
   "metadata": {},
   "outputs": [],
   "source": [
    "# Ejemplo de la implementación de la búsqueda local para el problema Bipartitioning en Python\n",
    "\n",
    "# Importamos las librerías imprescindibles para la ejecución del ejercicio\n",
    "import numpy as np"
   ]
  },
  {
   "cell_type": "code",
   "execution_count": 11,
   "metadata": {},
   "outputs": [],
   "source": [
    "def Read_Bip_Instance(fname):\n",
    "    # Este programa recibe el nombre y ubicación de un fichero con los datos de una instancia del problema BiPartioning\n",
    "    # y devuelve una estructura con los datos de la instancia.\n",
    "    hdl = open(fname, 'r')           \n",
    "    mylist = hdl.readlines()\n",
    "    hdl.close()\n",
    "    n = eval(mylist[0])      \n",
    "    edge_weights = np.zeros((n,n))      # Pesos de las aristas \n",
    "    for i in range(n):\n",
    "        for j,val in enumerate(mylist[i+1].split()):     \n",
    "            edge_weights[i,j]=eval(val) \n",
    "    \n",
    "    BipPartInstance = {\"edge_weights\":edge_weights}\n",
    "\n",
    "    return BipPartInstance"
   ]
  },
  {
   "cell_type": "code",
   "execution_count": 12,
   "metadata": {},
   "outputs": [],
   "source": [
    "def BipEvaluator(edge_weights,solution):\n",
    "    n = edge_weights.shape[0]         # Número de nodos\n",
    "    balance =  np.sum(solution) # Numero de nodos en una de las partes\n",
    "    fval = 0                  # Peso de las aristas entre partes del grafo\n",
    "    for i in range(n-1):\n",
    "        for j in range(i+1,n):\n",
    "            if solution[i]==1-solution[j]:      # Si estan en partes diferentes  \n",
    "                fval = fval+edge_weights[i,j]  \n",
    "\n",
    "    feasible=(balance==n/2)            \n",
    "    # Finalmente se devuelve el resultado\n",
    "    return feasible,fval,balance"
   ]
  },
  {
   "cell_type": "code",
   "execution_count": 13,
   "metadata": {},
   "outputs": [],
   "source": [
    "# TwoOpt crea una vecindad basda en el operador two-opt de forma determinista\n",
    "# Todas las permutaciones que se pueden obtener con two-opt están en la vecindad\n",
    "def SwapAll1AND0(perm):\n",
    "    n = perm.shape[0]\n",
    "    ix1 = np.where( perm == 1)[0]\n",
    "    ix0 = np.where( perm == 0)[0]\n",
    "    n_neighbors = len(ix1)*len(ix0)  # Número de vecinos    \n",
    "    neighbors = np.zeros((n_neighbors,n),dtype=int) # Guardaremos todos los vecinos en neighbors\n",
    "    ind = 0\n",
    "    for i in range(len(ix1)):\n",
    "        for j in range(len(ix0)):\n",
    "            neighbors[ind,:] = perm   \n",
    "            aux = perm.copy() \n",
    "            neighbors[ind,ix1[i]] = aux[ix0[j]]   # Se invierte el camino entre posiciones elegidas\n",
    "            neighbors[ind,ix0[j]] = aux[ix1[i]]   # Se invierte el camino entre posiciones elegidas\n",
    "            ind = ind + 1   \n",
    "    return neighbors"
   ]
  },
  {
   "cell_type": "code",
   "execution_count": 14,
   "metadata": {},
   "outputs": [],
   "source": [
    "#SwapAll1AND0( np.array([1,1,0,0]) )"
   ]
  },
  {
   "cell_type": "code",
   "execution_count": 15,
   "metadata": {},
   "outputs": [],
   "source": [
    "#my_solution_10 = np.hstack((np.ones((5)),np.zeros((5))))\n",
    "#print( my_solution_10 )\n",
    "\n",
    "#SwapAll1AND0( my_solution_10 )"
   ]
  },
  {
   "cell_type": "code",
   "execution_count": 16,
   "metadata": {},
   "outputs": [],
   "source": [
    "#my_BipPart_Instance = Read_Bip_Instance('../Instances/BIPART/Cebe.bip.n10.1')  # Se lee la instancia\n",
    "#edge_weights = my_BipPart_Instance[\"edge_weights\"]\n",
    "#print( np.shape(edge_weights) )"
   ]
  },
  {
   "cell_type": "code",
   "execution_count": 17,
   "metadata": {},
   "outputs": [],
   "source": [
    "def BipPartLocalSearch(fname,solution):\n",
    "    best_val = []\n",
    "    init_sol = solution\n",
    "\n",
    "    my_BipPart_Instance = Read_Bip_Instance(fname)  # Se lee la instancia\n",
    "    edge_weights = my_BipPart_Instance[\"edge_weights\"]\n",
    "    \n",
    "    # En los siguientes pasos se implementa la búsqueda local para el problema BipPart \n",
    "    n = edge_weights.shape[1]   \n",
    "    feasible,fval,balance = BipEvaluator( edge_weights, init_sol )              # Mejor valor\n",
    "    best_val = fval\n",
    "    best_sol = init_sol                                             # Mejor solución \n",
    "    improvement = True\n",
    "    number_evaluations = 1   \n",
    "    while improvement:                    # Mientras se mejore el valor de la función\n",
    "        neighbors = SwapAll1AND0(best_sol)       # Todos los vecinos\n",
    "        n_neighbors = neighbors.shape[0]\n",
    "        number_evaluations =  number_evaluations + n_neighbors  # Se calcula es número de evaluaciones\n",
    "        best_val_among_neighbors = best_val\n",
    "        for i in range(n_neighbors):                    # Se recorren todos los vecinos buscando el mejor \n",
    "            sol = neighbors[i,:]  \n",
    "            feasible,fval,balance =  BipEvaluator( edge_weights, sol )    # Se evalua la función\n",
    "            if fval>best_val_among_neighbors:             # Si es mejor que el mejor valor entre los vecinos hasta el momento\n",
    "                best_val_among_neighbors = fval             # se actualiza el mejor valor\n",
    "                best_sol_among_neighbors = sol   \n",
    "        improvement = (best_val_among_neighbors>best_val) #  Se determina si ha habido mejora con respecto al ciclo anterior\n",
    "        if improvement:                                \n",
    "            best_val = best_val_among_neighbors           # Se actualiza el mejor valor y la mejor solución \n",
    "            best_sol = best_sol_among_neighbors      \n",
    "            #print(best_val,best_sol, number_evaluations)\n",
    "        if (number_evaluations > 1e6):\n",
    "            print(\"Iterations > 1e6. Aborting local search.\")\n",
    "            break\n",
    "    # Finalmente se devuelven el mejor valor encontrado así como la mejor solución\n",
    "    return best_val,best_sol        "
   ]
  },
  {
   "cell_type": "code",
   "execution_count": 19,
   "metadata": {},
   "outputs": [
    {
     "name": "stdout",
     "output_type": "stream",
     "text": [
      "10 1 822.0 [1 1 0 1 0 0 1 0 1 0]\n",
      "10 2 148084.0 [1 1 0 1 0 0 0 1 0 1]\n",
      "10 3 158853.0 [1 0 0 0 1 1 0 1 0 1]\n",
      "10 4 172475.0 [1 1 1 0 0 1 0 0 1 0]\n",
      "10 5 2530.0 [1 1 0 1 1 0 0 1 0 0]\n",
      "20 1 3748.0 [1 1 0 1 0 1 1 1 1 0 1 1 0 1 0 0 0 0 0 0]\n",
      "20 2 540455.0 [1 1 1 1 1 0 1 1 1 0 0 0 0 0 1 0 0 0 0 1]\n",
      "20 3 625461.0 [1 1 1 1 1 0 1 1 0 0 0 0 1 0 0 1 1 0 0 0]\n",
      "20 4 633943.0 [1 1 1 1 0 0 0 1 1 1 1 1 0 0 1 0 0 0 0 0]\n",
      "20 5 9425.0 [0 1 1 0 0 1 0 1 0 1 1 1 1 0 0 1 0 0 1 0]\n",
      "50 1 22798.0 [0 0 0 1 1 1 1 1 1 0 0 1 1 1 0 1 0 0 0 1 1 1 1 1 1 0 0 0 0 0 1 1 1 1 0 0 0\n",
      " 0 0 1 1 0 0 1 0 1 0 0 0 1]\n",
      "50 2 3239066.0 [0 1 1 1 0 1 1 0 1 0 0 0 1 1 1 1 0 1 1 1 0 0 0 1 1 1 0 0 1 1 0 0 1 0 0 0 0\n",
      " 0 0 1 1 0 0 0 1 0 1 0 1 1]\n",
      "50 3 3692026.0 [1 1 1 1 1 0 1 1 1 1 0 0 1 1 1 0 1 0 1 1 0 1 1 1 0 0 0 0 1 1 0 0 1 0 0 0 0\n",
      " 0 0 1 1 1 0 0 0 0 1 0 0 0]\n",
      "50 4 4143050.0 [1 1 1 0 1 1 0 0 1 1 1 0 1 1 1 1 1 1 1 0 1 0 1 0 0 0 1 0 1 0 1 0 0 0 0 0 0\n",
      " 1 1 0 0 0 0 0 1 0 1 0 0 1]\n",
      "50 5 57219.0 [1 0 1 1 0 1 0 0 0 0 1 1 1 1 0 1 1 0 1 1 1 1 1 0 1 1 0 0 1 0 1 0 0 0 1 0 0\n",
      " 1 1 1 0 0 0 1 0 0 1 0 0 0]\n",
      "80 1 56888.0 [1 1 0 1 1 0 1 0 1 1 0 0 0 1 1 1 1 1 0 1 0 1 1 1 0 1 0 1 1 0 0 0 1 1 1 1 1\n",
      " 1 1 1 0 1 0 0 1 0 0 1 0 1 0 0 0 0 1 0 0 0 1 0 0 0 1 0 1 0 1 0 0 0 0 0 0 1\n",
      " 0 1 1 0 0 1]\n",
      "80 2 8156366.0 [0 1 0 0 1 0 1 0 0 1 1 1 1 1 0 1 1 0 0 0 1 1 0 1 1 1 1 1 1 1 0 0 0 1 1 1 1\n",
      " 1 0 0 0 0 0 0 1 1 0 0 0 1 1 0 0 0 0 0 0 1 0 1 0 0 0 1 1 0 1 1 0 0 0 1 0 0\n",
      " 1 1 1 1 1 0]\n",
      "80 3 9715552.0 [1 1 1 1 1 0 1 0 0 0 0 1 0 1 1 1 1 1 0 1 0 0 1 1 1 1 0 1 1 0 1 0 1 1 0 0 1\n",
      " 0 1 1 0 0 1 0 0 0 0 1 0 1 1 0 0 1 1 0 0 1 1 0 0 0 0 0 0 1 0 0 0 1 0 1 1 1\n",
      " 0 0 1 1 0 0]\n",
      "80 4 10280756.0 [0 1 1 0 1 1 0 0 1 0 0 1 1 1 1 1 1 1 0 0 0 1 1 1 1 0 1 1 0 0 1 1 0 0 1 1 1\n",
      " 0 1 1 0 1 0 0 1 1 0 0 1 1 0 1 1 0 1 0 1 0 1 0 1 1 0 0 0 0 0 0 0 0 0 0 0 1\n",
      " 0 1 0 0 0 1]\n",
      "80 5 146703.0 [0 1 1 1 1 0 1 1 1 1 1 1 1 0 1 1 0 0 0 0 1 1 1 1 1 1 1 1 0 0 1 0 0 1 1 1 0\n",
      " 0 0 1 0 0 0 0 0 0 0 0 0 1 1 1 0 0 0 0 0 0 0 0 1 0 1 0 0 1 1 0 1 1 0 1 1 0\n",
      " 0 1 1 0 1 0]\n"
     ]
    }
   ],
   "source": [
    "# En esta parte comprobamos la implementación de los programas. \n",
    "# Esta celda no debe ser modificada\n",
    "\n",
    "\n",
    "\n",
    "# Evaluación del algoritmo para 5 instancias de tamaño n = 10\n",
    "filename_base = '../Instances/BIPART/Cebe.bip.n10.'\n",
    "my_solution_10 = np.hstack((np.ones((5)),np.zeros((5))))\n",
    "for i in range(5):\n",
    "  fname  = filename_base+str(i+1)\n",
    "  best_val,best_sol = BipPartLocalSearch(fname,my_solution_10)  \n",
    "  print(10,i+1,best_val,best_sol)  \n",
    "\n",
    "# Evaluación del algoritmo para 5 instancias de tamaño n = 20\n",
    "filename_base = '../Instances/BIPART/Cebe.bip.n20.'\n",
    "my_solution_20 = np.hstack((np.ones((10)),np.zeros((10))))\n",
    "for i in range(5):\n",
    "  fname  = filename_base+str(i+1) \n",
    "  best_val,best_sol = BipPartLocalSearch(fname,my_solution_20)  \n",
    "  print(20,i+1,best_val,best_sol)  \n",
    "\n",
    "\n",
    "# Evaluación del algoritmo para 5 instancias de tamaño n = 50\n",
    "filename_base = '../Instances/BIPART/Cebe.bip.n50.'\n",
    "my_solution_50 = np.hstack((np.ones((25)),np.zeros((25))))\n",
    "for i in range(5):\n",
    "  fname  = filename_base+str(i+1) \n",
    "  best_val,best_sol = BipPartLocalSearch(fname,my_solution_50)  \n",
    "  print(50,i+1,best_val,best_sol)  \n",
    "\n",
    "\n",
    "# Evaluación del algoritmo para 5 instancias de tamaño n = 80\n",
    "filename_base = '../Instances/BIPART/Cebe.bip.n80.'\n",
    "my_solution_80 = np.hstack((np.ones((40)),np.zeros((40))))\n",
    "for i in range(5):\n",
    "  fname  = filename_base+str(i+1) \n",
    "  best_val,best_sol = BipPartLocalSearch(fname,my_solution_80)  \n",
    "  print(80,i+1,best_val,best_sol)  "
   ]
  },
  {
   "cell_type": "code",
   "execution_count": null,
   "metadata": {},
   "outputs": [],
   "source": []
  }
 ],
 "metadata": {
  "kernelspec": {
   "display_name": "Python 3",
   "language": "python",
   "name": "python3"
  },
  "language_info": {
   "codemirror_mode": {
    "name": "ipython",
    "version": 3
   },
   "file_extension": ".py",
   "mimetype": "text/x-python",
   "name": "python",
   "nbconvert_exporter": "python",
   "pygments_lexer": "ipython3",
   "version": "3.7.4"
  }
 },
 "nbformat": 4,
 "nbformat_minor": 1
}
