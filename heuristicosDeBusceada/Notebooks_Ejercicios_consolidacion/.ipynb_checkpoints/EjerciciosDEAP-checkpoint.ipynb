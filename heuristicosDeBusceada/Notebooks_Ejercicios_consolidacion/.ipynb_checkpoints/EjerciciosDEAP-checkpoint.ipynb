{
 "metadata": {
  "name": "",
  "signature": "sha256:4989f81274caa85528150f8d2f5f9ada54401851a379c321d0265f87e3132e88"
 },
 "nbformat": 3,
 "nbformat_minor": 0,
 "worksheets": [
  {
   "cells": [
    {
     "cell_type": "code",
     "collapsed": false,
     "input": [
      "import numpy"
     ],
     "language": "python",
     "metadata": {},
     "outputs": [],
     "prompt_number": 2
    },
    {
     "cell_type": "code",
     "collapsed": false,
     "input": [
      "# El siguiente c\u00f3digo implementa la aplicaci\u00f3n de un algoritmo gen\u00e9tico simple al problema\n",
      "# de maximizar la funci\u00f3n Onemax (La suma de los valores de un individuo con codificaci\u00f3n binaria)\n",
      "# Para la implementaci\u00f3n se utiliza la librer\u00eda DEAP (Distributed Evolutionary Algorithms in Python)\n",
      "# http://code.google.com/p/deap/\n",
      "\n",
      "# Lea con detenimiento cada una de las instrucciones de c\u00f3digo y ejec\u00fatelo\n",
      "# Observe cu\u00e1les son los valores m\u00e1ximo, medio, y m\u00ednimo de la fitness en cada generaci\u00f3n\n",
      "\n",
      "# Se importan las estructuras de datos\n",
      "import random\n",
      "from deap import algorithms, base, creator, tools\n",
      "\n",
      "# Se crea una clase FitnessMax para la maximizaci\u00f3n de funciones\n",
      "creator.create(\"FitnessMax\", base.Fitness, weights=(1.0,))\n",
      "# Se crea una clase individuo asociada a la clase FitnessMax\n",
      "creator.create(\"Individual\", list, fitness=creator.FitnessMax)\n",
      "\n",
      "# Se define la funci\u00f3n a optimizar (Onemax)\n",
      "def evalOneMax(individual):\n",
      "    return (sum(individual),)\n",
      "\n",
      "# Heredamos las clases y funciones implementadas como parte de DEAP\n",
      "toolbox = base.Toolbox()\n",
      "# Utilizaremos una representaci\u00f3n binaria\n",
      "toolbox.register(\"attr_bool\", random.randint, 0, 1)\n",
      "# Definimos que nuestros individuos tendr\u00e1n 50 variables binarias\n",
      "toolbox.register(\"individual\", tools.initRepeat, creator.Individual, toolbox.attr_bool, n=50)\n",
      "# Definimos la poblaci\u00f3n a partir de los individuos\n",
      "toolbox.register(\"population\", tools.initRepeat, list, toolbox.individual)\n",
      "# Asociamos como funci\u00f3n de aptitud la funci\u00f3n OneMax\n",
      "toolbox.register(\"evaluate\", evalOneMax)\n",
      "# Nuestro operador de cruzamiento ser\u00e1 el cruzamiento en 2 puntos\n",
      "toolbox.register(\"mate\", tools.cxTwoPoint)\n",
      "# El operador de mutaci\u00f3n cambiar\u00e1 1-->0  y 0-->1 con una probabilidad de mutaci\u00f3n de 0.05\n",
      "toolbox.register(\"mutate\", tools.mutFlipBit, indpb=0.05)\n",
      "# Usaremos selecci\u00f3n por torneo con un par\u00e1metro de torneo = 3\n",
      "toolbox.register(\"select\", tools.selTournament, tournsize=3)\n",
      "\n",
      "\n",
      "if __name__ == \"__main__\":\n",
      "    # La poblaci\u00f3n tendr\u00e1 150 individuos\n",
      "    pop = toolbox.population(n=150)\n",
      "    # El algoritmo evolutivo simple utiliza los siguientes par\u00e1metros\n",
      "    # Probabilidad de cruzamiento 0.5\n",
      "    # Probabilidad de aplicar el operador de mutaci\u00f3n 0.2\n",
      "    # N\u00famero de generaciones 10\n",
      "    stats = tools.Statistics(lambda ind: ind.fitness.values)\n",
      "    stats.register(\"avg\", numpy.mean)\n",
      "    stats.register(\"std\", numpy.std)\n",
      "    stats.register(\"min\", numpy.min)\n",
      "    stats.register(\"max\", numpy.max)\n",
      "   \n",
      "    algorithms.eaSimple(pop, toolbox, stats=stats,cxpb=0.5, mutpb=0.2, ngen=10, verbose=True)\n",
      "    print(tools.selBest(pop, k=1))"
     ],
     "language": "python",
     "metadata": {},
     "outputs": [
      {
       "output_type": "stream",
       "stream": "stdout",
       "text": [
        "gen\tnevals\tavg    \tstd    \tmin\tmax\n",
        "0  \t150   \t25.1533\t3.24291\t18 \t37 \n",
        "1  \t88    \t27.5667\t2.85054\t20 \t37 \n",
        "2  \t89    \t29.8067\t2.87448\t24 \t38 \n",
        "3  \t97    \t32.26  \t2.81053\t25 \t38 "
       ]
      },
      {
       "output_type": "stream",
       "stream": "stdout",
       "text": [
        "\n",
        "4  \t92    \t34.32  \t2.26074\t28 \t40 \n",
        "5  \t109   \t35.7667\t1.93017\t31 \t43 \n",
        "6  \t96    \t37.1133\t1.65141\t33 \t44 \n",
        "7  \t87    \t38.0933\t1.99448\t33 \t44 "
       ]
      },
      {
       "output_type": "stream",
       "stream": "stdout",
       "text": [
        "\n",
        "8  \t86    \t39.3933\t1.98628\t33 \t44 \n",
        "9  \t107   \t40.8133\t1.73738\t36 \t45 \n",
        "10 \t96    \t41.7733\t1.78567\t34 \t45 \n",
        "[[1, 1, 1, 1, 1, 1, 1, 1, 1, 0, 0, 1, 1, 1, 1, 1, 1, 1, 1, 1, 1, 1, 1, 0, 1, 1, 1, 1, 1, 0, 1, 1, 1, 1, 1, 1, 1, 1, 1, 1, 1, 1, 1, 0, 1, 1, 1, 1, 1, 1]]\n"
       ]
      }
     ],
     "prompt_number": 3
    },
    {
     "cell_type": "code",
     "collapsed": false,
     "input": [
      "# Compruebe si en la ejecuci\u00f3n anterior se ha obtenido el \u00f3ptimo de la funci\u00f3n\n",
      "# Qu\u00e9 modificaciones pueden realizarse al algoritmo gen\u00e9tico para mejorar sus resultados?\n",
      "# Pruebe las siguientes modificaciones, ejecute en cada caso y compruebe el resultado.\n",
      "\n",
      "# 1) Aumentar la cantidad de generaciones (ngen) a 20, y luego a 30\n",
      "# 2) Aumentar la probabilidad de aplicar el operador de mutaci\u00f3n (mutpb)\n",
      "# 3) Aumentar la probabilidad de aplicar el operador de  cruzamiento (cxpb)\n",
      "\n",
      "if __name__ == \"__main__\":\n",
      "    # La poblaci\u00f3n tendr\u00e1 150 individuos\n",
      "    pop = toolbox.population(n=150)\n",
      "    # El algoritmo evolutivo simple utiliza los siguientes par\u00e1metros\n",
      "    # Probabilidad de cruzamiento 0.5\n",
      "    # Probabilidad de aplicar el operador de mutaci\u00f3n 0.2\n",
      "    # N\u00famero de generaciones 10\n",
      "    algorithms.eaSimple(pop, toolbox, stats=stats, cxpb=0.8, mutpb=0.2, ngen=10, verbose=True)\n",
      "    print(tools.selBest(pop, k=1))"
     ],
     "language": "python",
     "metadata": {},
     "outputs": [
      {
       "output_type": "stream",
       "stream": "stdout",
       "text": [
        "gen\tnevals\tavg \tstd    \tmin\tmax\n",
        "0  \t150   \t24.9\t3.69459\t16 \t35 \n",
        "1  \t126   \t27.46\t2.72184\t19 \t35 \n",
        "2  \t128   \t29.78\t2.75408\t22 \t36 \n",
        "3  \t128   \t31.9933\t2.48863\t23 \t37 "
       ]
      },
      {
       "output_type": "stream",
       "stream": "stdout",
       "text": [
        "\n",
        "4  \t131   \t34.18  \t1.90112\t30 \t40 \n",
        "5  \t118   \t35.84  \t2.07872\t29 \t41 \n",
        "6  \t129   \t37.0667\t1.91021\t31 \t43 "
       ]
      },
      {
       "output_type": "stream",
       "stream": "stdout",
       "text": [
        "\n",
        "7  \t126   \t38.42  \t1.8521 \t34 \t44 \n",
        "8  \t125   \t39.5133\t2.01573\t34 \t45 \n",
        "9  \t129   \t41.08  \t1.8709 \t36 \t47 "
       ]
      },
      {
       "output_type": "stream",
       "stream": "stdout",
       "text": [
        "\n",
        "10 \t128   \t42.3133\t2.03678\t35 \t47 \n",
        "[[1, 1, 1, 1, 1, 1, 1, 1, 1, 0, 1, 1, 1, 1, 1, 1, 1, 1, 1, 1, 1, 1, 1, 1, 0, 1, 1, 1, 1, 1, 0, 1, 1, 1, 1, 1, 1, 1, 1, 1, 1, 1, 1, 1, 1, 1, 1, 1, 1, 1]]\n"
       ]
      }
     ],
     "prompt_number": 4
    },
    {
     "cell_type": "code",
     "collapsed": false,
     "input": [
      "# En este ejercicio crearemos otro algoritmo gen\u00e9tico para resolver \n",
      "# una funci\u00f3n que maximiza el n\u00famero de veces que se alternan los ceros\n",
      "# y los unos en la soluci\u00f3n \n",
      "\n",
      "# Realice las siguientes modificaciones al pseudo-c\u00f3digo para satisfacer las siguientes\n",
      "# condiciones\n",
      "# 1) Resolver un problema de tama\u00f1o 75\n",
      "# 2) Disminuir la presi\u00f3n de la selecci\u00f3n\n",
      "# 3) Evaluar la funci\u00f3n deseada\n",
      "\n",
      "# Se define la funci\u00f3n a optimizar (Onemax)\n",
      "def evalMaxDiff(individual):\n",
      "    return (abs(sum(individual[0:][::2]) - sum(individual[1:][::2])),)\n",
      "\n",
      "# Heredamos las clases y funciones implementadas como parte de DEAP\n",
      "toolbox1 = base.Toolbox()\n",
      "# Utilizaremos una representaci\u00f3n binaria\n",
      "toolbox1.register(\"attr_bool\", random.randint, 0, 1)\n",
      "# Definimos que nuestros individuos tendr\u00e1n 50 variables binarias\n",
      "toolbox1.register(\"individual\", tools.initRepeat, creator.Individual, toolbox1.attr_bool, n=50)\n",
      "# Definimos la poblaci\u00f3n a partir de los individuos\n",
      "toolbox1.register(\"population\", tools.initRepeat, list, toolbox1.individual)\n",
      "# Asociamos como funci\u00f3n de aptitud la funci\u00f3n OneMax\n",
      "toolbox1.register(\"evaluate\", evalMaxDiff)\n",
      "# Nuestro operador de cruzamiento ser\u00e1 el cruzamiento en 2 puntos\n",
      "toolbox1.register(\"mate\", tools.cxTwoPoint)\n",
      "# El operador de mutaci\u00f3n cambiar\u00e1 1-->0  y 0-->1 con una probabilidad de mutaci\u00f3n de 0.05\n",
      "toolbox1.register(\"mutate\", tools.mutFlipBit, indpb=0.05)\n",
      "# Usaremos selecci\u00f3n por torneo con un par\u00e1metro de torneo = 3\n",
      "toolbox1.register(\"select\", tools.selTournament, tournsize=3)\n",
      "\n",
      "\n",
      "if __name__ == \"__main__\":\n",
      "    # La poblaci\u00f3n tendr\u00e1 250 individuos\n",
      "    pop = toolbox1.population(n=250)\n",
      "    # El algoritmo evolutivo simple utiliza los siguientes par\u00e1metros\n",
      "    # Probabilidad de cruzamiento 0.5\n",
      "    # Probabilidad de aplicar el operador de mutaci\u00f3n 0.2\n",
      "    # N\u00famero de generaciones 30    \n",
      "    algorithms.eaSimple(pop, toolbox1, stats=stats, cxpb=0.5, mutpb=0.2, ngen=15, verbose=True)\n",
      "    print(tools.selBest(pop, k=1))\n",
      "    \n",
      "\n"
     ],
     "language": "python",
     "metadata": {},
     "outputs": [
      {
       "output_type": "stream",
       "stream": "stdout",
       "text": [
        "gen\tnevals\tavg \tstd    \tmin\tmax\n",
        "0  \t250   \t2.66\t1.96581\t0  \t10 \n",
        "1  \t153   \t4.024\t2.32022\t0  \t12 \n",
        "2  \t156   \t5.012\t2.60382\t0  \t14 "
       ]
      },
      {
       "output_type": "stream",
       "stream": "stdout",
       "text": [
        "\n",
        "3  \t159   \t6.26 \t2.69674\t0  \t14 \n",
        "4  \t145   \t7.472\t2.94775\t0  \t15 \n",
        "5  \t141   \t9.272\t2.70518\t0  \t16 "
       ]
      },
      {
       "output_type": "stream",
       "stream": "stdout",
       "text": [
        "\n",
        "6  \t151   \t11.212\t2.51854\t1  \t16 \n",
        "7  \t121   \t12.936\t1.88571\t7  \t18 "
       ]
      },
      {
       "output_type": "stream",
       "stream": "stdout",
       "text": [
        "\n",
        "8  \t145   \t14.408\t1.60048\t9  \t18 \n",
        "9  \t157   \t15.448\t1.77293\t9  \t21 "
       ]
      },
      {
       "output_type": "stream",
       "stream": "stdout",
       "text": [
        "\n",
        "10 \t124   \t16.592\t1.84866\t9  \t23 \n",
        "11 \t152   \t17.764\t1.89217\t12 \t23 "
       ]
      },
      {
       "output_type": "stream",
       "stream": "stdout",
       "text": [
        "\n",
        "12 \t151   \t18.896\t1.82789\t13 \t24 \n",
        "13 \t141   \t19.96 \t1.93659\t12 \t24 "
       ]
      },
      {
       "output_type": "stream",
       "stream": "stdout",
       "text": [
        "\n",
        "14 \t162   \t20.94 \t1.87414\t12 \t25 \n",
        "15 \t150   \t21.992\t1.55947\t16 \t25 "
       ]
      },
      {
       "output_type": "stream",
       "stream": "stdout",
       "text": [
        "\n",
        "[[1, 0, 1, 0, 1, 0, 1, 0, 1, 0, 1, 0, 1, 0, 1, 0, 1, 0, 1, 0, 1, 0, 1, 0, 1, 0, 1, 0, 1, 0, 1, 0, 1, 0, 1, 0, 1, 0, 1, 0, 1, 0, 1, 0, 1, 0, 1, 0, 1, 0]]\n"
       ]
      }
     ],
     "prompt_number": 5
    },
    {
     "cell_type": "code",
     "collapsed": false,
     "input": [
      "# A continuaci\u00f3n se muestra una lista de operadores implementados en DEAP\n",
      "# Utilice esta informaci\u00f3n y los ejemplos anteriores para resolver el pr\u00f3ximo ejercicion\n",
      "\n",
      "from IPython.display import HTML\n",
      "HTML('<iframe src=http://deap.gel.ulaval.ca/doc/default/api/tools.html?highlight=crossover?useformat=mobile width=700 height=350></iframe>')"
     ],
     "language": "python",
     "metadata": {},
     "outputs": [
      {
       "html": [
        "<iframe src=http://deap.gel.ulaval.ca/doc/default/api/tools.html?highlight=crossover?useformat=mobile width=700 height=350></iframe>"
       ],
       "metadata": {},
       "output_type": "pyout",
       "prompt_number": 24,
       "text": [
        "<IPython.core.display.HTML at 0x3b20650>"
       ]
      }
     ],
     "prompt_number": 24
    },
    {
     "cell_type": "code",
     "collapsed": false,
     "input": [
      "# Defina un algoritmo gen\u00e9tico simple (toolbox2)  que:\n",
      "\n",
      "# 1) Optimice una funci\u00f3n que devuelve el m\u00e1ximo valor entre la  suma de variables con valor cero (S_zero) \n",
      "#    y la suma de variables con valor uno  (S_one) de un individuo\n",
      "# SUGERENCIA: Modifique la funci\u00f3n Onemax\n",
      "# 2) Utilice cruzamiento en un solo punto\n",
      "# 3) Utilice selecci\u00f3n por Ruleta (Selecci\u00f3n proporcional)\n",
      "# SUGERENCIA: Como en el ejemplo anterior, copie primerante las definiciones del Algoritmo gen\u00e9tico \n",
      "# y modifique el pseudo-c\u00f3digo para adaptarlo a las condiciones del ejercicio\n",
      "\n",
      "# En el c\u00f3digo siguiente sustituya toolbox1 por toolbox2 \n",
      "# Ejecute el algoritmo durante 25 generaciones y compruebe si la soluci\u00f3n final es \u00f3ptima\n",
      "\n",
      "if __name__ == \"__main__\":\n",
      "    # La poblaci\u00f3n tendr\u00e1 250 individuos\n",
      "    pop = toolbox1.population(n=250)\n",
      "    # El algoritmo evolutivo simple utiliza los siguientes par\u00e1metros\n",
      "    # Probabilidad de cruzamiento 0.5\n",
      "    # Probabilidad de aplicar el operador de mutaci\u00f3n 0.2\n",
      "    # N\u00famero de generaciones 30\n",
      "    algorithms.eaSimple(pop, toolbox1, stats=stats, cxpb=0.5, mutpb=0.2, ngen=15, verbose=True)\n",
      "    print(tools.selBest(pop, k=1))\n"
     ],
     "language": "python",
     "metadata": {},
     "outputs": [
      {
       "output_type": "stream",
       "stream": "stdout",
       "text": [
        "gen\tnevals\tavg \tstd    \tmin\tmax\n",
        "0  \t250   \t2.82\t2.16231\t0  \t11 \n",
        "1  \t132   \t4.424\t2.20459\t0  \t10 \n",
        "2  \t147   \t5.296\t2.27165\t0  \t11 "
       ]
      },
      {
       "output_type": "stream",
       "stream": "stdout",
       "text": [
        "\n",
        "3  \t141   \t6.376\t2.39554\t0  \t13 \n",
        "4  \t149   \t7.36 \t2.40632\t0  \t13 \n",
        "5  \t152   \t8.08 \t2.78883\t0  \t15 "
       ]
      },
      {
       "output_type": "stream",
       "stream": "stdout",
       "text": [
        "\n",
        "6  \t138   \t9.28 \t2.90131\t0  \t16 \n",
        "7  \t162   \t10.408\t3.12307\t0  \t17 \n",
        "8  \t148   \t11.932\t2.83538\t0  \t18 "
       ]
      },
      {
       "output_type": "stream",
       "stream": "stdout",
       "text": [
        "\n",
        "9  \t146   \t13.268\t2.22625\t5  \t18 \n",
        "10 \t142   \t14.48 \t2.43672\t1  \t18 \n",
        "11 \t150   \t15.972\t1.65988\t10 \t21 "
       ]
      },
      {
       "output_type": "stream",
       "stream": "stdout",
       "text": [
        "\n",
        "12 \t134   \t16.828\t1.61196\t12 \t21 \n",
        "13 \t159   \t17.772\t1.65892\t13 \t22 \n",
        "14 \t157   \t18.688\t1.61451\t12 \t22 "
       ]
      },
      {
       "output_type": "stream",
       "stream": "stdout",
       "text": [
        "\n",
        "15 \t151   \t19.468\t1.73002\t13 \t23 \n",
        "[[1, 0, 1, 0, 1, 0, 1, 0, 1, 1, 0, 0, 1, 0, 1, 0, 1, 0, 1, 0, 1, 0, 1, 0, 1, 0, 1, 0, 1, 0, 1, 0, 1, 0, 1, 0, 1, 0, 1, 0, 1, 0, 1, 0, 1, 0, 1, 0, 1, 0]]\n"
       ]
      }
     ],
     "prompt_number": 6
    },
    {
     "cell_type": "code",
     "collapsed": false,
     "input": [],
     "language": "python",
     "metadata": {},
     "outputs": [
      {
       "output_type": "stream",
       "stream": "stdout",
       "text": [
        "gen\tnevals\tavg    \tstd    \tmin   \tmax    \n",
        "0  \t1000  \t1797.24\t335.044\t1025.2\t3171.69\n",
        "1  \t1000  \t1408.77\t252.051\t654.505\t2508.32"
       ]
      },
      {
       "output_type": "stream",
       "stream": "stdout",
       "text": [
        "\n",
        "2  \t1000  \t1099.4 \t189.268\t563.507\t1905.96"
       ]
      },
      {
       "output_type": "stream",
       "stream": "stdout",
       "text": [
        "\n",
        "3  \t1000  \t887.668\t144.352\t504.44 \t1414.37"
       ]
      },
      {
       "output_type": "stream",
       "stream": "stdout",
       "text": [
        "\n",
        "4  \t1000  \t732.901\t108.751\t445.799\t1166.68"
       ]
      },
      {
       "output_type": "stream",
       "stream": "stdout",
       "text": [
        "\n",
        "5  \t1000  \t626.263\t89.2912\t408.551\t1003.01"
       ]
      },
      {
       "output_type": "stream",
       "stream": "stdout",
       "text": [
        "\n",
        "6  \t1000  \t540.879\t70.882 \t346.18 \t828.493"
       ]
      },
      {
       "output_type": "stream",
       "stream": "stdout",
       "text": [
        "\n",
        "7  \t1000  \t485.078\t62.0926\t307.259\t687.383"
       ]
      },
      {
       "output_type": "stream",
       "stream": "stdout",
       "text": [
        "\n",
        "8  \t1000  \t441.538\t51.5764\t283.359\t587.545"
       ]
      },
      {
       "output_type": "stream",
       "stream": "stdout",
       "text": [
        "\n",
        "9  \t1000  \t417.479\t49.1954\t277.799\t596.127"
       ]
      },
      {
       "output_type": "stream",
       "stream": "stdout",
       "text": [
        "\n",
        "10 \t1000  \t394.539\t45.2747\t236.446\t550.522"
       ]
      },
      {
       "output_type": "stream",
       "stream": "stdout",
       "text": [
        "\n",
        "11 \t1000  \t380.256\t44.388 \t250.505\t562.002"
       ]
      },
      {
       "output_type": "stream",
       "stream": "stdout",
       "text": [
        "\n",
        "12 \t1000  \t367.726\t42.1987\t252.286\t508.026"
       ]
      },
      {
       "output_type": "stream",
       "stream": "stdout",
       "text": [
        "\n",
        "13 \t1000  \t361.206\t40.4728\t238.757\t499.141"
       ]
      },
      {
       "output_type": "stream",
       "stream": "stdout",
       "text": [
        "\n",
        "14 \t1000  \t356.099\t42.1695\t242.768\t466.214"
       ]
      },
      {
       "output_type": "stream",
       "stream": "stdout",
       "text": [
        "\n",
        "15 \t1000  \t346.518\t40.9905\t234.33 \t494.125"
       ]
      },
      {
       "output_type": "stream",
       "stream": "stdout",
       "text": [
        "\n",
        "16 \t1000  \t343.318\t39.4618\t236.531\t483.154"
       ]
      },
      {
       "output_type": "stream",
       "stream": "stdout",
       "text": [
        "\n",
        "17 \t1000  \t338.612\t38.6377\t219.052\t470.633"
       ]
      },
      {
       "output_type": "stream",
       "stream": "stdout",
       "text": [
        "\n",
        "18 \t1000  \t338.335\t39.7451\t211.83 \t462.422"
       ]
      },
      {
       "output_type": "stream",
       "stream": "stdout",
       "text": [
        "\n",
        "19 \t1000  \t334.54 \t39.9177\t225.407\t462.742"
       ]
      },
      {
       "output_type": "stream",
       "stream": "stdout",
       "text": [
        "\n",
        "20 \t1000  \t332.096\t41.1684\t193.21 \t469.309"
       ]
      },
      {
       "output_type": "stream",
       "stream": "stdout",
       "text": [
        "\n",
        "21 \t1000  \t333.002\t38.4568\t202.715\t443.709"
       ]
      },
      {
       "output_type": "stream",
       "stream": "stdout",
       "text": [
        "\n",
        "22 \t1000  \t329.729\t38.8355\t208.298\t447.982"
       ]
      },
      {
       "output_type": "stream",
       "stream": "stdout",
       "text": [
        "\n",
        "23 \t1000  \t326.593\t40.1506\t186.699\t448.353"
       ]
      },
      {
       "output_type": "stream",
       "stream": "stdout",
       "text": [
        "\n",
        "24 \t1000  \t327.008\t41.5119\t194.478\t464.788"
       ]
      },
      {
       "output_type": "stream",
       "stream": "stdout",
       "text": [
        "\n",
        "25 \t1000  \t325.008\t38.9141\t217.387\t471.165"
       ]
      },
      {
       "output_type": "stream",
       "stream": "stdout",
       "text": [
        "\n",
        "26 \t1000  \t324.425\t39.3634\t204.819\t453.612"
       ]
      },
      {
       "output_type": "stream",
       "stream": "stdout",
       "text": [
        "\n",
        "27 \t1000  \t323.543\t40.6748\t194.786\t439.769"
       ]
      },
      {
       "output_type": "stream",
       "stream": "stdout",
       "text": [
        "\n",
        "28 \t1000  \t324.078\t37.9047\t173.244\t448.502"
       ]
      },
      {
       "output_type": "stream",
       "stream": "stdout",
       "text": [
        "\n",
        "29 \t1000  \t321.14 \t40.7457\t205.819\t459.684"
       ]
      },
      {
       "output_type": "stream",
       "stream": "stdout",
       "text": [
        "\n"
       ]
      }
     ],
     "prompt_number": 7
    },
    {
     "cell_type": "code",
     "collapsed": false,
     "input": [],
     "language": "python",
     "metadata": {},
     "outputs": []
    }
   ],
   "metadata": {}
  }
 ]
}