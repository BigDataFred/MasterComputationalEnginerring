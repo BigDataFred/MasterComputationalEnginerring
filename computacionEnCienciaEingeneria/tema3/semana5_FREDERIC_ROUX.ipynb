{
 "cells": [
  {
   "cell_type": "markdown",
   "metadata": {},
   "source": [
    "# Discretización temporal no uniforme: El ejemplo del problema restringido de los tres cuerpos"
   ]
  },
  {
   "cell_type": "markdown",
   "metadata": {},
   "source": [
    "<ul id=\"top\">\n",
    "<li><a href=\"#1-Problema-restringido-de-los-tres-cuerpos\">1-Problema restringido de los tres cuerpos</a></li>\n",
    "<li><a href=\"#2-Implementación-RK5-y-DOPRI5\">2-Implementación RK5 y DOPRI5</a></li>\n",
    "<li><a href=\"#3-Simulaciones\">3-Simulaciones</a></li>\n",
    "<li><a href=\"#Valoración\">Valoración</a></li>\n",
    "</ul>  "
   ]
  },
  {
   "cell_type": "code",
   "execution_count": 1,
   "metadata": {},
   "outputs": [],
   "source": [
    "using Plots\n",
    "using LinearAlgebra"
   ]
  },
  {
   "cell_type": "markdown",
   "metadata": {},
   "source": [
    "## 1-Problema restringido de los tres cuerpos"
   ]
  },
  {
   "cell_type": "markdown",
   "metadata": {},
   "source": [
    "En este ejercicio, simularemos numéricamente la evolución de un pequeño vehículo espacial moviéndose bajo el influjo gravitacional de la tierra y la luna, en el mismo plano que el de la órbita lunar. El efecto del sol y del resto de los planetas no se tiene en cuenta en este modelo, y se considera que la luna describe una órbita circular alrededor del origen de coordenadas (que es el centro de masas del conjunto de la tierra y la luna).  En el modelo matemático que consideraremos, las coordenadas $(x,y)$ del vehículo espacial obedecen el siguiente sistema de ecuaciones diferenciales de segundo orden:\n",
    "\n",
    "\\begin{eqnarray*}\n",
    "  \\frac{d^2}{dt^2} x &=& -(1-\\mu) \\, \\frac{x+ \\mu \\cos(t)}{r_1^3}  - \\mu\\,  \\frac{x- (1-\\mu)\\cos(t)}{r_2^3} \\\\\n",
    "  \\frac{d^2}{dt^2} y &=& -(1-\\mu) \\, \\frac{y+ \\mu \\sin(t)}{r_1^3}  - \\mu\\,  \\frac{y- (1-\\mu)\\sin(t)}{r_2^3},\n",
    "\\end{eqnarray*}\n",
    "\n",
    "donde \n",
    "\\begin{eqnarray*}\n",
    "  r_1 &=& \\sqrt{(x+\\mu\\, \\cos(t))^2+(y+\\mu \\, \\sin(t))^2}, \\\\ \n",
    "r_2 &=& \\sqrt{(x-(1-\\mu)\\,  \\cos(t))^2+(y-(1-\\mu)\\,  \\sin(t))^2}, \n",
    "\\end{eqnarray*}\n",
    "y $\\mu = 0.012277471$.\n",
    "\n",
    "Dicho sistema de EDOs de segundo orden se puede reescribir como un sistema de EDOs de primer orden añadiendo las variables de estado $(v,w)$ correspondientes a las dos componentes de la velocidad del vehículo espacial:\n",
    "\n",
    "<a id='Edo-PRTC'></a>\n",
    "\\begin{equation*}\n",
    "\\begin{array}{rcl}\n",
    "\\displaystyle \\frac{d}{dt} x &=& v, \\\\ \n",
    "\\displaystyle\\frac{d}{dt} y &=&  w,  \\\\ \n",
    "\\displaystyle  \\frac{d}{dt} v &=& \\displaystyle -(1-\\mu) \\, \\frac{x+ \\mu \\cos(t)}{r_1^3}  - \\mu\\,  \\frac{x- (1-\\mu)\\cos(t)}{r_2^3} \\\\\n",
    "\\displaystyle  \\frac{d}{dt} w &=& \\displaystyle -(1-\\mu) \\, \\frac{y+ \\mu \\sin(t)}{r_1^3}  - \\mu\\,  \\frac{y- (1-\\mu)\\sin(t)}{r_2^3}.\n",
    "  \\end{array}\n",
    "  \\hspace{3em} \\tag{1}\n",
    "\\end{equation*}\n",
    "\n",
    "A lo largo del presente ejercicio, consideraremos las siguientes condiciones iniciales:\n",
    "\n",
    "<a id='Cond-Ini'></a>\n",
    "\\begin{equation*}\n",
    "  x(0)=0.994, \\quad y(0)=0, \\quad v(0)=0, \\quad w(0)=-1.0075851063790825. \n",
    "    \\hspace{3em} \\tag{2}\n",
    "\\end{equation*}\n",
    "\n",
    "Dicha condiciones iniciales se corresponden al caso en que el vehículo espacial sale de la superficie de la luna a gran velocidad, y vuelve al mismo punto de la superficie de la luna después de orbitar alrededor de la tierra durante un tiempo $T=17.06521656015796$. Las unidades de longitud y tiempo son tales que la distancia entre la tierra y la luna es $1$ en dichas unidades, y el tiempo que transcurre durante una revolución de la luna alrededor de la tierra es $2\\pi$. \n",
    "\n",
    "Las coordenadas del centro de la luna en cada instante $t$ son $((1-\\mu)\\, \\cos(t), (1-\\mu)\\, \\sin(t))$ (mientras que los de la tierra son  $(-\\mu \\, \\cos(t), -\\mu\\, \\sin(t))$). En particular, en $t=0$, la luna está situada en el punto $(1-\\mu,0)=(0.987723,0)$, mientras que la tierra estará en $(-\\mu,0)=(-0.012277471,0)$, de modo que inicialmente, el vehículo espacial está alineado con la luna y la tierra, y muy cerca de la luna, a una distancia de $0.994 - 0.987723=0.006277471$.\n",
    "\n",
    "Resulta que pasado un cierto tiempo $T$, en concreto, $T=17.06521656015796$, el vehículo espacial vuelve a estar alineado con la luna y la tierra. Ello se traduce en que \n",
    "\n",
    "<a id='Cond-T'></a>\n",
    "\\begin{equation*}\n",
    "  x(T) \\, \\sin(T) - y(T)\\, \\cos(T)=0. \\hspace{8em} (3)\n",
    "\\end{equation*}\n",
    "\n",
    "(Además, después de ese tiempo vuelve a estar exactamente a la misma distancia de la luna que en el tiempo $t=0$.) "
   ]
  },
  {
   "cell_type": "markdown",
   "metadata": {},
   "source": [
    "<a href=\"#top\">Back to the top</a>"
   ]
  },
  {
   "cell_type": "markdown",
   "metadata": {},
   "source": [
    "## 2-Implementación RK5 y DOPRI5 "
   ]
  },
  {
   "cell_type": "markdown",
   "metadata": {},
   "source": [
    "### 2.1- Ejercicio"
   ]
  },
  {
   "cell_type": "markdown",
   "metadata": {},
   "source": [
    "En este ejercicio, haremos uso del método de Runge-Kutta de orden 5 de Dormand y Prince presentado en la exposición de la 2ª parte del Tema 2.  Utilizaremos dos versiones de dicho método: \n",
    "\n",
    "1. El método implementado para una discretización temporal uniforme, que implementaremos como una función llamada RK5, con los mismos argumentos de entrada y salida que la función RK4 implementada en la cuarta semana.\n",
    "2. El método implementado con discretización temporal no uniforme. Para ello implementaréis una función, que llamaremos DOPRI5, siguiendo las indicaciones del documento _Algoritmo de Runge-Kutta con paso variable_ disponible en el Tema 3 del aula virtual.  Los argumentos de entrada son los siguientes:  $u_0, t_0, T, f, p, tol, h_0, n_{\\mathrm{max}}$.\n",
    "El significado de los cinco primeros argumentos de entrada es el mismo que en RK4. Como argumentos de entrada adicionales, por un lado tenemos el entero positivo $n_{\\mathrm{max}}$, que es el número máximo de pasos del método de Runge-Kutta que vamos a dar, y por otro lado, tenemos los números reales positivos tol y $h_0$:\n",
    "tol es el parámetro de control de error descrito en el algoritmo, y $h_0$ es la longitud de paso inicial. El resultado de la función DOPRI5 será una tabla de resultados como la de RK4.\n",
    "En la primera columna de dicha tabla de resultados estarán los valores del tiempo $t_j$ de la discretización temporal no uniforme generada internamente por el algoritmo.\n",
    "\n",
    "Tanto para la implementación de la función RK5 como para la de DOPRI5, haremos uso por un lado, de la siguiente función, que devuelve todos los valores de los coefficientes del método de Runge-Kutta:"
   ]
  },
  {
   "cell_type": "code",
   "execution_count": 2,
   "metadata": {},
   "outputs": [
    {
     "data": {
      "text/plain": [
       "DOPRI5Coefs (generic function with 1 method)"
      ]
     },
     "execution_count": 2,
     "metadata": {},
     "output_type": "execute_result"
    }
   ],
   "source": [
    "function DOPRI5Coefs()\n",
    "    a = zeros(6,6)\n",
    "    a[2,1] = 1/5\n",
    "    a[3,1] = 3/40\n",
    "    a[3,2] = 9/40\n",
    "    a[4,1] = 44/45\n",
    "    a[4,2] = -56/15\n",
    "    a[4,3] = 32/9\n",
    "    a[5,1] = 19372/6561\n",
    "    a[5,2] = -25360/2187\n",
    "    a[5,3] = 64448/6561\n",
    "    a[5,4] = -212/729\n",
    "    a[6,1] = 9017/3168\n",
    "    a[6,2] = -355/33\n",
    "    a[6,3] = 46732/5247\n",
    "    a[6,4] = 49/176\n",
    "    a[6,5] = -5103/18656\n",
    "    b = [35/384, 0., 500/1113, 125/192, -2187/6784, 11/84]  \n",
    "    c = [0., 0.2, 0.3, 0.8, 8/9, 1.]\n",
    "    d = [-12715105075/11282082432,  0., 87487479700/32700410799, -10690763975/1880347072, \n",
    "           701980252875/199316789632, -1453857185/822651844,  69997945/29380423]\n",
    "    return a, b, c, d\n",
    "end"
   ]
  },
  {
   "cell_type": "markdown",
   "metadata": {},
   "source": [
    "- **Implementar la función RK5(u0, t0, T, n, f, p, m).**"
   ]
  },
  {
   "cell_type": "code",
   "execution_count": 3,
   "metadata": {},
   "outputs": [
    {
     "data": {
      "text/plain": [
       "RK5"
      ]
     },
     "execution_count": 3,
     "metadata": {},
     "output_type": "execute_result"
    }
   ],
   "source": [
    "\"\"\"\n",
    "Metodo de Runge-Kutta de orden 5 de Dormand y Prince (1981). \n",
    "Implementación con paso constante.\n",
    "\"\"\"\n",
    "function  RK5(u0, t0, T, n, f, p, m=1)\n",
    "      h = (T-t0)/(n*m)\n",
    "     (a,b,c,d) = DOPRI5Coefs() # Coeficientes del método\n",
    "      W = zeros(n+1,length(u0)+1)\n",
    "      W[1,:] = [t0; u0]  \n",
    "      tj = t0\n",
    "      uj = u0\n",
    "    for j in 1:n\n",
    "        for i in 1:m\n",
    "          uj = RK5Step(uj,tj,h,f,p,a,b,c)    \n",
    "          tj = tj + h\n",
    "        end\n",
    "        W[j+1,:] = [tj; uj] # Se introduce el resultado del paso j-ésimo \n",
    "                            # en la fila (j+1)-ésima de la matriz de resultados\n",
    "    end\n",
    "    return W\n",
    "end"
   ]
  },
  {
   "cell_type": "code",
   "execution_count": 4,
   "metadata": {},
   "outputs": [
    {
     "data": {
      "text/plain": [
       "RK5Step (generic function with 1 method)"
      ]
     },
     "execution_count": 4,
     "metadata": {},
     "output_type": "execute_result"
    }
   ],
   "source": [
    "function RK5Step(uj,tj,h,f,p,a,b,c)    \n",
    "    \n",
    "    k1 = f(tj+h*c[1], uj, p)\n",
    "    \n",
    "    uuj = uj + h*a[2,1]*k1\n",
    "    k2 = f(tj+h*c[2], uuj, p)\n",
    "    \n",
    "    uuj = uj + (h*a[3,1]*k1) + (h*a[3,2]*k2)\n",
    "    k3 = f(tj+h*c[3], uuj, p)\n",
    "    \n",
    "    uuj = uj + (h*a[4,1]*k1) + (h*a[4,2]*k2) + (h*a[4,3]*k3)\n",
    "    k4 = f(tj+h*c[4], uuj, p)\n",
    "    \n",
    "    uuj = uj + (h*a[5,1]*k1) + (h*a[5,2]*k2) + (h*a[5,3]*k3) + (h*a[5,4]*k4)\n",
    "    k5 = f(tj+h*c[5], uuj, p)\n",
    "    \n",
    "    uuj = uj + (h*a[6,1]*k1) + (h*a[6,2]*k2) + (h*a[6,3]*k3) + (h*a[6,4]*k4) + (h*a[6,5]*k5)\n",
    "    k6 = f(tj+h*c[6], uuj, p)\n",
    "    \n",
    "    uj = uj + h*(b[1]*k1+b[2]*k2+b[3]*k3+b[4]*k4+b[5]*k5+b[6]*k6)\n",
    "    \n",
    "    return uj\n",
    "end"
   ]
  },
  {
   "cell_type": "markdown",
   "metadata": {},
   "source": [
    "- **Implementar la función DOPRI5(u0, t0, T, f, p, tol, h0, nmax).**"
   ]
  },
  {
   "cell_type": "code",
   "execution_count": 5,
   "metadata": {},
   "outputs": [
    {
     "data": {
      "text/plain": [
       "DOPRI5"
      ]
     },
     "execution_count": 5,
     "metadata": {},
     "output_type": "execute_result"
    }
   ],
   "source": [
    "\"\"\"\n",
    "Metodo de Runge-Kutta de orden 5 de Dormand y Prince (1981). \n",
    "Implementación con paso variable.\n",
    "\"\"\"\n",
    "function  DOPRI5(u0, t0, T, f, p, tol, h0, nmax=10000)\n",
    "      d = length(u0)  \n",
    "      (a,b,c,d) = DOPRI5Coefs() # Coeficientes del método\n",
    "      W = zeros(nmax+1,length(u0)+1)\n",
    "      W[1,:] = [t0; u0]  \n",
    "      tj = t0\n",
    "      uj = u0\n",
    "      hj = h0\n",
    "      j = 1\n",
    "      for i = 1:nmax\n",
    "          \n",
    "          (uj1, tj1, Eh) = DOPRI5Step(uj,tj,hj,f,p,a,b,c,d)  \n",
    "        \n",
    "          if (Eh >= 2*tol)\n",
    "              hj = hj*(tol/Eh)^(0.2)\n",
    "          else    \n",
    "              if (tj1 <= T)\n",
    "                  \n",
    "                  hj = min(hj*(tol/Eh)^(0.2),T-tj1)\n",
    "              \n",
    "                  tj = tj1\n",
    "                  uj = uj1  \n",
    "                  j = j+1\n",
    "                  W[j,:] = [tj; uj]\n",
    "              else\n",
    "                  break\n",
    "              end\n",
    "          end\n",
    "        \n",
    "      end\n",
    "      return W[1:j,:]  # En este caso, no se ha llegado al final del intervalo temporal, \n",
    "                 # por haberse alcanzado el número máximo de pasos (fallidos y exitosos) totales\n",
    "end"
   ]
  },
  {
   "cell_type": "code",
   "execution_count": 6,
   "metadata": {},
   "outputs": [
    {
     "data": {
      "text/plain": [
       "DOPRI5Step (generic function with 1 method)"
      ]
     },
     "execution_count": 6,
     "metadata": {},
     "output_type": "execute_result"
    }
   ],
   "source": [
    "function DOPRI5Step(uj,tj,h,f,p,a,b,c,d)    \n",
    "    k1 = f(tj+h*c[1], uj, p)\n",
    "    \n",
    "    uuj = uj + h*a[2,1]*k1\n",
    "    k2 = f(tj+h*c[2], uuj, p)\n",
    "    \n",
    "    uuj = uj + (h*a[3,1]*k1) + (h*a[3,2]*k2)\n",
    "    k3 = f(tj+h*c[3], uuj, p)\n",
    "    \n",
    "    uuj = uj + (h*a[4,1]*k1) + (h*a[4,2]*k2) + (h*a[4,3]*k3)\n",
    "    k4 = f(tj+h*c[4], uuj, p)\n",
    "    \n",
    "    uuj = uj + (h*a[5,1]*k1) + (h*a[5,2]*k2) + (h*a[5,3]*k3) + (h*a[5,4]*k4)\n",
    "    k5 = f(tj+h*c[5], uuj, p)\n",
    "    \n",
    "    uuj = uj + (h*a[6,1]*k1) + (h*a[6,2]*k2) + (h*a[6,3]*k3) + (h*a[6,4]*k4) + (h*a[6,5]*k5)\n",
    "    k6 = f(tj+h*c[6], uuj, p)\n",
    "\n",
    "    uj1 = uj + h*(b[1]*k1 + b[2]*k2 + b[3]*k3 + b[4]*k4 + b[5]*k5 + b[6]*k6)\n",
    "    tj1 = tj + h\n",
    "    \n",
    "    k7 = f(tj1, uj1, p)\n",
    "    Eh = h*norm(d[1]*k1 + d[3]*k3 + d[4]*k4 + d[5]*k5 + d[6]*k6 + d[7]*k7)\n",
    "\n",
    "    return uj1, tj1, Eh\n",
    "end"
   ]
  },
  {
   "cell_type": "markdown",
   "metadata": {},
   "source": [
    "<a href=\"#top\">Back to the top</a>"
   ]
  },
  {
   "cell_type": "markdown",
   "metadata": {},
   "source": [
    "## Simulaciones"
   ]
  },
  {
   "cell_type": "markdown",
   "metadata": {},
   "source": [
    "### 2.2- Ejercicio"
   ]
  },
  {
   "cell_type": "markdown",
   "metadata": {},
   "source": [
    "Utilizaréis ambos versiones del método de orden 5 de Dormand y Prince para simular la evolución de las coordenadas $(x(t),y(t))$ de posición (y la velocidad $(v(t),w(t))$) del vehículo espacial en el intervalo temporal $t \\in [0,T]$ (donde $T=17.06521656015796$). \n",
    "Los resultados numéricos que obtengamos, al ser aproximaciones a la solución, no satisfarán exactamente la igualdad [(3)](#Cond-T). Para comparar la precisión de unos resultados con otros, comprobaréis en qué medida se satisface dicha igualdad [(3)](#Cond-T).\n",
    "\n",
    "\n",
    "- **Aplicar el método RK5 al problema [(1)](#Edo-PRTC)-[(2)](#Cond-Ini), para calcular aproximaciones de la solución $u(t)=(x(t),y(t),v(t),w(t))$ para los valores de $t$ siguiente\n",
    "\\begin{equation*}\n",
    "t_0=0, \\ t_1=t_0+h, \\ t_2 = t_1+h, \\ \\ldots, t_{n-1}=t_{n-2}+h, \\ t_{n}=t_{n-1}+h=T,\n",
    "\\end{equation*}\n",
    " donde $h=T/n$ con $n=20000$. **"
   ]
  },
  {
   "cell_type": "code",
   "execution_count": 7,
   "metadata": {},
   "outputs": [
    {
     "data": {
      "text/plain": [
       "spaceV (generic function with 1 method)"
      ]
     },
     "execution_count": 7,
     "metadata": {},
     "output_type": "execute_result"
    }
   ],
   "source": [
    "function spaceV(t,u,p)\n",
    "    \n",
    "    x = u[1]\n",
    "    y = u[2]\n",
    "    dx = u[3]\n",
    "    dy = u[4]\n",
    "    \n",
    "    mu = p[1]\n",
    "    \n",
    "    aux1 =(1.0-mu)\n",
    "    \n",
    "    r1 = sqrt( (x+mu*cos(t))^2 + (y+mu*sin(t))^2 ) \n",
    "    r2 = sqrt( (x-(aux1)*cos(t))^2 + (y-(aux1)*sin(t))^2 ) \n",
    "    \n",
    "    dv = -aux1*( x + mu*cos(t) )/(r1^3) - mu*( x - aux1*cos(t) )/(r2^3)  \n",
    "    dw = -aux1*( y + mu*sin(t) )/(r1^3) - mu*( y - aux1*sin(t) )/(r2^3) \n",
    "    \n",
    "    return [dx, dy, dv,  dw]\n",
    "    \n",
    "end"
   ]
  },
  {
   "cell_type": "code",
   "execution_count": 8,
   "metadata": {},
   "outputs": [
    {
     "data": {
      "text/plain": [
       "1×5 Adjoint{Float64,Array{Float64,1}}:\n",
       " 17.0652  -0.210657  -0.971419  -0.984894  0.214466"
      ]
     },
     "execution_count": 8,
     "metadata": {},
     "output_type": "execute_result"
    }
   ],
   "source": [
    "t0 = 0.0\n",
    "u0 = [0.994, 0., 0., -1.0075851063790825]\n",
    "p = 0.012277471\n",
    "n = 20000\n",
    "T = 17.06521656015796\n",
    "\n",
    "res = RK5(u0, t0, T, n, spaceV, p,1)\n",
    "res[size(res,1),:]'"
   ]
  },
  {
   "cell_type": "markdown",
   "metadata": {},
   "source": [
    "> **Comprobación**\n",
    ">\n",
    "> Los valores de la posición $(x,y)$ y la velocidad $(v,w)$ del satélite en  $t = T$ obtenidas por RK5 con $h=T/20000$  son respectivamente\n",
    ">\n",
    "> $(x, y) = (-0.2106569017750179, -0.9714189248994205)$, \n",
    ">\n",
    "> $(v,w) = (-0.9848940608011202, \\ 0.21446613403369472)$."
   ]
  },
  {
   "cell_type": "markdown",
   "metadata": {},
   "source": [
    "- **Dibujar en una misma figura la órbita descrita por las coordenadas $(x,y)$ de posición del vehículo espacial   junto con la órbita descrita por la luna (recordemos que hemos supuesto que la evolución de las coordenadas de posición de la luna viene dada por  $((1-\\mu)\\, \\cos(t), (1-\\mu)\\, \\sin(t))$.)**"
   ]
  },
  {
   "cell_type": "code",
   "execution_count": null,
   "metadata": {},
   "outputs": [],
   "source": [
    "tt = res[:,1]\n",
    "xsat = res[:,2]\n",
    "ysat = res[:,3]\n",
    "cc = cos.(tt)\n",
    "ss = sin.(tt)\n",
    "xluna = (1-p)*cc\n",
    "yluna = (1-p)*ss\n",
    "\n",
    "plot(xsat,ysat, xlabel=\"x\", ylabel=\"y\",label=\"Satélite\", aspect_ratio=1)\n",
    "plot!(xluna,yluna, label=\"luna\")\n",
    "plot!([0.],[0.],line=0,marker=8, label=\"Tierra\")"
   ]
  },
  {
   "cell_type": "markdown",
   "metadata": {},
   "source": [
    "### 2.3- Ejercicio"
   ]
  },
  {
   "cell_type": "markdown",
   "metadata": {},
   "source": [
    "- **Para comprobar el nivel de precisión de la aproximación de la solución obtenida, calcular la expresión del lado izquierdo de la igualdad [(3)](#Cond-T).**"
   ]
  },
  {
   "cell_type": "code",
   "execution_count": null,
   "metadata": {},
   "outputs": [],
   "source": [
    "xsat[length(xsat)]*ss[length(ss)] - ysat[length(ysat)]*cc[length(cc)]"
   ]
  },
  {
   "cell_type": "code",
   "execution_count": null,
   "metadata": {},
   "outputs": [],
   "source": [
    "xsat[length(xsat)]-0.987723"
   ]
  },
  {
   "cell_type": "markdown",
   "metadata": {},
   "source": [
    "- **¿Qué nos dice esto de la precisión de los resultados obtenidos?**\n",
    ">\n",
    "> **Respuesta**\n",
    "> \n",
    "> Sabemos que segun (3):\n",
    "> <a id='Cond-T'></a>\n",
    "\\begin{equation*}\n",
    "  x(T) \\, \\sin(T) - y(T)\\, \\cos(T)=0. \\hspace{8em} \n",
    "\\end{equation*}\n",
    ">\n",
    ">Como el resultado alcanzado es major que zero, sabemos que estamos cometiendo un error. Por lo tanto, la precision alcanzada esta bastante alta ya que es menor que 0.0001. "
   ]
  },
  {
   "cell_type": "markdown",
   "metadata": {},
   "source": [
    "### 2.4- Ejercicio"
   ]
  },
  {
   "cell_type": "markdown",
   "metadata": {},
   "source": [
    "- **Repetir los apartados 2.2 y 2.3, pero aplicando el método DOPRI5 con tolerancia $\\mathrm{tol}=10^{-6}$ y $h_0=0.1$.**"
   ]
  },
  {
   "cell_type": "code",
   "execution_count": null,
   "metadata": {},
   "outputs": [],
   "source": [
    "t0 = 0.0\n",
    "u0 = [0.994, 0., 0., -1.0075851063790825]\n",
    "p = 0.012277471\n",
    "\n",
    "T = 17.06521656015796\n",
    "h0 = 0.1\n",
    "tol = 10^(-6.0)\n",
    "\n",
    "res2 = DOPRI5(u0, t0, T, spaceV, p, tol, h0)\n",
    "res2[size(res2,1),:]'"
   ]
  },
  {
   "cell_type": "code",
   "execution_count": null,
   "metadata": {},
   "outputs": [],
   "source": [
    "tt2 = res2[:,1]\n",
    "xsat2 = res2[:,2]\n",
    "ysat2 = res2[:,3]\n",
    "cc2 = cos.(tt)\n",
    "ss2 = sin.(tt)\n",
    "xluna2 = (1-p)*cc2\n",
    "yluna2 = (1-p)*ss2\n",
    "\n",
    "plot(xsat2,ysat2, xlabel=\"x\", ylabel=\"y\",label=\"Satélite\", aspect_ratio=1)\n",
    "plot!(xluna2,yluna2, label=\"luna\")\n",
    "plot!([0.],[0.],line=0,marker=8, label=\"Tierra\")"
   ]
  },
  {
   "cell_type": "code",
   "execution_count": null,
   "metadata": {},
   "outputs": [],
   "source": [
    "xsat2[length(xsat2)]*ss2[length(ss2)] - ysat2[length(ysat2)]*cc2[length(cc2)]"
   ]
  },
  {
   "cell_type": "markdown",
   "metadata": {},
   "source": [
    ">**Comprobación**\n",
    ">\n",
    "> La expresión del lado izquierdo de la igualdad [(3)](#Cond-T) para la posición $(x,y)$ del satélite en $t=T$ obtenida con DOPRI5 debería de dar como resultado 1.6570371325075328e-8"
   ]
  },
  {
   "cell_type": "markdown",
   "metadata": {},
   "source": [
    "- **¿Cual de los dos métodos da resultados más precisos? (Supondremos que el nivel de precisión en cada caso se puede deducir comprobando hasta que punto se verifica la igualdad [(3)](#Cond-T))**.\n",
    "\n",
    ">**Respuesta**\n",
    ">\n",
    "> El metodo DOPRI5 es mas preciso que el metodo RK5, ya que la igualdad [(3)] se verifica mas para DOPRI5 que para RK5 como se puede comprobar en los resultados."
   ]
  },
  {
   "cell_type": "markdown",
   "metadata": {},
   "source": [
    "### 2.5- Ejercicio"
   ]
  },
  {
   "cell_type": "markdown",
   "metadata": {},
   "source": [
    "- **Comparar la eficiencia del algoritmo RK5 (método de Runge-Kutta de Dormand y Prince de orden 5 con discretización temporal uniforme) y del algoritmo DOPRI5 (mismo método de Runge-Kutta pero con discretización temporal no uniforme).\n",
    "¿Ha merecido la pena (desde el punto de vista la eficiencia de los cálculos) en este caso el empleo de una discretización temporal no uniforme?**"
   ]
  },
  {
   "cell_type": "code",
   "execution_count": null,
   "metadata": {},
   "outputs": [],
   "source": [
    "print(size(res,1))\n",
    "print(\"\\n\")\n",
    "print(size(res2,1))\n",
    "print(\"\\n\")\n",
    "print(size(res,1)/size(res2,1))\n",
    "print(\"\\n\")\n",
    "print(5.310371941180669e-6/1.65725397294203e-8)"
   ]
  },
  {
   "cell_type": "markdown",
   "metadata": {},
   "source": [
    ">**Respuesta**\n",
    ">\n",
    ">Yo diria que el metodo DOPRI5 es mas efectivo porque en solo 753 pasos alcanza un nivel de precision de 3 ordenes de magnitud mas alto que el algoritmo RK5. Por otro lado, con el metodo RK5 se requieren 20000 pasos, y el tiempo de ejecucion esta mucho mas alto. Aunque el nivel de precision alcanzado con RK5 es menor de 0.001, el algoritmo DOPRI5 esta mucho mas eficiente que el algoritmo RK5."
   ]
  },
  {
   "cell_type": "markdown",
   "metadata": {},
   "source": [
    "### 2.6- Ejercicio"
   ]
  },
  {
   "cell_type": "markdown",
   "metadata": {},
   "source": [
    "- **Repetir los cálculos realizados previamente con DOPRI5, pero aplicando el DOPRI5 con tolerancia $\\mathrm{tol}=10^{-7}$ (y $h_0=0.1$). (En particular, comprobar hasta que punto se verifica la igualdad [(3)](#Cond-T)) para los valores de la posición $(x,y)$ en $t=T$ obtenidos.)**"
   ]
  },
  {
   "cell_type": "code",
   "execution_count": null,
   "metadata": {},
   "outputs": [],
   "source": [
    "t0 = 0.0\n",
    "u0 = [0.994, 0., 0., -1.0075851063790825]\n",
    "p = 0.012277471\n",
    "\n",
    "T = 17.06521656015796\n",
    "h0 = 0.1\n",
    "tol = 10^(-7)\n",
    "\n",
    "res3 = DOPRI5(u0, t0, T, spaceV, p, tol, h0)\n",
    "print(res3[size(res3,1),:])"
   ]
  },
  {
   "cell_type": "code",
   "execution_count": null,
   "metadata": {},
   "outputs": [],
   "source": [
    "tt3 = res3[:,1]\n",
    "xsat3 = res3[:,2]\n",
    "ysat3 = res3[:,3]\n",
    "cc3 = cos.(tt)\n",
    "ss3 = sin.(tt)\n",
    "xluna3 = (1-p)*cc3\n",
    "yluna3 = (1-p)*ss3"
   ]
  },
  {
   "cell_type": "code",
   "execution_count": null,
   "metadata": {},
   "outputs": [],
   "source": [
    "xsat3[length(xsat3)]*ss3[length(ss3)] - ysat3[length(ysat3)]*cc3[length(cc3)]"
   ]
  },
  {
   "cell_type": "code",
   "execution_count": null,
   "metadata": {},
   "outputs": [],
   "source": [
    "print(1.65725397294203e-8/10^(-6))\n",
    "print(\"\\n\")\n",
    "print(1.7332368595912584e-9/10^(-7))\n"
   ]
  },
  {
   "cell_type": "markdown",
   "metadata": {},
   "source": [
    "- **Se podría decir que el error cometido es, _a grosso modo_,  proporcional a tol?**"
   ]
  },
  {
   "cell_type": "markdown",
   "metadata": {},
   "source": [
    ">**Respuesta**\n",
    ">\n",
    ">El error cometido suele ser, en las implementaciones est\u0013andar\n",
    "de los integradores con longitud de paso variable, \"a grosso\n",
    "modo\" proporcional a tol."
   ]
  },
  {
   "cell_type": "markdown",
   "metadata": {},
   "source": [
    "<a href=\"#top\">Back to the top</a>"
   ]
  },
  {
   "cell_type": "markdown",
   "metadata": {},
   "source": [
    "### Valoración"
   ]
  },
  {
   "cell_type": "markdown",
   "metadata": {},
   "source": [
    "_Incluir aquí los comentarios de valoración de la tarea a entregar (dificultad, interés, etc, incluidas, si se quiere, sugerencias de mejora del ejercicio), así como una estimación del tiempo dedicado al trabajo de la semana (desglosado en el tiempo de estudio de material teórico, tiempo de dedicación a la participación activa o pasiva en los foros, tiempo de implementación y experimentación con los problemas prácticos planteados, y tiempo de preparación del documento jupyter final)._"
   ]
  },
  {
   "cell_type": "markdown",
   "metadata": {},
   "source": [
    "> **dificultad:** atla !!!\n",
    ">\n",
    "> **interés**: alto!!! he apprendido mucho !!!\n",
    ">\n",
    "> **sugerencias de mejora del ejercicio**: me ha parecido que desde el PDF es dificil comprender como implementar el algoritmo DOPRI5. \n",
    ">\n",
    ">**tiempo dedicado:**\n",
    "> + tiempo de estudio material teorico: 1h\n",
    "> + tiempo de dedicacion en el foro: 30 min\n",
    "> + tiempo de implementacion y experimentacion: 8h\n",
    "> + tiempo de preparacion del documento jupyter: 2h"
   ]
  },
  {
   "cell_type": "code",
   "execution_count": null,
   "metadata": {},
   "outputs": [],
   "source": []
  }
 ],
 "metadata": {
  "anaconda-cloud": {},
  "kernelspec": {
   "display_name": "Julia 1.0.3",
   "language": "julia",
   "name": "julia-1.0"
  },
  "language_info": {
   "file_extension": ".jl",
   "mimetype": "application/julia",
   "name": "julia",
   "version": "1.0.3"
  }
 },
 "nbformat": 4,
 "nbformat_minor": 2
}
