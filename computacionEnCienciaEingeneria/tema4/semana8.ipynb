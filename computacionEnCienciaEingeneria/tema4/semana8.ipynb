{
 "cells": [
  {
   "cell_type": "markdown",
   "metadata": {},
   "source": [
    "# Resolución de problemas tipo \"stiff\""
   ]
  },
  {
   "cell_type": "markdown",
   "metadata": {},
   "source": [
    "<ul id=\"top\">\n",
    "</ul>"
   ]
  },
  {
   "cell_type": "code",
   "execution_count": null,
   "metadata": {},
   "outputs": [],
   "source": [
    "using DifferentialEquations\n",
    "using BenchmarkTools\n",
    "using LinearAlgebra\n",
    "using Plots"
   ]
  },
  {
   "cell_type": "markdown",
   "metadata": {},
   "source": [
    "## 1 -  El problema del péndulo con muelle"
   ]
  },
  {
   "cell_type": "markdown",
   "metadata": {},
   "source": [
    "\n",
    "Vamos a integrar numéricamente un problema de valor inicial que\n",
    "corresponde a las ecuaciones del movimiento de un péndulo\n",
    "formado por dos piezas unidas por un muelle que\n",
    "se mueve en un plano vertical bajo la influencia de la fuerza de\n",
    "la gravedad.\n",
    "\n",
    "\n",
    "\n",
    "<img src=\"http://www.ehu.eus/ccwmuura/irakaskuntza/sinum/irudiak/pendulo.jpg\" alt=\"pendulo\" width=\"300\" >\n",
    "\n",
    "\n",
    "\n",
    "\n",
    "Este sistema mecánico tiene dos grados de libertad, y podemos\n",
    "tomar como variables de posición del sistema el ángulo\n",
    "$a$ y la distancia $L$ entre el punto de giro y el centro de\n",
    "gravedad de la pieza inferior. Las ecuaciones del movimiento\n",
    "correspondientes (bajo condiciones ideales de ausencia de\n",
    "rozamiento) son las siguientes.\n",
    "\n",
    "\\begin{eqnarray*}\n",
    "\\frac{d^2}{dt^2} L &=& L \\, \\left(\\frac{d a}{dt}\\right)^2 + g \\cos(a) - C_1 (L-L_0), \\\\\n",
    "\\frac{d^2}{dt^2} a &=& -\\frac{g (C_2 + L) \\sin(a) + 2 \\, L \\, \\frac{d L}{dt}\n",
    "\\, \\frac{d a}{dt}}{C_3 + L^2},\n",
    "\\end{eqnarray*}\n",
    "\n",
    "donde $g$ es la aceleración de la gravedad, $L_0$ es el valor\n",
    "de la distancia $L$ correspondiente al estado de reposo del\n",
    "muelle,\n",
    "\n",
    "\\begin{eqnarray*}\n",
    "C_1 = \\frac{K}{m_2}, \\quad C_2 = \\frac{r m_1}{m_2}, \\quad\n",
    "C_3 = C_2 r + \\frac{I_1+I_2}{m_2}, \n",
    "\\end{eqnarray*}\n",
    "\n",
    "$K$ es una constante determinada por la rigidez \n",
    "del muelle, $m_1$ y $m_2$ son\n",
    "respectivamente las masas de la pieza superior e inferior,\n",
    "$I_1$ e $I_2$ son los momentos de inercia de cada una de las\n",
    "piezas respecto a su centro de gravedad, y $r$ es la distancia\n",
    "entre el punto de giro y el centro de gravedad de la pieza\n",
    "superior.\n",
    "\n",
    "  Vamos a considerar el caso en que $L_0=1$, \n",
    "$g=1$, y las constantes $r$, $m_i,I_i$ (i=1,2) \n",
    "son tales que $C_2=1$ y $C_3=1$. Dependiendo de la rigidez del\n",
    "muelle (dada por la constante $K$), se tendrán distintos\n",
    "valores de la constante $C_1$. Consideraremos dos casos, que de\n",
    "menor a mayor rigidez del muelle, serán $C_1 = 100$ y $C_1 = 10000$. En el segundo caso, tendremos un problem de EDOs de tipo \"stiff\".\n",
    "\n",
    "\n",
    "Queremos\n",
    "resolver el problema de valor inicial correspondiente a\n",
    "\n",
    "$$\n",
    "a(0)=\\pi/2, \\quad \n",
    "%d(0)=1+10^{-6} g \\cos a(0), \n",
    "L(0)=L_0, \n",
    "\\quad \\frac{d}{dt} a(0)=0, \\quad  \\frac{d}{dt} L(0)=0,\n",
    "$$\n",
    "\n",
    "en el intervalo $t\\in[0,40]$. \n",
    "\n",
    "\n",
    "A diferencia de las tareas de las semanas anteriores, en lugar de utilizar nuestras propias implementaciones de dichos algoritmos, utilizaremos la implementación disponibles en el paquete de resolución numérica de sistemas de EDOs disponible en Julia (DifferentialEquations.jl):\n",
    "\n",
    "Haremos uso de dos algoritmos de integración numérica de sistemas de EDOs:\n",
    "1. Una implementación de paso variable del método de Runge-Kutta de orden 5 de Dormand y Prince, DP5 (La función DOPRI5 implementada en la semana 5 es una versión simplificada de la misma.)\n",
    "2. El método implícito de RK de orden 5 de Hairer (Hairer5), que como en el caso del método de Radau de orden 5 mostrado en las transparencias del Tema 4, es un **método apropiado para problems de tipo \"stiff\".**\n",
    "\n",
    "Para ello, se ha de llamar a la función solve(), indicándole el método a utilizar (DP5() of Hairer5()), y la tolerancia absoluta (abstol) y tolerancia relativa (reltol) al error local. \n",
    "Los algoritmos a utilizar emplean una discretización temporal no uniforme adaptada al problema.\n",
    "\n",
    "En todas las pruebas que hagamos con los distintos integradores,\n",
    "variaremos la precisión de la integración variando el valor\n",
    "de $tol$, y tomando tanto 'abstol' como 'reltol' igual a $tol$."
   ]
  },
  {
   "cell_type": "markdown",
   "metadata": {},
   "source": [
    "## 2 - Definición del sistema de EDOs\n",
    "\n",
    "-  Para empezar, hay que escribir el sistema de arriba como un sistema de EDOs de primer orden de la forma du/dt = f(t,u, p), y posteriormente, **definir en Julia la función fmuelle(u,p,t) tal que f(t,u,p) = fmuelle(u, p, t).**"
   ]
  },
  {
   "cell_type": "code",
   "execution_count": null,
   "metadata": {},
   "outputs": [],
   "source": [
    "function fmuelle(u,p,t)\n",
    "  \n",
    "    ?\n",
    "    \n",
    "    return ?\n",
    "end"
   ]
  },
  {
   "cell_type": "markdown",
   "metadata": {},
   "source": [
    "- **Evaluar dicha función para fmuelle(u,p,0.), donde u es el vector de estados correspondiente a los valores $a=1$, $L=2$, $da/dt=3$, $dL/dt=4$, y p es el vector de parámetros constantes correspondiente a $g=5$, $L_0=6$, $C_1=7$,  $C_2=8$,  $C_3=9$.** (Hay que tener en cuenta que las componentes de u y de p deben ser números de coma flotante, y no números enteros.)"
   ]
  },
  {
   "cell_type": "code",
   "execution_count": null,
   "metadata": {},
   "outputs": [],
   "source": []
  },
  {
   "cell_type": "markdown",
   "metadata": {},
   "source": [
    "> **Comprobación**\n",
    "> Debería de obtenerse\n",
    "\n",
    "          4-element Array{Float64,1}:\n",
    "          3.0              \n",
    "          4.0              \n",
    "          48.91926581726429 \n",
    "          -6.491838420715567"
   ]
  },
  {
   "cell_type": "markdown",
   "metadata": {},
   "source": [
    "<a href=\"#top\">Back to the top</a>"
   ]
  },
  {
   "cell_type": "markdown",
   "metadata": {},
   "source": [
    "## 3 - Muelle menos rígido ($C_1 = 100$)\n",
    "\n",
    "Supongamos que queremos estudiar la evolución de las variables de estado del péndulo con muelle para $C_1=100$, en el intervalo temporal $(0,40)$, y que no nos hace falta mucha precisión en los resultados. Para disminuir el tiempo de CPU, aplicaremos el método DP5 con tol=$10^{-4}$.\n",
    "\n",
    "- **Para comenzar, antes de aplicar la función _solve_, hay que definir el problema.**\n"
   ]
  },
  {
   "cell_type": "code",
   "execution_count": null,
   "metadata": {},
   "outputs": [],
   "source": [
    "u0= ?\n",
    "p= ?\n",
    "tspan = ?\n",
    "prob = ODEProblem(fmuelle,u0,tspan,p);"
   ]
  },
  {
   "cell_type": "markdown",
   "metadata": {},
   "source": [
    " - **Aplicar DP5 con $tol=10^{-4}$, y representar gráficamente la evolución de las variables de estado con respecto del tiempo.**"
   ]
  },
  {
   "cell_type": "code",
   "execution_count": null,
   "metadata": {},
   "outputs": [],
   "source": []
  },
  {
   "cell_type": "markdown",
   "metadata": {},
   "source": [
    "- El algoritmo implementado en DP5() calcula las soluciones en una discretización del tiempo no uniforme. **Representar gráficamente la secuencia de longitudes de paso utilizadas a lo largo del intervalo temporal $[0,40]$.**  "
   ]
  },
  {
   "cell_type": "code",
   "execution_count": null,
   "metadata": {},
   "outputs": [],
   "source": [
    "tt = ?\n",
    "hh = ?\n",
    "plot(tt[1:end-1],hh,title=\"Secuencia de longitudes de paso\", xlabel=\"t\", label=\"tol=1e-4\", \n",
    "     seriestype=:scatter)"
   ]
  },
  {
   "cell_type": "markdown",
   "metadata": {},
   "source": [
    "- Para comprobar la precisión de los resultados, **volver a aplicar DP5() al problema, pero esta vez con tol=$10^{-8}$.** Ahora, los resultados los calcula para otra discretización temporal no uniforme (más fina que la anterior, es decir, con más valores de los tiempos). **Para comprobarlo, comparar el número de instantes del tiempo considerados en los resultados obtenidos respectivamente con tol=$10^{-4}$ y con tol=$10^{-8}$.**"
   ]
  },
  {
   "cell_type": "code",
   "execution_count": null,
   "metadata": {},
   "outputs": [],
   "source": []
  },
  {
   "cell_type": "markdown",
   "metadata": {},
   "source": [
    ">**Comprobación**\n",
    ">  \n",
    "> En el caso tol=1e-4, resulta una discretización temporal con 252 valores del tiempo, \n",
    "> y en el caso tol=1e-8, en cambio, 1112. "
   ]
  },
  {
   "cell_type": "markdown",
   "metadata": {},
   "source": [
    " - Consideraremos los resultados recién obtenidos como exactos (pues se supone que son mucho más precisos que los obtenidos con tol=$10^{-4}$). Hay que tener en cuenta que, aunque en cada uno de los dos casos (_sol_ para la solución numérica menos precisa, y _sol2_ para la solución \"exacta\") calcula los resultados para discretizaciones temporales distintas, se pueden calcular los valores \"exactos\" de las variables de estado en cualquier valor de $t$ dentro del intervalo temporal $[0,40]$. Para ello, basta con poner sol2(t) (el algoritmo aplica técnicas de interpolación para calcular una aproximación del vector de estados en t).\n",
    " **Como comprobación adicional, calcular los valores \"exactos\" de las variables de estado en $t=14.5$.**  "
   ]
  },
  {
   "cell_type": "code",
   "execution_count": null,
   "metadata": {},
   "outputs": [],
   "source": []
  },
  {
   "cell_type": "markdown",
   "metadata": {},
   "source": [
    ">**Comprobación**\n",
    ">  \n",
    "> Se deberían de obtener los siguientes valores de las variables de estado\n",
    ">\n",
    "\n",
    "           1.0030050443733272  \n",
    "           1.4642087270483626  \n",
    "          -0.016590545719411362\n",
    "           0.4602876475898731                                 "
   ]
  },
  {
   "cell_type": "markdown",
   "metadata": {},
   "source": [
    " \n",
    " - **Definir una función errfun(t) que calcule la norma de los errores cometidos en el caso de tol=$10^{-4}$ en el tiempo t. Representar gráficamente la evolución de dicha norma de los errores en los tiempos de la discretización temporal de los resultados obtenidos para tol=$10^{-4}$.**"
   ]
  },
  {
   "cell_type": "code",
   "execution_count": null,
   "metadata": {},
   "outputs": [],
   "source": []
  },
  {
   "cell_type": "markdown",
   "metadata": {},
   "source": [
    "- **Utilizar @btime para medir y comparar los tiempos de ejecución para los resultados obtenidos con tol=$10^{-4}$ y con tol=$10^{-8}$ respectivamente.**"
   ]
  },
  {
   "cell_type": "code",
   "execution_count": null,
   "metadata": {
    "scrolled": true
   },
   "outputs": [],
   "source": []
  },
  {
   "cell_type": "code",
   "execution_count": null,
   "metadata": {
    "scrolled": true
   },
   "outputs": [],
   "source": []
  },
  {
   "cell_type": "markdown",
   "metadata": {},
   "source": [
    "- **Comentar los resultados de tiempos de ejecución obtenidos.**\n",
    "> \n",
    "> Escribir aquí los comentarios"
   ]
  },
  {
   "cell_type": "markdown",
   "metadata": {},
   "source": [
    "<a href=\"#top\">Back to the top</a>"
   ]
  },
  {
   "cell_type": "markdown",
   "metadata": {},
   "source": [
    "## 4 - Muelle más rígido ($C_1 = 10000$)\n",
    "\n",
    "### 4.1 - Método DP5\n",
    "\n",
    "Ahora queremos volver a repetir los cálculos del punto anterior, pero para el caso en el que muelle sea más rígido, en concreto, con $C_1 = 10000$."
   ]
  },
  {
   "cell_type": "markdown",
   "metadata": {},
   "source": [
    "\n",
    "- **Para comenzar, antes de aplicar la función _solve_, hay que redefinir el problema.**\n"
   ]
  },
  {
   "cell_type": "code",
   "execution_count": null,
   "metadata": {},
   "outputs": [],
   "source": []
  },
  {
   "cell_type": "markdown",
   "metadata": {},
   "source": [
    " - **Aplicar DP5 con $tol=10^{-4}$, y representar gráficamente la evolución de las variables de estado con respecto del tiempo, pero esta vez, cada variable de estado en una figura diferente** (debido a que tienen escalas de valores bastante diferentes)."
   ]
  },
  {
   "cell_type": "code",
   "execution_count": null,
   "metadata": {
    "scrolled": false
   },
   "outputs": [],
   "source": []
  },
  {
   "cell_type": "markdown",
   "metadata": {},
   "source": [
    "- Para comprobar la precisión de los resultados, **volver a aplicar DP5() al problema, pero esta vez con tol=$10^{-8}$. Antes que nada, comparar el número de instantes del tiempo considerados en los resultados obtenidos respectivamente con tol=$10^{-4}$ y con tol=$10^{-8}$.**"
   ]
  },
  {
   "cell_type": "code",
   "execution_count": null,
   "metadata": {},
   "outputs": [],
   "source": []
  },
  {
   "cell_type": "markdown",
   "metadata": {},
   "source": [
    "- **Comentar el resultado**\n",
    ">  \n",
    "> Comentario"
   ]
  },
  {
   "cell_type": "markdown",
   "metadata": {},
   "source": [
    " \n",
    " - ** Representar gráficamente la evolución de la norma de los errores de los resultados obtenidos para tol=$10^{-4}$.**"
   ]
  },
  {
   "cell_type": "code",
   "execution_count": null,
   "metadata": {},
   "outputs": [],
   "source": []
  },
  {
   "cell_type": "markdown",
   "metadata": {},
   "source": [
    "- **Utilizar @btime para medir y comparar los tiempos de ejecución para los resultados obtenidos con tol=$10^{-4}$ y con tol=$10^{-8}$ respectivamente.**"
   ]
  },
  {
   "cell_type": "code",
   "execution_count": null,
   "metadata": {
    "scrolled": true
   },
   "outputs": [],
   "source": []
  },
  {
   "cell_type": "code",
   "execution_count": null,
   "metadata": {
    "scrolled": true
   },
   "outputs": [],
   "source": []
  },
  {
   "cell_type": "markdown",
   "metadata": {},
   "source": [
    "- **Comentar los resultados de tiempos de ejecución obtenidos.**\n",
    "> \n",
    "> Escribir aquí los comentarios"
   ]
  },
  {
   "cell_type": "markdown",
   "metadata": {},
   "source": [
    "<a href=\"#top\">Back to the top</a>"
   ]
  },
  {
   "cell_type": "markdown",
   "metadata": {},
   "source": [
    "### 4.2 - Método RK implícito de Hairer de orden 4 (Hairer4)\n",
    "\n",
    "- **Aplicar Hairer4() con $tol=10^{-4}$, y representar gráficamente la evolución de las variables de estado con respecto del tiempo,  cada variable de estado en una figura diferente**."
   ]
  },
  {
   "cell_type": "code",
   "execution_count": null,
   "metadata": {
    "scrolled": false
   },
   "outputs": [],
   "source": []
  },
  {
   "cell_type": "markdown",
   "metadata": {},
   "source": [
    "- Para comprobar la precisión de los resultados, **volver a aplicar Hairer4() al problema, pero esta vez con tol=$10^{-8}$. Antes que nada, comparar el número de instantes del tiempo considerados en los resultados obtenidos respectivamente con tol=$10^{-4}$ y con tol=$10^{-8}$.**"
   ]
  },
  {
   "cell_type": "code",
   "execution_count": null,
   "metadata": {},
   "outputs": [],
   "source": []
  },
  {
   "cell_type": "markdown",
   "metadata": {},
   "source": [
    "- **Comentar el resultado, comparandolo con lo ocurrido en el caso de DP5**\n",
    ">  \n",
    "> Comentario"
   ]
  },
  {
   "cell_type": "markdown",
   "metadata": {},
   "source": [
    " \n",
    " - ** Representar gráficamente la evolución de la norma de los errores de los resultados obtenidos para tol=$10^{-4}$.**"
   ]
  },
  {
   "cell_type": "code",
   "execution_count": null,
   "metadata": {},
   "outputs": [],
   "source": []
  },
  {
   "cell_type": "markdown",
   "metadata": {},
   "source": [
    "- **Utilizar @btime para medir y comparar los tiempos de ejecución para los resultados obtenidos con tol=$10^{-4}$ y con tol=$10^{-8}$ respectivamente.**"
   ]
  },
  {
   "cell_type": "code",
   "execution_count": null,
   "metadata": {
    "scrolled": true
   },
   "outputs": [],
   "source": []
  },
  {
   "cell_type": "code",
   "execution_count": null,
   "metadata": {
    "scrolled": true
   },
   "outputs": [],
   "source": []
  },
  {
   "cell_type": "markdown",
   "metadata": {},
   "source": [
    "- **Comentar los resultados de tiempos de ejecución obtenidos, comparandolos con los obtenidos con DP5.**\n",
    "> \n",
    "> Escribir aquí los comentarios"
   ]
  },
  {
   "cell_type": "markdown",
   "metadata": {},
   "source": [
    "> Respuesta\n",
    ">"
   ]
  },
  {
   "cell_type": "markdown",
   "metadata": {},
   "source": [
    "**¿Que podemos decir en cuanto a la eficiencia de los dos métodos, en este ejemplo con $C_1=10000$?**\n",
    "\n",
    "_Insertar aquí la respuesta._\n"
   ]
  },
  {
   "cell_type": "markdown",
   "metadata": {},
   "source": [
    "<a href=\"#top\">Back to the top</a>"
   ]
  },
  {
   "cell_type": "markdown",
   "metadata": {},
   "source": [
    "### Valoración"
   ]
  },
  {
   "cell_type": "markdown",
   "metadata": {},
   "source": [
    "_Incluir aquí los comentarios de valoración de la tarea a entregar (dificultad, interés, etc, incluidas, si se quiere, sugerencias de mejora del ejercicio), así como una estimación del tiempo dedicado al trabajo de la semana (desglosado en el tiempo de estudio de material teórico, tiempo de dedicación a la participación activa o pasiva en los foros, tiempo de implementación y experimentación con los problemas prácticos planteados, y tiempo de preparación del documento jupyter final)._"
   ]
  }
 ],
 "metadata": {
  "anaconda-cloud": {},
  "kernelspec": {
   "display_name": "Julia 1.0.3",
   "language": "julia",
   "name": "julia-1.0"
  },
  "language_info": {
   "file_extension": ".jl",
   "mimetype": "application/julia",
   "name": "julia",
   "version": "1.0.3"
  }
 },
 "nbformat": 4,
 "nbformat_minor": 2
}
