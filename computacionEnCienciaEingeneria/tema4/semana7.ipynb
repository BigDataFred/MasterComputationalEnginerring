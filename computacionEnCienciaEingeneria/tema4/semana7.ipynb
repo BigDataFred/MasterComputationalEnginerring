{
 "cells": [
  {
   "cell_type": "markdown",
   "metadata": {},
   "source": [
    "# Ejemplo del satélite artificial: Aplicación de métodos para problemas conservativos"
   ]
  },
  {
   "cell_type": "markdown",
   "metadata": {},
   "source": [
    "<ul id=\"top\">\n",
    "<li><a href=\"#Problema-del-satélite-artificial\">Problema del satélite artificial </a></li>\n",
    "<li><a href=\"#1-Error-en-energía-de-RK4\">1-Error en energía de RK4</a></li>\n",
    "<li><a href=\"#2-Implementación-del-método-RKG4\">2-Implementación del método RKG4</a></li>\n",
    "<li><a href=\"#3-Errores-en-energía-del-método-RKG4\">3-Errores en energía del método RKG4 </a></li>\n",
    "<li><a href=\"#4-Comparación-de-errores-en-energía-de-RK4-y-RKG4-para-tiempos-largos\">4-Comparación de errores en energía de RK4 y RKG4 para tiempos largos</a></li>\n",
    "<li><a href=\"#Valoración\">Valoración</a></li>\n",
    "</ul>  "
   ]
  },
  {
   "cell_type": "code",
   "execution_count": null,
   "metadata": {},
   "outputs": [],
   "source": [
    "using Plots\n",
    "using LinearAlgebra"
   ]
  },
  {
   "cell_type": "markdown",
   "metadata": {},
   "source": [
    "## Problema del satélite artificial "
   ]
  },
  {
   "cell_type": "markdown",
   "metadata": {},
   "source": [
    "Consideraremos la evolución de un satélite artificial moviéndose bajo el influjo gravitacional de la tierra. \n",
    "\n",
    " En el modelo matemático que consideramos a continuación, se tiene en cuenta el ligero achatamiento que presenta la tierra en los polos. (Sin embargo, no se tiene en cuenta otros efectos de índole menor, como  el efecto gravitacional de la luna, el sol, y otros cuerpos celestes, ni el efecto de irregularidades menores del campo gravitacional de la tierra).\n",
    "Las unidades utilizadas son kilómetros para la distancia, y segundos para el tiempo.\n",
    "\n",
    "Según dicho modelo, las coordenadas (respecto del centro de la tierra) $(x,y,z)$ del satélite obedecen el siguiente sistema de ecuaciones diferenciales de segundo orden:\n",
    "\n",
    "  \\begin{align*}\n",
    "\\frac{d^2 x}{dt^2} &= -\\mu \\frac{x}{r(x,y,z)^3} \\left(1 + \\frac{\\epsilon R^2}{r(x,y,z)^2}\\, F(x,y,z) \\right),\\\\ \n",
    "\\frac{d^2 y}{dt^2} &= -\\mu \\frac{y}{r(x,y,z)^3} \\left(1 + \\frac{\\epsilon R^2}{r(x,y,z)^2}\\, F(x,y,z) \\right),\\\\ \n",
    "\\frac{d^2 z}{dt^2} &= -\\mu \\frac{z}{r(x,y,z)^3} \\left(1 + \\frac{\\epsilon R^2}{r(x,y,z)^2}\\, G(x,y,z) \\right),\n",
    "    \\end{align*}\n",
    "    \n",
    "donde \n",
    "\n",
    "\\begin{equation}\n",
    "r(x,y,z)=\\sqrt{x^2+y^2+z^2}, \\quad\n",
    "  F(x,y,z) = \\frac{3}{2} -  \\frac{15z^2}{2r(x,y,z)^2},  \n",
    "  \\quad G(x,y,z) = 3 + F(x,y,z),\n",
    "\\end{equation}\n",
    "\n",
    "y $\\mu$, $R$, y $\\epsilon$, respectivamente, son la constante gravitacional, el radio, y el coeficiente de achatamiento del planeta alrededor del cual se mueve el satélite artificial. En el caso de la tierra, tenemos que\n",
    "\n",
    "\\begin{equation*} \n",
    "    \\mu = 398600.8 Km^3/s^2, \\quad R = 6\\, 378.135Km,  \\quad               \n",
    "    \\epsilon = 0.0010826157.\n",
    "\\end{equation*}\n",
    "\n",
    "Dicho sistema de EDOs de segundo orden se puede reescribir como un sistema de EDOs de primer orden añadiendo las variables de estado $(v_x,v_y,v_z)$ correspondientes a las tres componentes de la velocidad del satélite:\n",
    "\n",
    "\\begin{align*}\n",
    "\\frac{d}{dt} \n",
    "\\left(\n",
    "  \\begin{matrix}\n",
    "    x \\\\ y \\\\ z \\\\v_x \\\\ v_y\\\\ v_z\n",
    "  \\end{matrix}\n",
    "\\right)\n",
    "&=\n",
    "\\left(\n",
    "  \\begin{matrix}\n",
    " v_x\\\\\n",
    " v_y\\\\\n",
    " v_z\\\\\n",
    " \\displaystyle -\\mu \\frac{x}{r(x,y,z)^3} \\left(1 + \\frac{\\epsilon R^2}{r(x,y,z)^2}\\, F(x,y,z) \\right)\\\\ \n",
    " \\displaystyle -\\mu \\frac{y}{r(x,y,z)^3} \\left(1 + \\frac{\\epsilon R^2}{r(x,y,z)^2}\\, F(x,y,z) \\right)\\\\ \n",
    "\\displaystyle-\\mu \\frac{z}{r(x,y,z)^3} \\left(1 + \\frac{\\epsilon R^2}{r(x,y,z)^2}\\, G(x,y,z) \\right)\n",
    "  \\end{matrix}\n",
    "\\right).\n",
    "    \\end{align*}\n",
    "    \n",
    "\n",
    "\n",
    "    \n",
    "    \n",
    "Este es un sistema conservativo, en el que la energía del sistema se mantiene constante a lo largo de cada solución del sistema.\n",
    "La energía del sistema es\n",
    "\\begin{equation*}\n",
    "E(u,\\mu) = \\frac12\\, (v_x^2 + v_y^2+ z_z^2) - \\frac{\\mu}{r(x,y,z)}\n",
    "-\\frac{\\mu  R^2 \\epsilon }{2\\, \n",
    "   r(x,y,z)^3}+\\frac{3 \\mu  R^2 z^2 \\epsilon }{2\\, r(x,y,z)^5},\n",
    "\\end{equation*}\n",
    "\n",
    "donde $u$ es el vector de estados $u=(x,y,z,v_x,v_y,v_z)$. (En realidad $E(u,\\mu)$ es la energía del satélite divida por su masa, pero nos referiremos a $E(u,\\mu)$ como la energía del sistema.)\n",
    "\n",
    "Aparte de la energía, también se conserva la componente vertical del momento angular, es decir,  $x v_y - y v_x.$\n",
    "\n",
    "\n",
    "A lo largo del presente documento, consideraremos las siguientes condiciones iniciales:\n",
    "\n",
    "\\begin{equation*}\n",
    "  \\begin{split}\n",
    " x(0)&=0,\\  \\qquad y(0)=37947.73745727695 \\, Km,\\  \\qquad z(0)=0, \\\\ \n",
    " v_x(0)&=3.297676220718193 \\, Km/s, \\quad v_y(0)=0, \\quad v_z(0)=0.8244190551795483\\,  Km/s.\n",
    "  \\end{split}\n",
    "\\end{equation*}\n",
    "\n",
    "\n",
    "En el caso simplificado $\\epsilon=0$, en el cual se supone que la tierra es una esfera con campo gravitacional uniforme, dichas condiciones iniciales dan lugar a una _órbita \n",
    "geosíncrona_, es decir, una órbita periódica de periodo $T=86164\\, s$ ($T$ es el periodo de rotación de la tierra: 23 horas, 56 minutos, y 4 segundos).\n",
    " \n",
    "\n",
    "Aquí consideraremos el caso más realista, en que se tiene en cuenta el achatamiento de la tierra en los polos, es decir, el caso en que \n",
    "$\\epsilon = 0.0010826157$. En dicho caso, la órbita no es exactamente periódica.\n"
   ]
  },
  {
   "cell_type": "markdown",
   "metadata": {},
   "source": [
    "<a href=\"#top\">Back to the top</a>"
   ]
  },
  {
   "cell_type": "markdown",
   "metadata": {},
   "source": [
    "## 1-Error en energía de RK4\n",
    "\n",
    "### 1.1-Ejercicio: Evolución de la energía para el método RK4\n",
    "\n",
    "Queremos aplicar RK4 para calcular la evolución del satélite en el intervalo temporal $[0, 30T]$ (aproximadamente un mes) para obtener el estado del satélite en los tiempos $t_k=k\\, \\frac{T}{50},$ para $k=0,1,\\ldots,n$ con $n=1500$. \n",
    "\n",
    "Aplicar para ello RK4 con longitud de paso $h=T/50$. Calcular los valores de la energía del sistema en los tiempos $t_k$ (para $k=0,1,\\ldots,n$), y representar dichos valores de la energía con respecto al tiempo."
   ]
  },
  {
   "cell_type": "code",
   "execution_count": null,
   "metadata": {},
   "outputs": [],
   "source": []
  },
  {
   "cell_type": "code",
   "execution_count": null,
   "metadata": {},
   "outputs": [],
   "source": [
    "plot(tt,EE,xlabel=\"t\",ylabel=\"Energía\",label=\"\", \n",
    "           title=\"Evolución de energía para RK4 con h=$h\")"
   ]
  },
  {
   "cell_type": "markdown",
   "metadata": {},
   "source": [
    "Observese que la energía no se mantiene constante, sino que varía a lo largo del tiempo. Si para cada $k=1,2,\\ldots,n$, la aproximación $u_k$ fuese igual a la solución exacta\n",
    "$$u(t_k)=(x(t_k), y(t_k), z(t_k), v_x(t_k), v_y(t_k),v_z(t_k)),$$ \n",
    "entonces $E(u_k,\\mu)$ sería exactamente igual a $E(u_0,\\mu)$. Dichas variaciones del valor de la energía permiten medir de una forma sencilla el nivel de precisión de la aplicación del método RK4. Para ello, calcularemos los _errores relativos en energía_: para cada $k$, el error relativo en energía en $t=t_k$ es \n",
    "$$\\big|E(u_k,\\mu)/E(u_0,\\mu)-1 \\big|.$$ \n",
    "En lo que sigue, omitiremos el calificativo relativo y nos referiremos a él simplemente como _error en energía_."
   ]
  },
  {
   "cell_type": "markdown",
   "metadata": {},
   "source": [
    "### 1.2-Ejercicio (Comprobación): primeros errores en energía de RK4 (h=T/50)\n",
    "Obtener una tabla de \n",
    "$$\\Big(t_k,\\,  \\big|E(u_k,\\mu)/E(u_0,\\mu)-1\\big|\\Big)$$\n",
    "para $k=1,2,3$. "
   ]
  },
  {
   "cell_type": "code",
   "execution_count": null,
   "metadata": {},
   "outputs": [],
   "source": []
  },
  {
   "cell_type": "markdown",
   "metadata": {},
   "source": [
    "\n",
    "**Resultados esperados:**\n",
    "\n",
    "    1723.28  3.82989e-7\n",
    "    3446.56  8.02524e-7\n",
    "    5169.84  1.24526e-6"
   ]
  },
  {
   "cell_type": "markdown",
   "metadata": {},
   "source": [
    "### 1.3-Ejercicio: Gráfica de errores en energía de RK4 (h=T/50)\n",
    "Obtener una gráfica de los errores en energía\n",
    "\n",
    "$$\\big|E(u_k,\\mu)/E(u_0,\\mu)-1\\big|$$\n",
    "\n",
    "con respecto de los tiempos $t_k = k \\, T/50$ para $k=0,1,\\ldots,n$."
   ]
  },
  {
   "cell_type": "code",
   "execution_count": null,
   "metadata": {
    "scrolled": true
   },
   "outputs": [],
   "source": []
  },
  {
   "cell_type": "markdown",
   "metadata": {},
   "source": [
    "<a href=\"#top\">Back to the top</a>"
   ]
  },
  {
   "cell_type": "markdown",
   "metadata": {},
   "source": [
    "## 2-Implementación del método RKG4\n",
    "** Método de Runge-Kutta implícito de colocación de Gauss de orden 4**"
   ]
  },
  {
   "cell_type": "markdown",
   "metadata": {},
   "source": [
    "Queremos simular numéricamente la evolución de sistemas modelados por \n",
    "ecuaciones diferenciales ordinarias (EDOs) de dimensión $d\\geq 1$ de la forma\n",
    "\n",
    "<a id='Edo-Comp'></a>\n",
    "\\begin{equation*}\n",
    "\\frac{d}{dt} u = f(t,u,p). \\hspace{10em} \\tag{1}\n",
    "\\end{equation*}\n",
    "\n",
    "donde $u =(u^1,\\ldots,u^d) \\in \\mathbb{R}^d$ es el _vector de estado_ del sistema, y $p \\in \\mathbb{R}^m$ es un vector de parámetros constantes del sistema.\n",
    "\n",
    "Sabemos que, fijado el vector $p$ de parámetros constantes, \n",
    "dados $t_0 \\in \\mathbb{R}$ y $u_0 =(u^1_0,\\ldots,u^d_0) \\in \\mathbb{R}^d$, existe una única solución $u(t)$ de [(1)](#Edo-Comp) que satisfaga la condición inicial\n",
    "\n",
    "<a id='Cond-Ini'></a>\n",
    "\\begin{equation}\n",
    "  u(t_0)=u_0. \\hspace{12em} \\tag{2}\n",
    "\\end{equation}\n",
    "\n",
    "En la práctica, nos interesará calcular de forma aproximada la solución $u(t)$ para un cierto intervalo temporal $t \\in [t_0,T]$. Se aproximará dicha solución en una discretización del tiempo obtenida de dividir el intervalo temporal $[t_0,T]$ en $n$ partes iguales. Es decir,  se considerarán los valores discretos del tiempo $t_0,t_1,t_2,\\ldots,t_{n-1},t_n=T$, donde $t_k=t_{0}+k\\, (T-t_0)/n$, y se calcularán las aproximaciones \n",
    "$u_k =(u^1_k,\\ldots,u^d_k) \\approx u(t_k)$ para $k=0,1,\\ldots,n$. Para calcular $u_k$ a partir de $u_{k-1}$, se aplicarán $m$ pasos de longitud $h=(T-t_0)/(n m)$ del método de Runge-Kutta implícito de colocación de Gauss de orden 4.\n"
   ]
  },
  {
   "cell_type": "markdown",
   "metadata": {},
   "source": [
    "### 2.1-Ejercicio\n",
    "En este apartado, se debe primeramente implementar Julia el método RKG4. Se definirá una función (que llamaremos RKG4) que toma como argumentos de entrada $u0, t0, T, n, f, p, m$. El significado de los argumentos de entrada de dicha función son los mismos que para RK4, implementado en la semana 4. El argumento de salida es, como en RK4, una matriz $W \\in \\mathbb{R}^{(n+1) \\times (d+1)}$\n",
    "\n",
    " \\begin{eqnarray*}\n",
    "W = \\left(\n",
    "     \\begin{array}{cccc}\n",
    "t_0    &   u^1_0 & \\cdots& u^d_0  \\\\\n",
    "t_1    &    u^1_1 & \\cdots& u^d_1  \\\\\n",
    "\\vdots &  \\vdots & \\vdots& \\vdots \\\\\n",
    "t_{n}  &      u^1_n & \\cdots& u^d_n\n",
    "     \\end{array}\n",
    "\\right),\n",
    "\\end{eqnarray*} \n",
    "\n",
    "donde $t_k = t_0 + k \\,(T-t_0)/n$, y los vectores $u_k  = (u^1_k,\\ldots,u^d_k) \\in \\mathbb{R}^d$ ($k=1\\ldots,n$) son aproximaciones de $u(t_k)$ que se han obtenido aplicando $m$ pasos del método RKG4 (para el sistema (1) con la condición inicial (2)) con longitud de paso $h=(T-t_0)/(n m)$. \n",
    "\n",
    "Al tratarse de un método implícito, para calcular la aproximación de la solución a obtener en cada paso del método se requiere resolver un sistema de ecuaciones (que en el caso de RKG4, determina implícitamente los vectores $K_1$ y $K_2$.). Dicho sistema, se resolverá por medio de la llamada iteración del punto fijo, tal como se describe en las transparencias de la primera parte del tema 4. Se tomará como tolerancia al error de iteración, itol$=10^{-12}$. Por otro lado, para evitar que el método iterativo se ejecute de forma indefinida en caso de no llegue a satisfacer el criterio de parada basado en itol, fijaremos un número máximo de iteraciones por paso, en concreto, 100 iteraciones por paso.\n"
   ]
  },
  {
   "cell_type": "code",
   "execution_count": null,
   "metadata": {},
   "outputs": [],
   "source": [
    "  function  RKG4(u0, t0, T, n, f, p, m=1)\n",
    "    itol = 1.e-12\n",
    "    itermax = 100\n",
    "    a11 = 0.25\n",
    "    a12 = 0.25 - sqrt(3)/6\n",
    "    a21 = 0.25 + sqrt(3)/6\n",
    "    a22 = 0.25\n",
    "    h = (T-t0)/(n*m)   # Calculo de la longitud de paso\n",
    "    ha = h * [a11  a12; a21 a22]\n",
    "    hc = [ha[1,1] + ha[1,2],  ha[2,1] + ha[2,2]]\n",
    "    ?\n",
    "    return W\n",
    "  end\n",
    "\n",
    "\n",
    "function RKG4step(tj,uj,p,f,h2,ha,hc,itol,itermax)\n",
    "        ?\n",
    "        return  uj + h2*(K1+K2)\n",
    "end"
   ]
  },
  {
   "cell_type": "markdown",
   "metadata": {},
   "source": [
    "<a href=\"#top\">Back to the top</a>"
   ]
  },
  {
   "cell_type": "markdown",
   "metadata": {},
   "source": [
    "## 3-Errores en energía del método RKG4 \n",
    "\n",
    "### 3.1-Ejercicio (Comprobación): primeros errores en energía de RKG4 (h=T/50)\n",
    "\n",
    "Aplicar ahora RKG4 para obtener aproximaciones $u_k$ de $u(t_k)$ para los mismos tiempos que en el apartado 1.(a) (es decir $t_k=k\\, T/50$, para $k=1,2,3,\\ldots,n$, con $n=1500$. Obtener una tabla de \n",
    "\n",
    "$$\\Big(t_k,\\,  \\big|E(u_k,\\mu)/E(u_0,\\mu)-1\\big|\\Big)$$\n",
    "\n",
    "para $k=1,2,3$. "
   ]
  },
  {
   "cell_type": "code",
   "execution_count": null,
   "metadata": {},
   "outputs": [],
   "source": []
  },
  {
   "cell_type": "markdown",
   "metadata": {},
   "source": [
    ">**Resultados esperados:**\n",
    ">\n",
    ">     1723.28  8.76683e-9\n",
    ">     3446.56  3.4755e-8 \n",
    ">     5169.84  7.69989e-8"
   ]
  },
  {
   "cell_type": "markdown",
   "metadata": {},
   "source": [
    "### 3.2-Ejercicio: Errores en energía de RKG4 para distintos valores de h\n",
    "\n",
    "En este apartado comprobaremos que los errores relativos en energía disminuyen considerablemente al disminuir la longitud de paso $h$ utilizada.\n",
    "\n",
    "Para ello, se requiere representar en una misma figura las gráficas de los errores en energía en $t_k=k\\, T/50$, ($k=1,\\ldots,n$) para los resultados obtenidos por RKG4 con tres longitudes de paso distintas: $h=T/50$, $h=T/100$, y $h=T/200$."
   ]
  },
  {
   "cell_type": "code",
   "execution_count": null,
   "metadata": {},
   "outputs": [],
   "source": []
  },
  {
   "cell_type": "markdown",
   "metadata": {},
   "source": [
    "### 3.3-Ejercicio: Estudio de los errores relativos en energía de RKG4: ¿Como disminuyen los erroes en energía al disminuir $h$?\n",
    "\n",
    "En este apartado comprobaremos cómo disminuyen los errores relativos en energía al disminuir la longitud de paso $h$ utilizada por RKG4.\n",
    "\n",
    "- **Para ello, se  representarán en una misma figura las gráficas de los errores en energía en $t_k=k\\, T/50$, ($k=1,\\ldots,n$) escalados de la siguiente forma para los resultados obtenidos con tres longitudes de paso distintas: $h=T/50$ (errores sin escalar), $h=T/100$ (errores multiplicados por 16), y $h=T/200$ (errores multiplicados por 256).**"
   ]
  },
  {
   "cell_type": "code",
   "execution_count": null,
   "metadata": {},
   "outputs": [],
   "source": []
  },
  {
   "cell_type": "markdown",
   "metadata": {},
   "source": [
    "- **¿Qué podemos deducir sobre la forma en que disminuye el error en energía al disminuir la longitud de paso $h$?**\n",
    "\n",
    "> **Respuesta**\n",
    ">\n",
    ">  Incluir aquí la respuesta"
   ]
  },
  {
   "cell_type": "markdown",
   "metadata": {},
   "source": [
    "<a href=\"#top\">Back to the top</a>"
   ]
  },
  {
   "cell_type": "markdown",
   "metadata": {},
   "source": [
    "## 4-Comparación de errores en energía de RK4 y RKG4 para tiempos largos\n",
    "\n",
    "### 4.1-Ejercicio: Aplicación de RKG4 para t en [0, 100000 T] con longitud de paso h=T/50\n",
    "\n",
    "Aplicar el método RKG4 utilizando $h=T/50$ como longitud de paso, para calcular las posiciones y velocidades del satélite en los tiempos $1000\\, k\\, T$, para $k=0,1,\\ldots,100$. \n",
    "\n",
    "Por un lado medir el tiempo de cálculo requerido para ello. Por otro lado, como comprobación, mostrar el valor de la coordenada $x$ del satélite obtenida para $t=100000\\, T$."
   ]
  },
  {
   "cell_type": "code",
   "execution_count": null,
   "metadata": {},
   "outputs": [],
   "source": [
    "n = ?\n",
    "m = ?\n",
    "@time resRKG4 = RKG4(u0,0.,1000*n*T,n,fsat,p,m);"
   ]
  },
  {
   "cell_type": "code",
   "execution_count": null,
   "metadata": {},
   "outputs": [],
   "source": [
    "resRKG4[end,2]"
   ]
  },
  {
   "cell_type": "markdown",
   "metadata": {},
   "source": [
    ">**Valor esperado para x en el final del intervalo:** $24991.219\\ldots$"
   ]
  },
  {
   "cell_type": "markdown",
   "metadata": {},
   "source": [
    "### 4.2-Ejercicio: Aplicación de RK4 para t en [0, 100000 T] con longitud de paso h=T/400\n",
    "\n",
    "Aplicar el método RK4 utilizando $h=T/400$ como longitud de paso, para calcular las posiciones y velocidades del satélite en los mismos tiempos que en el apartado anterio, es decir, $1000\\, k\\, T$, para $k=0,1,\\ldots,100$.\n",
    "\n",
    "Medir el tiempo de cálculo requerido para ello."
   ]
  },
  {
   "cell_type": "code",
   "execution_count": null,
   "metadata": {},
   "outputs": [],
   "source": [
    "n = ?\n",
    "m = ?\n",
    "@time resRK4 = RK4(u0,0.,1000*n*T,n,fsat,p,m);"
   ]
  },
  {
   "cell_type": "markdown",
   "metadata": {},
   "source": [
    "Hemos aplicado RKG4 con longitud e paso $h=T/50$, y RK4 con $h=T/400$, para tratar de que ambas ejecuciones requieran un tiempo de cálculo similar. "
   ]
  },
  {
   "cell_type": "markdown",
   "metadata": {},
   "source": [
    "### 4.3-Ejercicio: Comparación de errores en energía de RKG4 para h=T/50 y RK4 para h=T/400\n",
    "\n",
    "\n",
    "Para comparar los errores en energía de ambos métodos,  representar en una misma figura la evolución de los errores en energía de ambas ejecuciones."
   ]
  },
  {
   "cell_type": "code",
   "execution_count": null,
   "metadata": {},
   "outputs": [],
   "source": []
  },
  {
   "cell_type": "markdown",
   "metadata": {},
   "source": [
    "**¿Cual de los dos métodos a resultado ser más eficiente desde el punto de vista del error en energía?**\n",
    "\n",
    "_Incluir aquí la respuesta razonada._"
   ]
  },
  {
   "cell_type": "markdown",
   "metadata": {},
   "source": [
    "### 3.4-Ejercicio: Precesión de la órbita del satélite\n",
    "\n",
    "- ** Representar en una misma figura la proyección sobre el plano OXY de la trayectoria del satélite en los intervalos $[(366\\,j\\,T,(366\\,j +1)\\, T]$ para $j=0,1,2,\\ldots,10$, para ver como cambia la órbita del satélite a lo largo de (aproximadamente) diez años. (Hay que utilizar el atributo aspect_ratio=1 de plot para que muestre la misma escala para tanto para $x$ como para $y$).\n",
    "Utilizar para ello RKG4 con h=T/200. ** El cambio en la orientación de la órbita eliptica a lo largo del tiempo se conoce como _precesión de la órbita_."
   ]
  },
  {
   "cell_type": "code",
   "execution_count": null,
   "metadata": {},
   "outputs": [],
   "source": []
  },
  {
   "cell_type": "markdown",
   "metadata": {},
   "source": [
    "<a href=\"#top\">Back to the top</a>"
   ]
  },
  {
   "cell_type": "markdown",
   "metadata": {},
   "source": [
    "### Valoración"
   ]
  },
  {
   "cell_type": "markdown",
   "metadata": {},
   "source": [
    "_Incluir aquí los comentarios de valoración de la tarea a entregar (dificultad, interés, etc, incluidas, si se quiere, sugerencias de mejora del ejercicio), así como una estimación del tiempo dedicado al trabajo de la semana (desglosado en el tiempo de estudio de material teórico, tiempo de dedicación a la participación activa o pasiva en los foros, tiempo de implementación y experimentación con los problemas prácticos planteados, y tiempo de preparación del documento jupyter final)._"
   ]
  }
 ],
 "metadata": {
  "anaconda-cloud": {},
  "kernelspec": {
   "display_name": "Julia 1.0.3",
   "language": "julia",
   "name": "julia-1.0"
  },
  "language_info": {
   "file_extension": ".jl",
   "mimetype": "application/julia",
   "name": "julia",
   "version": "1.0.3"
  }
 },
 "nbformat": 4,
 "nbformat_minor": 2
}
