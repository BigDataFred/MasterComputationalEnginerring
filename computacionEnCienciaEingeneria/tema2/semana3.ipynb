{
 "cells": [
  {
   "cell_type": "markdown",
   "metadata": {},
   "source": [
    "# El método de Euler mejorado aplicado a sistemas de EDOs"
   ]
  },
  {
   "cell_type": "markdown",
   "metadata": {},
   "source": [
    "<ul id=\"top\">\n",
    "<li><a href=\"#1-Implementación-del-método-de-Euler-mejorado\">1-Implementación del método de Euler mejorado</a></li>\n",
    "<li><a href=\"#2-Error-de-los-métodos-de-Euler-y-Euler-mejorado\">2-Error de los métodos de Euler y Euler mejorado</a></li>\n",
    "      <ul>\n",
    "        <li><a href=\"#Problema-Robot-Móvil\">Problema Robot Móvil</a></li>\n",
    "        <li><a href=\"#Estudio-del-Error\">Estudio del Error</a></li>\n",
    "      </ul>\n",
    "<li><a href=\"#Valoración\">Valoración</a></li>\n",
    "</ul>  "
   ]
  },
  {
   "cell_type": "code",
   "execution_count": null,
   "metadata": {},
   "outputs": [],
   "source": [
    "using LinearAlgebra\n",
    "using Plots"
   ]
  },
  {
   "cell_type": "markdown",
   "metadata": {},
   "source": [
    "## 1-Implementación del método de Euler mejorado"
   ]
  },
  {
   "cell_type": "markdown",
   "metadata": {},
   "source": [
    "Queremos simular numéricamente la evolución de sistemas modelados por \n",
    "ecuaciones diferenciales ordinarias (EDOs) de dimensión $d\\geq 1$ de la forma\n",
    "\n",
    "<a id='Edo-Compacta'></a>\n",
    "\\begin{equation*}\n",
    "\\frac{d}{dt} u = f(t,u,p). \\hspace{10em} \\tag{1}\n",
    "\\end{equation*}\n",
    "\n",
    "donde $u =(u^1,\\ldots,u^d) \\in \\mathbb{R}^d$ es el _vector de estado_ del sistema, y $p \\in \\mathbb{R}^m$ es un vector de parámetros constantes del sistema.\n",
    "\n",
    "Sabemos que, fijado el vector $p$ de parámetros constantes, \n",
    "dados $t_0 \\in \\mathbb{R}$ y $u_0 =(u^1_0,\\ldots,u^d_0) \\in \\mathbb{R}^d$, existe una única solución $u(t)$ de [(1)](#Edo-Compacta) que satisfaga la condición inicial\n",
    "\n",
    "<a id='Cond-Ini'></a>\n",
    "\\begin{equation*}\n",
    "  u(t_0)=u_0. \\hspace{12em} \\tag{2}\n",
    "\\end{equation*}\n",
    "\n",
    "En la práctica, nos interesará calcular de forma aproximada la solución $u(t)$ para un cierto intervalo temporal $t \\in [t_0,T]$. Se aproximará dicha solución en una discretización del tiempo obtenida de dividir el intervalo temporal $[t_0,T]$ en $n$ partes iguales. Es decir,  se tomará los valores discretos del tiempo $t_0,t_1,t_2,\\ldots,t_{n-1},t_n=T$, donde $t_k=t_{0}+k h$, con $h=(T-t_0)/n$, y se calcularán las aproximaciones \n",
    "$u_k =(u^1_k,\\ldots,u^d_k) \\approx u(t_k)$ para $k=0,1,\\ldots,n$."
   ]
  },
  {
   "cell_type": "markdown",
   "metadata": {},
   "source": [
    "### 1.1- Ejercicio\n",
    "\n",
    "Para realizar los ejercicios de simulación que siguen, se debe primeramente implementar el método de Euler mejorado en Julia. Se definirá una función (que llamaremos EulerMejorado) que toma como argumentos de entrada $u0, t0, T, n, f, p, m$.\n",
    "\n",
    "El significado de los primeros seis argumentos de entrada de dicha función se puede deducir de las consideraciones de arriba. Como argumento de entrada adicional, se considerará un entero positivo $m$ cuyo significado se explicará a continuación, y cuyo valor por defecto será $m=1$. (Es decir, si cuando se invoca a la función EulerMejorado, se dan como argumentos de entrada $u0, t0, T, n, f, p$, se considerará que $m=1$.\n",
    "\n",
    "Si $m=1$, ello indicará que para cada $j=1,\\ldots,n$, se obtendrá la aproximación $u_j \\approx u(t_j)$ aplicando un paso de longitud $h=(T-t_0)/n$ del método de Euler mejorado. En cambio, si $m>1$, cada aproximación $u_j \\approx u(t_j)$ se obtendrá aplicando $m$ pasos de longitud $h=(T-t_0)/(n m)$ del método de Euler mejorado. Esto último será conveniente si sólo queremos los resultados para $n+1$ tiempos, pero la aproximación obtenida con el método de Euler mejorado con $h=(T-t_0)/n$ no es suficientemente precisa.\n",
    "\n",
    "\n",
    "\n",
    "El argumento de entrada $f$ es el nombre de una función previamente definida, tal que dados $t \\in \\mathbb{R}$, un vector $u \\in \\mathbb{R}^d$, y un vector de parámetros $p\\in \\mathbb{R}^m$,\n",
    "devuelve un vector $f(t,u,p) \\in \\mathbb{R}^d$. Dicha función determina un sistema de EDOs de la forma [(1)](#Edo-Compacta).\n",
    "\n",
    "La función EulerMejorado debe devolver como argumento de salida una matriz $W \\in \\mathbb{R}^{(n+1) \\times (d+1)}$\n",
    "\n",
    "\\begin{eqnarray*}\n",
    "W = \\left(\n",
    "     \\begin{array}{cccc}\n",
    "t_0    &   u^1_0 & \\cdots& u^d_0  \\\\\n",
    "t_1    &    u^1_1 & \\cdots& u^d_1  \\\\\n",
    "\\vdots &  \\vdots & \\vdots& \\vdots \\\\\n",
    "t_{n}  &      u^1_n & \\cdots& u^d_n\n",
    "     \\end{array}\n",
    "\\right),\n",
    "\\end{eqnarray*} \n",
    "\n",
    "donde $t_k = t_0 + k \\, h$, $h=(T-t_0)/n$, y los vectores $u_k  = (u^1_k,\\ldots,u^d_k) \\in \\mathbb{R}^d$ ($k=1\\ldots,n$) son aproximaciones de $u(t_k)$ que se han obtenido aplicando el método de Euler mejorado al sistema [(1)](#Edo-Compacta) con la condición inicial [(2)](#Cond-Ini) (con longitud de paso $h=(T-t_0)/(n m)$). "
   ]
  },
  {
   "cell_type": "code",
   "execution_count": null,
   "metadata": {},
   "outputs": [],
   "source": [
    "\"\"\"\n",
    "Metodo de Euler mejorado\n",
    "\"\"\"\n",
    "function  EulerMejorado(u0, t0, T, n, f, p, m=1)\n",
    "    h = (T-t0)/(n*m);   # Calculo de la longitud de paso\n",
    "    # Se deduce la dimension del sistema de EDOs a partir del numero \n",
    "    # de componentes del vector de estado inicial\n",
    "      d = length(u0)  \n",
    "    # Inicializacion a cero de la matriz de salida de resultados\n",
    "      W = zeros(n+1,d+1)\n",
    "      W[1,:] = [t0; u0]  # Se rellena la primera fila de la matriz de resultados \n",
    "      tj = t0\n",
    "      uj = u0\n",
    "    # Calculo sucesivo de los tiempos tj y las aproximaciones uj de u(tj)\n",
    "    for j in 1:n\n",
    "        for i in 1:m\n",
    "        ?   # Aqui deberían ir varias líneas de código\n",
    "        uj = ?\n",
    "        tj = ?\n",
    "        end\n",
    "        W[j+1,:] = [tj; uj] # Se introduce el resultado del paso j-ésimo \n",
    "                            # en la fila (j+1)-ésima de la matriz de resultados\n",
    "    end\n",
    "    return W\n",
    "  end"
   ]
  },
  {
   "cell_type": "markdown",
   "metadata": {},
   "source": [
    "### 1.2- Ejercicio"
   ]
  },
  {
   "cell_type": "markdown",
   "metadata": {},
   "source": [
    "Una vez implementada la función EulerMejorado,\n",
    " - **Resolver numéricamente el sistema de presa-depredador considerado en la entrega de la segunda semana, con\n",
    "  valores iniciales $v(0)=51$, $w(0)=33$ (y con los valores de los parámetros $a=1$, $b=1/50$, $c=3/100$, $d=1$), para\n",
    "  $t\\in[0,30]$. En concreto, aplicar $n=1200$ pasos de longitud $h=30/1200=0.025$ del método de Euler mejorado para obtener aproximaciones $u_k \\approx u(t_k)$ para $t_0,t_1,t_2,\\ldots,t_{n-1},t_n=T$, donde $t_k=k h$.**"
   ]
  },
  {
   "cell_type": "code",
   "execution_count": null,
   "metadata": {},
   "outputs": [],
   "source": [
    "function fPD(t,u,p)\n",
    "    v=u[1]\n",
    "    w=u[2]\n",
    "    a = p[1]\n",
    "    b = p[2]\n",
    "    c = p[3]\n",
    "    d = p[4]\n",
    "    ?\n",
    "    dv = ?\n",
    "    du = ?\n",
    "    return [dv, du]\n",
    "end\n",
    "\n",
    "p = [1,1/50,3/100,1]\n",
    "u0 = ?\n",
    "t0 = ?\n",
    "T = ?\n",
    "\n",
    "n = ?\n",
    "res = EulerMejorado(?,...,?)"
   ]
  },
  {
   "cell_type": "markdown",
   "metadata": {},
   "source": [
    "> **Comprobación**\n",
    ">\n",
    ">El resultado debería coincidir con el mostrado en el documento \n",
    " <a href=\"https://egela1819.ehu.eus/mod/resource/view.php?id=1022070\">El método de Euler mejorado </a> (disponible en el aula virtual)."
   ]
  },
  {
   "cell_type": "markdown",
   "metadata": {},
   "source": [
    "- **Obtener una figura con las gráficas de ambas\n",
    "  componentes de la solución con respecto del tiempo.**"
   ]
  },
  {
   "cell_type": "code",
   "execution_count": null,
   "metadata": {},
   "outputs": [],
   "source": [
    "tt = ?\n",
    "vv = ?\n",
    "ww = ?\n",
    "\n",
    "plot(tt,[vv, ww],title=\"Evolución de alces y lobos\",xlabel=\"t\",label=[\"alces\" \"lobos\"])"
   ]
  },
  {
   "cell_type": "markdown",
   "metadata": {},
   "source": [
    "<a href=\"#top\">Back to the top</a>"
   ]
  },
  {
   "cell_type": "markdown",
   "metadata": {},
   "source": [
    "## 2-Error de los métodos de Euler y Euler mejorado\n",
    "** Estudio experimental del error de los métodos de Euler y Euler mejorado para un modelo simplificado de robot móvil**"
   ]
  },
  {
   "cell_type": "markdown",
   "metadata": {},
   "source": [
    "### Problema Robot Móvil"
   ]
  },
  {
   "cell_type": "markdown",
   "metadata": {},
   "source": [
    "Consideremos el problema de determinar la evolución de la posición y la orientación de una plataforma móvil (un robot) que se mueve en una superficie plana horizontal con dos ruedas de radio $R$ situadas en paralelo a una distancia $L$ entre sí, conocidas la evolución de las velocidades angulares $\\omega_l(t)$ y $\\omega_r(t)$ de la rueda izquierda y la rueda  derecha respectivamente. Dicho problema se puede modelar por medio del siguiente sistema de EDOs\n",
    "\n",
    "<a id='Edo-Robot'></a>\n",
    "\\begin{equation*}\n",
    " \\begin{split}\n",
    "         \\frac{d x}{dt} &= \\pi \\, R\\, (\\omega_l(t) +\\omega_r(t))\\,  \\cos(\\theta), \\\\ \n",
    "      \\frac{d y}{dt} &=\\pi \\, R\\, (\\omega_l(t) +\\omega_r(t))\\, \\sin(\\theta), \\\\ \n",
    "      \\frac{d \\theta}{dt} &= \\frac{2\\pi \\, R}{L} (\\omega_r(t) - \\omega_l(t)), \n",
    "    \\end{split}  \\hspace{12em} \\tag{3}\n",
    "\\end{equation*}\n",
    "\n",
    "donde $(x,y)$ son las coordenadas del centro del eje de las ruedas, $\\theta$ es el ángulo formado entre el eje que une las dos rueda y el eje horizontal del sistema de coordenadas cartesianas adoptado para el plano sobre el que se mueve el robot. Consideraremos el metro como unidad de longitud, y el segundo como unidad de tiempo.\n",
    "\n",
    "A lo largo de este ejercicio consideraremos el caso en que \n",
    "\n",
    "<a id='Fun-Robot'></a>\n",
    "\\begin{equation*}\n",
    "\\begin{split}\n",
    "L&=0.5\\, \\mathrm{m}, \\quad R=0.05\\, \\mathrm{m}, \\\\\n",
    "\\omega_l(t) &= \\frac{3}{5} \\sin(\\pi t/125) -\\frac{1}{200}, \\quad \n",
    "\\omega_r(t) = \\frac{3}{5}\\sin(\\pi t/125) +\\frac{1}{200},\n",
    "\\end{split}\n",
    "\\tag{4}\n",
    "\\end{equation*}\n",
    "\n",
    "y el robot se sitúa inicialmente en el origen de coordenadas, orientado horizontalmente, es decir, \n",
    "\n",
    "<a id='Ini-Robot'></a>\n",
    "\\begin{equation*}\n",
    "x(0) = 0, \\quad y(0)=0, \\quad \\theta(0)=0. \\hspace{16em} \\tag{5}\n",
    "\\end{equation*}\n",
    "\n",
    "El problema [(3)](#Edo-Robot)-[(4)](#Fun-Robot) tiene  una única solución $u(t)=(x(t),y(t),\\theta(t))$.\n",
    "\n",
    "Nuestro objetivo es estudiar el error que cometemos al aproximar las solución $u(t)=(x(t),y(t),\\theta(t))$ en el intervalo temporal $t \\in [0,1000]$ por medio del método de Euler mejorado y compararlo con el método de Euler."
   ]
  },
  {
   "cell_type": "markdown",
   "metadata": {},
   "source": [
    "### 2.1- Ejercicio"
   ]
  },
  {
   "cell_type": "markdown",
   "metadata": {},
   "source": [
    "- **Aproximar la solucion $u(t)=(x(t),y(t),\\theta(t))$  para los valores de $t$ de la discretización temporal \n",
    "\\begin{equation*}\n",
    "t_0=0,\\ t_1=h,\\ t_2=2h,\\ldots,\\ t_{49}=980,\\ t_n=1000,\n",
    "\\end{equation*}\n",
    "donde $h=20$.**"
   ]
  },
  {
   "cell_type": "code",
   "execution_count": null,
   "metadata": {},
   "outputs": [],
   "source": [
    "function fRobot(t,u,p)\n",
    "    L = p[1]\n",
    "    R = p[2]\n",
    "    x = u[1]\n",
    "    y = u[2]      \n",
    "    theta = u[3]\n",
    "    ?\n",
    "    ?\n",
    "    dx =  ?\n",
    "    dy =  ?\n",
    "    dtheta = ?      \n",
    "    return [dx,dy,dtheta]\n",
    "end"
   ]
  },
  {
   "cell_type": "code",
   "execution_count": null,
   "metadata": {},
   "outputs": [],
   "source": [
    "?\n",
    "?\n",
    "?\n",
    "?\n",
    "\n",
    "res = EulerMejorado(?,...,?)"
   ]
  },
  {
   "cell_type": "markdown",
   "metadata": {},
   "source": [
    "> **Comprobación**\n",
    ">\n",
    ">Las primeros filas resultados debería coincidir con lo siguientes \n",
    " \n",
    "                t     x              y           \\theta\n",
    "                0.0  0.0            0.0          0.0     \n",
    "               20.0  0.935689       0.0588685    0.125664\n",
    "               40.0  3.47066        0.54244      0.251327\n",
    "               60.0  6.88058        1.65039      0.376991\n",
    "               80.0  10.2313        3.22711      0.502655\n",
    "              100.0  12.6838        4.78356      0.628319\n",
    "              120.0  13.7532        5.66817      0.753982\n"
   ]
  },
  {
   "cell_type": "markdown",
   "metadata": {},
   "source": [
    "- **Representar en una misma figura la evolución de las funciones $x(t)$, $y(t)$, y $\\theta(t)$ respecto del tiempo en el intervalo temporal $t \\in [0,1000]$.**"
   ]
  },
  {
   "cell_type": "code",
   "execution_count": null,
   "metadata": {},
   "outputs": [],
   "source": [
    "tt = ?\n",
    "xx = ?\n",
    "yy = ?\n",
    "thetas = ?\n",
    "plot(tt,[xx, yy,thetas], xlabel=\"t\",label=[\"x\" \"y\" \"\\\\theta\"])"
   ]
  },
  {
   "cell_type": "markdown",
   "metadata": {},
   "source": [
    "### 2.2- Ejercicio"
   ]
  },
  {
   "cell_type": "markdown",
   "metadata": {},
   "source": [
    "- **Representar en una figura la trayectoria descrita por el centro del eje de las ruedas en el plano xy**"
   ]
  },
  {
   "cell_type": "code",
   "execution_count": null,
   "metadata": {},
   "outputs": [],
   "source": [
    "plot(?, ?, title=\"Trayectoria del robot\", xlabel=\"x\",ylabel=\"y\",label=\"\")"
   ]
  },
  {
   "cell_type": "markdown",
   "metadata": {},
   "source": [
    "> **Comprobación**\n",
    ">\n",
    ">Debería obtenerse una figura en forma de estrella de 8 puntas (que es la trayectoria que sigue la plataforma móvil). \n",
    "\n"
   ]
  },
  {
   "cell_type": "markdown",
   "metadata": {},
   "source": [
    "<a href=\"#top\">Back to the top</a>"
   ]
  },
  {
   "cell_type": "markdown",
   "metadata": {},
   "source": [
    "### 2.3- Ejercicio\n"
   ]
  },
  {
   "cell_type": "markdown",
   "metadata": {},
   "source": [
    "- **Se puede comprobar que en el caso considerado en que $L$, $R$, $\\omega_l(t)$, y $\\theta_r(t)$ están dados por [(4)](#Fun-Robot), la solución del problema [(3)](#Edo-Robot)-[(5)](#Ini-Robot)  es exáctamente**\n",
    "\n",
    "\n",
    "\\begin{align*}\n",
    "x(t) &= 8-5 \\cos \\left(\\frac{3 \\pi \n",
    "   t}{500}\\right)-3 \\cos\n",
    "   \\left(\\frac{\\pi  t}{100}\\right), \\\\\n",
    "   y(t) &= 5 \\sin \\left(\\frac{3 \\pi \n",
    "   t}{500}\\right)-3 \\sin\n",
    "   \\left(\\frac{\\pi  t}{100}\\right), \\\\\n",
    "   \\theta(t) &= \\frac{\\pi}{500} t.\n",
    "\\end{align*}\n",
    "\n",
    "\n",
    "Ello nos permite calcular el error cometido al aproximar la solución exacta  $u(t)=(x(t),y(t),\\theta(t))$ en $t=t_k$ (para $k=1,2\\ldots,n$) por los valores $u_k=(x_k,y_k,\\theta_k)$ obtenidos en el apartado anterior (con $n=50$) por medio del método de Euler mejorado. Calcularemos para cada $k=1,2\\ldots,n$ el error cometido\n",
    "\n",
    "<a id='Error'></a>\n",
    "\\begin{equation*}\n",
    "e(t_k)=||u_k -u(t_k)|| = \\sqrt{(x_k-x(t_k))^2+(y_k-y(t_k))^2+(\\theta_k-\\theta(t_k))^2},\n",
    "\\hspace{4em} \\tag{6}\n",
    "\\end{equation*}\n",
    "\n",
    "\n",
    "y representaremos dicho error respecto de los tiempos $t_k$. "
   ]
  },
  {
   "cell_type": "code",
   "execution_count": null,
   "metadata": {},
   "outputs": [],
   "source": [
    "function RobotSol(t)\n",
    "    theta = ?\n",
    "    ?\n",
    "    ?\n",
    "    ?\n",
    "    x = ?\n",
    "    y = ?\n",
    "    return [x, y, theta]\n",
    "end\n",
    "\n",
    "function errorEM(n)   \n",
    "    ? # Varias líneas de código \n",
    "    return (tt,errors)\n",
    "end\n",
    "\n",
    "\n",
    "n=100\n",
    "h = T/n\n",
    "(tt, erroresEM) = errorEM(n)\n",
    "\n",
    "plot(tt,erroresEM,\n",
    "     title=\"Errores de Euler mejorado\",\n",
    "     xlabel=\"t\",ylabel=\"error\", label=string(\"h=\",h))"
   ]
  },
  {
   "cell_type": "markdown",
   "metadata": {},
   "source": [
    "### 2.4- Ejercicio"
   ]
  },
  {
   "cell_type": "markdown",
   "metadata": {},
   "source": [
    "- **Para observar como disminuye el error [(6)](#Error) al considerar discretizaciones cada vez más finas, representar en una misma figura las gráficas de los errores cometidos al aplicar el método de Euler mejorado con $n=100$, $n=200$, y $n=300$.**"
   ]
  },
  {
   "cell_type": "code",
   "execution_count": null,
   "metadata": {},
   "outputs": [],
   "source": [
    "? # Varias líneas de código"
   ]
  },
  {
   "cell_type": "markdown",
   "metadata": {},
   "source": [
    "### 2.5- Ejercicio"
   ]
  },
  {
   "cell_type": "markdown",
   "metadata": {},
   "source": [
    "- **Representar ahora en una misma figura  las gráficas de dichos errores divididos por $h^2$ (donde $h=1000/n$) para los casos $n=100$, $n=200$, y $n=300$. **"
   ]
  },
  {
   "cell_type": "code",
   "execution_count": null,
   "metadata": {},
   "outputs": [],
   "source": [
    "? # Varias líneas de código"
   ]
  },
  {
   "cell_type": "markdown",
   "metadata": {},
   "source": [
    "> **Comprobación**\n",
    ">\n",
    ">Las tres gráficas deberían superponerse, lo que indicaría que el error del método de Euler modificado a resultado (como es de esperar por ser un método de segundo orden) es aproximadamente proporcional a $h^2$. \n",
    "\n"
   ]
  },
  {
   "cell_type": "markdown",
   "metadata": {},
   "source": [
    "### 2.6- Ejercicio"
   ]
  },
  {
   "cell_type": "markdown",
   "metadata": {},
   "source": [
    "- **Repetir el apartado anterior para el método de Euler, pero representando \n",
    "respecto a los tiempos $t=t_k$ los errores [(6)](#Error) divididos por $h$. **"
   ]
  },
  {
   "cell_type": "code",
   "execution_count": null,
   "metadata": {},
   "outputs": [],
   "source": []
  },
  {
   "cell_type": "code",
   "execution_count": null,
   "metadata": {
    "scrolled": true
   },
   "outputs": [],
   "source": []
  },
  {
   "cell_type": "markdown",
   "metadata": {},
   "source": [
    "> **Comprobación**\n",
    ">\n",
    ">Las tres gráficas deberían ser muy parecidas, lo que indicaría que el error del método de Euler a resultado (como es de esperar por ser un método de primer orden) es aproximadamente proporcional a $h$. \n",
    "\n"
   ]
  },
  {
   "cell_type": "markdown",
   "metadata": {},
   "source": [
    "### 2.7- Ejercicio"
   ]
  },
  {
   "cell_type": "markdown",
   "metadata": {},
   "source": [
    "- **En virtud de lo deducido en los dos apartados anteriores, ¿que valor de $n$ y $h$ deberíamos tomar respectivamente en el caso del método de Euler y en el caso del método de Euler mejorado  para que el error máximo\n",
    "$$\\displaystyle \\max_{1\\leq k\\leq n} ||u(t_k)-u_k|||$$ \n",
    "fuera menor que $10^{-8}$? (Hay que responder a esta pregunta utilizando sólamente los resultados de los apartados anteriores,  sin volver a aplicar el método correspondiente para valores de $n$ mayores).**"
   ]
  },
  {
   "cell_type": "markdown",
   "metadata": {},
   "source": [
    "> **Respuesta para Euler**\n",
    ">\n",
    "> Incluir aquí la respuesta, seguida del razonamiento y cálculos (estos últimos en una o varias celdas de código)."
   ]
  },
  {
   "cell_type": "code",
   "execution_count": null,
   "metadata": {},
   "outputs": [],
   "source": []
  },
  {
   "cell_type": "markdown",
   "metadata": {},
   "source": [
    "> **Respuesta para Euler mejorado**\n",
    ">\n",
    ">Incluir aquí la respuesta, seguida del razonamiento y cálculos (estos últimos en una o varias celdas de código).\n",
    ">"
   ]
  },
  {
   "cell_type": "code",
   "execution_count": null,
   "metadata": {},
   "outputs": [],
   "source": []
  },
  {
   "cell_type": "markdown",
   "metadata": {},
   "source": [
    "### 2.8- Ejercicio"
   ]
  },
  {
   "cell_type": "markdown",
   "metadata": {},
   "source": [
    " - **¿Qué podemos decir de la eficiencia\n",
    " de ambos métodos en este ejemplo, para obtener aproximaciones con errores menores que $10^{-8}$ en el intervalo temporal $[0,1000]$? (Un método es más eficiente que otro si consigue la misma precisión con menos tiempo de cálculo.)**"
   ]
  },
  {
   "cell_type": "code",
   "execution_count": null,
   "metadata": {},
   "outputs": [],
   "source": []
  },
  {
   "cell_type": "markdown",
   "metadata": {},
   "source": [
    "> **Respuesta**\n",
    "> \n",
    "> Incluir aquí la respuesta"
   ]
  },
  {
   "cell_type": "markdown",
   "metadata": {},
   "source": [
    "<a href=\"#top\">Back to the top</a>"
   ]
  },
  {
   "cell_type": "markdown",
   "metadata": {},
   "source": [
    "### Valoración"
   ]
  },
  {
   "cell_type": "markdown",
   "metadata": {},
   "source": [
    "_Incluir aquí los comentarios de valoración de la tarea a entregar (dificultad, interés, etc, incluidas, si se quiere, sugerencias de mejora del ejercicio), así como una estimación del tiempo dedicado al trabajo de la semana (desglosado en el tiempo de estudio de material teórico, tiempo de dedicación a la participación activa o pasiva en los foros, tiempo de implementación y experimentación con los problemas prácticos planteados, y tiempo de preparación del documento jupyter final)._"
   ]
  }
 ],
 "metadata": {
  "anaconda-cloud": {},
  "kernelspec": {
   "display_name": "Julia 1.0.3",
   "language": "julia",
   "name": "julia-1.0"
  },
  "language_info": {
   "file_extension": ".jl",
   "mimetype": "application/julia",
   "name": "julia",
   "version": "1.0.3"
  }
 },
 "nbformat": 4,
 "nbformat_minor": 2
}
