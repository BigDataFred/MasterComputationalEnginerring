{
 "cells": [
  {
   "cell_type": "markdown",
   "metadata": {},
   "source": [
    "# Ejemplo del satélite artificial: Aplicación del método RK4, y monitorización del error"
   ]
  },
  {
   "cell_type": "markdown",
   "metadata": {},
   "source": [
    "<ul id=\"top\">\n",
    "<li><a href=\"#1-Implementación-del-método-de-Runge-Kutta-de-orden-4-(RK4)\">1-Implementación del método de Runge-Kutta de orden 4 (RK4)</a></li>\n",
    "<li><a href=\"#2-Comprobación-de-RK4-en-el-ejemplo-del-robot-móvil\">2-Comprobación de RK4 en el ejemplo del robot móvil</a></li>\n",
    "<li><a href=\"#3-Satélite-artificial-orbitando-alrededor-de-la-tierra:-Modelo-simplificado\">3-Satélite artificial  orbitando alrededor de la tierra: Modelo simplificado</a></li>\n",
    "<li><a href=\"#4-Satélite-artificial-orbitando-alrededor-de-la-tierra:-Modelo-más-realista\">4-Satélite artificial  orbitando alrededor de la tierra: Modelo más realista</a></li>\n",
    "<li><a href=\"#Valoración\">Valoración</a></li>\n",
    "</ul>  "
   ]
  },
  {
   "cell_type": "code",
   "execution_count": null,
   "metadata": {},
   "outputs": [],
   "source": [
    "using LinearAlgebra\n",
    "using Plots\n",
    "using DelimitedFiles"
   ]
  },
  {
   "cell_type": "markdown",
   "metadata": {},
   "source": [
    "## 1-Implementación del método de Runge-Kutta de orden 4 (RK4)"
   ]
  },
  {
   "cell_type": "markdown",
   "metadata": {},
   "source": [
    "Queremos simular numéricamente la evolución de sistemas modelados por \n",
    "ecuaciones diferenciales ordinarias (EDOs) de dimensión $d\\geq 1$ de la forma\n",
    "\n",
    "<a id='Edo-Compacta'></a>\n",
    "\\begin{equation*}\n",
    "\\frac{d}{dt} u = f(t,u,p). \\hspace{10em} \\tag{1}\n",
    "\\end{equation*}\n",
    "\n",
    "donde $u =(u^1,\\ldots,u^d) \\in \\mathbb{R}^d$ es el _vector de estado_ del sistema, y $p \\in \\mathbb{R}^m$ es un vector de parámetros constantes del sistema.\n",
    "\n",
    "Sabemos que, fijado el vector $p$ de parámetros constantes, \n",
    "dados $t_0 \\in \\mathbb{R}$ y $u_0 =(u^1_0,\\ldots,u^d_0) \\in \\mathbb{R}^d$, existe una única solución $u(t)$ de [(1)](#Edo-Compacta) que satisfaga la condición inicial\n",
    "\n",
    "<a id='Cond-Ini'></a>\n",
    "\\begin{equation*}\n",
    "  u(t_0)=u_0. \\hspace{12em} \\tag{2}\n",
    "\\end{equation*}\n",
    "\n",
    "En la práctica, nos interesará calcular de forma aproximada la solución $u(t)$ para un cierto intervalo temporal $t \\in [t_0,T]$. Se aproximará dicha solución en una discretización del tiempo obtenida de dividir el intervalo temporal $[t_0,T]$ en $n$ partes iguales. Es decir,  se tomará los valores discretos del tiempo $t_0,t_1,t_2,\\ldots,t_{n-1},t_n=T$, donde $t_k=t_{0}+k h$, con $h=(T-t_0)/n$, y se calcularán las aproximaciones \n",
    "$u_k =(u^1_k,\\ldots,u^d_k) \\approx u(t_k)$ para $k=0,1,\\ldots,n$.\n",
    "\n",
    "\n",
    "Para realizar los ejercicios de simulación que siguen, se debe primeramente implementar el método RK4 en Julia. Se definirá una función (que llamaremos RK4) que toma como argumentos de entrada $u0, t0, T, n, f, p, m$.\n",
    "\n",
    "El significado de los primeros seis argumentos de entrada de dicha función se puede deducir de las consideraciones de arriba. Como argumento de entrada adicional, se considerará un entero positivo $m$ cuyo significado se explicará a continuación, y cuyo valor por defecto será $m=1$. (Es decir, si cuando se invoca a la función RK4, se dan como argumentos de entrada $u0, t0, T, n, f, p$, se considerará que $m=1$.\n",
    "\n",
    "Si $m=1$, ello indicará que para cada $j=1,\\ldots,n$, se obtendrá la aproximación $u_j \\approx u(t_j)$ aplicando un paso de longitud $h=(T-t_0)/n$ del método RK4. En cambio, si $m>1$, cada aproximación $u_j \\approx u(t_j)$ se obtendrá aplicando $m$ pasos de longitud $h=(T-t_0)/(n m)$ del método RK4. Esto último será conveniente si sólo queremos los resultados para $n+1$ tiempos, pero la aproximación obtenida con el método de RK4 con $h=(T-t_0)/n$ no es suficientemente precisa.\n",
    "\n",
    "\n",
    "\n",
    "El argumento de entrada $f$ es el nombre de una función previamente definida, tal que dados $t \\in \\mathbb{R}$, un vector $u \\in \\mathbb{R}^d$, y un vector de parámetros $p\\in \\mathbb{R}^m$,\n",
    "devuelve un vector $f(t,u,p) \\in \\mathbb{R}^d$. Dicha función determina un sistema de EDOs de la forma [(1)](#Edo-Compacta).\n",
    "\n",
    "La función RK4 debe devolver como argumento de salida una matriz $W \\in \\mathbb{R}^{(n+1) \\times (d+1)}$\n",
    "\n",
    "\\begin{eqnarray*}\n",
    "W = \\left(\n",
    "     \\begin{array}{cccc}\n",
    "t_0    &   u^1_0 & \\cdots& u^d_0  \\\\\n",
    "t_1    &    u^1_1 & \\cdots& u^d_1  \\\\\n",
    "\\vdots &  \\vdots & \\vdots& \\vdots \\\\\n",
    "t_{n}  &      u^1_n & \\cdots& u^d_n\n",
    "     \\end{array}\n",
    "\\right),\n",
    "\\end{eqnarray*} \n",
    "\n",
    "donde $t_k = t_0 + k \\, h$, $h=(T-t_0)/n$, y los vectores $u_k  = (u^1_k,\\ldots,u^d_k) \\in \\mathbb{R}^d$ ($k=1\\ldots,n$) son aproximaciones de $u(t_k)$ que se han obtenido aplicando el método RK4 al sistema  [(1)](#Edo-Compacta) con la condición inicial  [(2)](#Cond-Ini) (con longitud de paso $h=(T-t_0)/(n m)$). \n"
   ]
  },
  {
   "cell_type": "code",
   "execution_count": null,
   "metadata": {},
   "outputs": [],
   "source": [
    "\"\"\"\n",
    "Metodo de Runge-Kutta de orden 4\n",
    "\"\"\"\n",
    "function  RK4(u0, t0, T, n, f, p, m=1)\n",
    "    h = (T-t0)/(n*m);   # Calculo de la longitud de paso\n",
    "    # Se deduce la dimension del sistema de EDOs a partir del numero \n",
    "    # de componentes del vector de estado inicial\n",
    "      d = length(u0)  \n",
    "    # Inicializacion a cero de la matriz de salida de resultados\n",
    "      W = zeros(n+1,d+1)\n",
    "      W[1,:] = [t0; u0]  # Se rellena la primera fila de la matriz de resultados \n",
    "      tj = t0\n",
    "      uj = u0\n",
    "    # Calculo sucesivo de los tiempos tj y las aproximaciones uj de u(tj)\n",
    "    for j in 1:n\n",
    "        for i in 1:m\n",
    "        ? varias líneas de código\n",
    "        tj = ?\n",
    "        uj = ?\n",
    "        end\n",
    "        W[j+1,:] = [tj; uj] # Se introduce el resultado del paso j-ésimo \n",
    "                            # en la fila (j+1)-ésima de la matriz de resultados\n",
    "    end\n",
    "    return W\n",
    "  end"
   ]
  },
  {
   "cell_type": "markdown",
   "metadata": {},
   "source": [
    "<a href=\"#top\">Back to the top</a>"
   ]
  },
  {
   "cell_type": "markdown",
   "metadata": {},
   "source": [
    "## 2-Comprobación de RK4 en el ejemplo del robot móvil"
   ]
  },
  {
   "cell_type": "markdown",
   "metadata": {},
   "source": [
    "### 2.1- Ejercicio"
   ]
  },
  {
   "cell_type": "markdown",
   "metadata": {},
   "source": [
    "Una vez implementada la función RK4,\n",
    " - **Resolver numéricamente (con el método de RK4) el sistema correspondiente al robot móvil considerado en la entrega de la 3ª semana, para obtener los valores de $u(t)=(x(t),y(t),\\theta(t))$ para los tiempos $t = 0, 10, 20, \\ldots,1000$.  Representar gráficamente la evolución de $x(t),y(t),\\theta(t)$.**"
   ]
  },
  {
   "cell_type": "code",
   "execution_count": null,
   "metadata": {},
   "outputs": [],
   "source": [
    "function fRobot(t,u,p)\n",
    "    L = p[1]\n",
    "    R = p[2]\n",
    "    x = u[1]\n",
    "    y = u[2]      \n",
    "    theta = u[3]\n",
    "    ?\n",
    "    ?\n",
    "    dx =  ?\n",
    "    dy =  ?\n",
    "    dtheta = ?      \n",
    "    return [dx,dy,dtheta]\n",
    "end\n",
    "\n",
    "? #varias líneas de código\n",
    "\n",
    "tt = ?\n",
    "xx = ?\n",
    "yy = ?\n",
    "thetas = ?\n",
    "plot(tt,[xx, yy,thetas], xlabel=\"t\",label=[\"x(t)\" \"y(t)\" \"\\\\theta (t)\"])"
   ]
  },
  {
   "cell_type": "markdown",
   "metadata": {},
   "source": [
    " - **Obtener tres aproximaciones distintas con las longitudes de paso $h=10$, $h=5$, y $h=2.5$ respectivamente, y calcular los errores cometidos en cada caso (tal como se hizo para el método de Euler mejorado en la entrega de la 3ª semana) y representarlos gráficamente en una misma figura.**"
   ]
  },
  {
   "cell_type": "code",
   "execution_count": null,
   "metadata": {},
   "outputs": [],
   "source": [
    "function RobotSol(t)\n",
    "    ?\n",
    "    return [x, y, theta]\n",
    "end\n",
    "\n",
    "function errorRK4(n,m)   \n",
    "    L = 0.5\n",
    "    R = 0.05\n",
    "    p = [L,R]\n",
    "    u0 = [0.,0.,0.]\n",
    "    T = 1000\n",
    "    ?\n",
    "    res = RK4(???)\n",
    "    tt = ?\n",
    "    errores = zeros(n+1)\n",
    "    for j in 1:(n+1)\n",
    "       errores[j] = norm(?)\n",
    "    end\n",
    "    return (tt,errores)\n",
    "end\n",
    "\n",
    "hh = [T/100, T/200, T/400]\n",
    "\n",
    "(tt, errores) = ?\n",
    "plot(tt,errores,\n",
    "     title=\"Errores de RK4\", xlabel=\"t\", label=string(\"h=\",hh[1]))\n",
    "\n",
    "(tt, errores2) = ?\n",
    "plot!(tt,errores2, label=string(\"h=\",hh[2])\n",
    "\n",
    "(tt, errores4) = ?\n",
    "plot!(tt,errores4, label=string(\"h=\",hh[3])"
   ]
  },
  {
   "cell_type": "markdown",
   "metadata": {},
   "source": [
    " - **Obtener una figura con las tres gráficas de los errores divididos por $h^4$.**"
   ]
  },
  {
   "cell_type": "code",
   "execution_count": null,
   "metadata": {},
   "outputs": [],
   "source": []
  },
  {
   "cell_type": "markdown",
   "metadata": {},
   "source": [
    "> **Comprobación**\n",
    ">\n",
    ">Las tres gráficas de los errores divididas por $h^4$ se deberían superponer aproximadamente (en caso de que no lo sean, señal de que se ha cometido algún fallo), lo que indicaría que los errores son aproximadamente proporcionales a $h^4$. Ello es de esperar, porque RK4 es un método de orden 4. "
   ]
  },
  {
   "cell_type": "markdown",
   "metadata": {},
   "source": [
    "<a href=\"#top\">Back to the top</a>"
   ]
  },
  {
   "cell_type": "markdown",
   "metadata": {},
   "source": [
    "## 3-Satélite artificial orbitando alrededor de la tierra: Modelo simplificado"
   ]
  },
  {
   "cell_type": "markdown",
   "metadata": {},
   "source": [
    "\n",
    "Consideraremos la evolución de un satélite artificial moviéndose bajo el influjo gravitacional de la tierra. En el modelo matemático que consideramos seguídamente (propuesto en el siglo XVII por Isaac Newton), se supone para simplificar que la tierra es una esfera con campo gravitacional uniforme. Las unidades utilizadas son kilómetros para la distancia, y segundos para el tiempo.\n",
    "\n",
    "Según dicho modelo, las coordenadas (respecto del centro de la tierra) $(x,y,z)$ del satélite obedecen el siguiente sistema de ecuaciones diferenciales de segundo orden:\n",
    "\n",
    "\\begin{align*}\n",
    "\\frac{d^2 x}{dt^2} &= -\\frac{\\mu}{(\\sqrt{x^2+y^2+z^2})^3} x,\\\\ \n",
    "\\frac{d^2 y}{dt^2} &= -\\frac{\\mu}{(\\sqrt{x^2+y^2+z^2})^3} y,\\\\ \n",
    "\\frac{d^2 z}{dt^2} &= -\\frac{\\mu}{(\\sqrt{x^2+y^2+z^2})^3} z,\n",
    "\\end{align*}\n",
    "    \n",
    "donde  $\\mu$ es la constante gravitacional del planeta alrededor del cual se mueve el satélite artificial. En el caso de la tierra, tenemos que\n",
    "\n",
    "\\begin{equation*} \n",
    "    \\mu = 398600.8\\, Km^3/s^2.\n",
    "\\end{equation*}\n",
    "\n",
    "Dicho sistema de EDOs de segundo orden se puede reescribir como un sistema de EDOs de primer orden añadiendo las variables de estado $(v_x,v_y,v_z)$ correspondientes a las tres componentes de la velocidad del satélite:\n",
    "\n",
    "\\begin{align*}\n",
    "\\frac{d}{dt} \n",
    "\\left(\n",
    "  \\begin{matrix}\n",
    "    x \\\\ y \\\\ z \\\\v_x \\\\ v_y\\\\ v_z\n",
    "  \\end{matrix}\n",
    "\\right)\n",
    "&=\n",
    "\\left(\n",
    "  \\begin{matrix}\n",
    " v_x\\\\\n",
    " v_y\\\\\n",
    " v_z\\\\\n",
    " \\displaystyle - \\frac{\\mu \\, x}{(\\sqrt{x^2+y^2+z^2})^3} ,\\\\ \n",
    " \\displaystyle - \\frac{\\mu \\, y}{(\\sqrt{x^2+y^2+z^2})^3},\\\\ \n",
    "\\displaystyle -\\frac{\\mu \\, z}{(\\sqrt{x^2+y^2+z^2})^3},\n",
    "  \\end{matrix}\n",
    "\\right).\n",
    "    \\end{align*}\n",
    "\n",
    "\n",
    "A lo largo del presente ejercicio, consideraremos las siguientes condiciones iniciales:\n",
    "\n",
    "\\begin{equation*}\n",
    "  \\begin{split}\n",
    " x(0)&=0,\\  \\qquad y(0)=37947.73745727695 \\, Km,\\  \\qquad z(0)=0, \\\\ \n",
    " v_x(0)&=3.297676220718193 \\, Km/s, \\quad v_y(0)=0, \\quad v_z(0)=0.8244190551795483\\,  Km/s.\n",
    "  \\end{split}\n",
    "\\end{equation*}\n",
    "\n",
    "Para dichas condiciones iniciales, se obtiene una _órbita \n",
    "geosíncrona_, es decir, una órbita periódica de periodo igual al periodo de rotación de la tierra (23 horas, 56 minutos, y 4 segundos, es decir, un día sidéreo, ligéramente menor que la duración del día solar) que traducido a segundos totales es $T=86164\\, s$.  \n"
   ]
  },
  {
   "cell_type": "markdown",
   "metadata": {},
   "source": [
    "### 3.1- Ejercicio\n",
    "\n",
    "- **Aplicar el método RK4 para calcular las coordenadas $(x_k,y_k,z_k)$ del satélite en los tiempos $t_k=k\\, T/1000$, para $k=0,1,\\ldots,1000$ ($T=86164\\, s$).  Utilizar $h=T/(4n)=T/4000$ como longitud de paso del método RK4. Obtener una figura con la trayectoria en 3D del satélite alrededor de la tierra.** "
   ]
  },
  {
   "cell_type": "code",
   "execution_count": null,
   "metadata": {},
   "outputs": [],
   "source": [
    "function fsat(t,u,p)\n",
    "    x = u[1]\n",
    "    y = u[2]\n",
    "    z = u[3]\n",
    "    dx = u[4]\n",
    "    dy = u[5]\n",
    "    dz = u[6]\n",
    "    μ = p[1]\n",
    "    ?\n",
    "    ?\n",
    "    ?\n",
    "    aux = ?\n",
    "    return [dx, dy, dz, aux*x, aux*y, aux*z]\n",
    "end\n",
    "\n",
    "???\n",
    "\n",
    "res = RK4(???)\n",
    "\n",
    "tt = ?\n",
    "xx = ?\n",
    "yy = ?\n",
    "zz = ?\n",
    "\n",
    "\n",
    "plot([0.],[0.],[0.],marker=8,label=\"Tierra\")\n",
    "plot!(xx,yy,zz, label=\"\")\n"
   ]
  },
  {
   "cell_type": "markdown",
   "metadata": {},
   "source": [
    "- **Guardar las coordenadas $(x_k,y_k,z_k)$ del satélite en los tiempos $t_k=k\\, T/1000$, para $k=0,1,\\ldots,1000$, en un fichero de texto, a tres columnas ($x$ en la primera columna, $y$ en la segunda, $z$ en la tercera). Utilizar el fichero obtenido para realizar una simulación animada del movimiento del satélite orbitando alrededor de la tierra, haciendo uso del codigo JavaScripts que se encuentra en este** <a href=\"http://www.ehu.eus/ccwmuura/irakaskuntza/sinum/animaciones/tierra_satelite_fichero.html\">Fichero html</a>"
   ]
  },
  {
   "cell_type": "code",
   "execution_count": null,
   "metadata": {},
   "outputs": [],
   "source": [
    "writedlm(\"satelliteXYZ.txt\",res[:,2:4],\" \")"
   ]
  },
  {
   "cell_type": "markdown",
   "metadata": {},
   "source": [
    "### 3.2-Ejercicio\n",
    "\n",
    "- **Para aseguraros de que la aproximación numérica es suficientemente precisa, queremos  representar gráficamente la evolucion \n",
    "(para $k=1,2,\\ldots,1000$) del error  en la posición del satélite**\n",
    "<a id='Error-posicion'></a>\n",
    "\\begin{equation*}\n",
    "\\sqrt{(x_k -x(t_k))^2+(y_k -y(t_k))^2+(z_k -z(t_k))^2}. \\tag{3}\n",
    "\\end{equation*}\n",
    "**En la práctica, en lugar de tratar de calcular los errores de forma exacta,  calcularemos las estimaciones del error cometido por medio del procedimiento de estimación del error descrito al final de la exposición del Tema~2 (para ello, hay que tener en cuenta que RK4 es un método de orden 4). En el cálculo estimado de los errores en posición del satélite, se obtendrá sustituyendo en [(3)](#Error-posicion) los errores cometidos en cada componente de $(x_k,y_k,z_k)$ por la estimación del error correspondiente.**"
   ]
  },
  {
   "cell_type": "code",
   "execution_count": null,
   "metadata": {},
   "outputs": [],
   "source": [
    "\n",
    "????\n",
    "\n",
    "plot(tt,errores,xlabel=\"t\",label=\"\",title=\"Evolución de errores en posición estimados\")"
   ]
  },
  {
   "cell_type": "markdown",
   "metadata": {},
   "source": [
    "### 3.3-Ejercicio\n",
    "\n",
    "- **Se sabe que la solución exacta es periódica, con periodo $T$, de modo que tiene las mismas posiciones y velocidades en $t=0$ y $t=T$. Por tanto, el error en el tiempo final $t_n=T$ se puede calcular de forma exacta. Comparar dicho error exacto con la estimación obtenida en el apartado anterior para  el tiempo final $t_n=T$.**"
   ]
  },
  {
   "cell_type": "code",
   "execution_count": null,
   "metadata": {},
   "outputs": [],
   "source": []
  },
  {
   "cell_type": "markdown",
   "metadata": {},
   "source": [
    "- **¿Es dicha estimación del error en $t=T$ de magnitud similar al error cometido realmente?**"
   ]
  },
  {
   "cell_type": "markdown",
   "metadata": {},
   "source": [
    ">**Respuesta**\n",
    ">\n",
    ">Incluir aquí la respuesta."
   ]
  },
  {
   "cell_type": "markdown",
   "metadata": {},
   "source": [
    "<a href=\"#top\">Back to the top</a>"
   ]
  },
  {
   "cell_type": "markdown",
   "metadata": {},
   "source": [
    "## 4-Satélite artificial orbitando alrededor de la tierra: Modelo más realista"
   ]
  },
  {
   "cell_type": "markdown",
   "metadata": {},
   "source": [
    "En el apartado anterior, hemos supuesto que la tierra es esférica, cuando en realidad presenta un ligero achatamiendo en ambos polos.  En el modelo matemático que consideramos a continuación, se obtiene una descripción más realista del movimiento del satélite artificial teniendo en cuenta dicho achatamiento. (Sin embargo, no se tiene en cuenta otros efectos de índole menor, como  el efecto gravitacional de la luna, el sol, y otros cuerpos celestes, ni el efecto de irregularidades menores del campo gravitacional de la tierra).\n",
    "\n",
    "Según este modelo matemático, las coordenadas respecto del centro de la tierra $(x,y,z)$ del satélite obedecen el siguiente sistema de ecuaciones diferenciales de segundo orden:\n",
    "\n",
    "\\begin{align*}\n",
    "\\frac{d^2 x}{dt^2} &= -\\mu \\frac{x}{r^3} \\left(1 + \\frac{\\epsilon R^2}{r^2}\\, F \\right),\\\\ \n",
    "\\frac{d^2 y}{dt^2} &= -\\mu \\frac{y}{r^3} \\left(1 + \\frac{\\epsilon R^2}{r^2}\\, F \\right),\\\\ \n",
    "\\frac{d^2 z}{dt^2} &= -\\mu \\frac{z}{r^3} \\left(1 + \\frac{\\epsilon R^2}{r^2}\\, G \\right),\n",
    "\\end{align*}\n",
    "\n",
    "donde \n",
    "\\begin{equation*}\n",
    "r=\\sqrt{x^2+y^2+z^2}, \\quad\n",
    "  F = \\frac{3}{2} -  \\frac{15z^2}{2r^2},  \\quad G = \\frac{9}{2} - \\frac{15z^2}{2r^2},\n",
    "\\end{equation*}\n",
    "\n",
    "y $\\mu$, $R$, y $\\epsilon$, respectivamente, son la constante gravitacional, el radio, y el coeficiente de achatamiento del planeta alrededor del cual se mueve el satélite artificial. En el caso de la tierra, tenemos que\n",
    "\n",
    "\\begin{equation*} \n",
    "    \\mu = 398600.8 Km^3/s^2, \\quad R = 6\\, 378.135Km,  \\quad               \n",
    "    \\epsilon = 0.0010826157.\n",
    "\\end{equation*}\n",
    "\n",
    "Como en el modelo simplificado considerado en el apartado anterior, este sistema de EDOs de segundo orden se puede reescribir como un sistema de EDOs de primer orden añadiendo las variables de estado $(v_x,v_y,v_z)$ correspondientes a las tres componentes de la velocidad del satélite."
   ]
  },
  {
   "cell_type": "markdown",
   "metadata": {},
   "source": [
    "### 4.1-Ejercicio\n",
    "\n",
    "- **¿Cuales son las variables de estado?**\n",
    "- **¿Cuales son los parámetros constantes del problema? **\n",
    "- **¿Qué variables no son ni variables de estado ni parámetros constantes del problema? (Tales variables son variables auxiliares intermedias utilizadas para definir de forma conveniente las distinas componentes de la aceleración del satélite).**"
   ]
  },
  {
   "cell_type": "markdown",
   "metadata": {},
   "source": [
    ">**Respuesta**\n",
    ">\n",
    "> Incluir aquí la respuesta"
   ]
  },
  {
   "cell_type": "markdown",
   "metadata": {},
   "source": [
    "### 4.2-Ejercicio\n",
    "\n",
    "A lo largo del presente ejercicio, consideraremos las mismas condiciones iniciales que en el apartado anterior. Queremos comprobar si, en el caso del modelo más realista, la trayectoria correspondiente sigue siendo periódica, con periodo $T$.\n",
    "\n",
    "\n",
    "- **Aplicar el método RK4, utilizando $h=T/4000$ como longitud de paso, para calcular las posiciones y velocidades del satélite en los tiempos $t_k=k\\, T/1000$, para $k=0,1,\\ldots,1000$. Calcular la distancia entre las posiciones del satélite en $t=0$ y $t=T$.**"
   ]
  },
  {
   "cell_type": "code",
   "execution_count": null,
   "metadata": {},
   "outputs": [],
   "source": [
    "function fsat2(t,u,p)\n",
    "    μ = p[1]\n",
    "    R = p[2]\n",
    "    ϵ = p[3]\n",
    "    x = u[1]\n",
    "    y = u[2]\n",
    "    z = u[3]\n",
    "    dx = u[4]\n",
    "    dy = u[5]\n",
    "    dz = u[6]\n",
    "    ? # varias líneas de código\n",
    "    return [dx, dy, dz, ?, ?, ?]\n",
    "end\n",
    "\n",
    "\n",
    "?\n",
    "?\n",
    "?\n",
    "res = RK4(???)\n",
    "tt = res[:,1]\n",
    "xx = res[:,2]\n",
    "yy = res[:,3]\n",
    "zz = res[:,4]\n",
    "dist = ?"
   ]
  },
  {
   "cell_type": "markdown",
   "metadata": {},
   "source": [
    "### 4.3-Ejercicio\n",
    "\n",
    "- Comprobaréis que dicha distancia no es cero. ** ¿Esto será debido al error inherente al método RK4 utilizado, o a que realmente la trayectoria del satélite en el nuevo modelo ya no es periódica con periodo $T$?**"
   ]
  },
  {
   "cell_type": "markdown",
   "metadata": {},
   "source": [
    ">**Respuesta**\n",
    ">\n",
    ">Incluir aquí la respuesta"
   ]
  },
  {
   "cell_type": "markdown",
   "metadata": {},
   "source": [
    "### 4.4-Ejercicio\n",
    "\n",
    "- **Para tratar de responder con más seguridad a la pregunta del punto 4.3, obtener una gráfica de la evolución de los errores de posición estimados, tal como se hizo en el apartado anterior.**"
   ]
  },
  {
   "cell_type": "code",
   "execution_count": null,
   "metadata": {},
   "outputs": [],
   "source": [
    "? # varias líneas de código\n",
    "\n",
    "plot(tt,errores,xlabel=\"t\",label=\"\",title=\"Evolución de errores en posición estimados\")"
   ]
  },
  {
   "cell_type": "markdown",
   "metadata": {},
   "source": [
    "### 4.5-Ejercicio\n",
    "\n",
    "- ** En vista del tamaño del error estimado, responder de forma razonada si la trayectoria del satélite es periódica de periodo $T$ o no. **"
   ]
  },
  {
   "cell_type": "markdown",
   "metadata": {},
   "source": [
    ">**Respuesta**\n",
    ">\n",
    ">Incluir aquí la respuesta"
   ]
  },
  {
   "cell_type": "markdown",
   "metadata": {},
   "source": [
    "### 4.6-Ejercicio\n",
    "\n",
    "- **Representar la proyección en el plano OXY (en el plano del ecuador) de la trayectoria del satélite en el intervalo $[0,T]$.**"
   ]
  },
  {
   "cell_type": "code",
   "execution_count": null,
   "metadata": {},
   "outputs": [],
   "source": [
    "\n",
    "?\n",
    "?\n",
    "?\n",
    "\n",
    "plot([0.],[0.],marker=8,label=\"Earth\")\n",
    "plot!(xx,yy,xlabel=\"x\", ylabel=\"y\",label=\"Proyección de la órbita en [0,T]\", aspect_ratio=1)"
   ]
  },
  {
   "cell_type": "markdown",
   "metadata": {},
   "source": [
    "- **Aplicar el método RK4  con $h=T/4000$ como longitud de paso, para calcular la posición y velocidad del satélite en $t = 3660\\, T$** (es decir, cuando ha transcurrido aproximadamente diez años)."
   ]
  },
  {
   "cell_type": "code",
   "execution_count": null,
   "metadata": {},
   "outputs": [],
   "source": []
  },
  {
   "cell_type": "markdown",
   "metadata": {},
   "source": [
    ">**Comprobación**\n",
    ">\n",
    "> La posición y velocidad que obtiene para $t=3660T$ es\n",
    "> $(x, y, z) = (34446.80929589261,-22000.268482219773,1592.2779871419357)$,\n",
    "  $( v_x, v_y, v_z) = (-1.3685705970217261, -2.758758585005559, -0.7431495586890531)$"
   ]
  },
  {
   "cell_type": "markdown",
   "metadata": {},
   "source": [
    "- **Representar la proyección en el plano del ecuador de la trayectoria del satélite en el intervalo $[3660\\, T,3661\\, T]$. Representarlo en una misma figura junto con la obtenida para el intervalo $[0,T]$, para comparar como cambia la órbita del satélite a lo largo de (aproximadamente) diez años.**"
   ]
  },
  {
   "cell_type": "code",
   "execution_count": null,
   "metadata": {},
   "outputs": [],
   "source": [
    "?\n",
    "?\n",
    "?\n",
    "plot!(xx2,yy2,label=\"Proyección de la órbita en [3666T, 3661T]\")"
   ]
  },
  {
   "cell_type": "markdown",
   "metadata": {},
   "source": [
    "> **Comprobación**\n",
    ">\n",
    "> Se deberían obtener dos elipses (casi circulares) giradas una con respecto a la otra. A lo largo del tiempo, la elipse que forma la trayectoria del satélite va girando, un fenómeno que ocurre debido al achatamiento de la tierra en los polos, y que se llama precesión de la órbita."
   ]
  },
  {
   "cell_type": "markdown",
   "metadata": {},
   "source": [
    "<a href=\"#top\">Back to the top</a>"
   ]
  },
  {
   "cell_type": "markdown",
   "metadata": {},
   "source": [
    "### Valoración"
   ]
  },
  {
   "cell_type": "markdown",
   "metadata": {},
   "source": [
    "_Incluir aquí los comentarios de valoración de la tarea a entregar (dificultad, interés, etc, incluidas, si se quiere, sugerencias de mejora del ejercicio), así como una estimación del tiempo dedicado al trabajo de la semana (desglosado en el tiempo de estudio de material teórico, tiempo de dedicación a la participación activa o pasiva en los foros, tiempo de implementación y experimentación con los problemas prácticos planteados, y tiempo de preparación del documento jupyter final)._"
   ]
  }
 ],
 "metadata": {
  "anaconda-cloud": {},
  "kernelspec": {
   "display_name": "Julia 1.0.3",
   "language": "julia",
   "name": "julia-1.0"
  },
  "language_info": {
   "file_extension": ".jl",
   "mimetype": "application/julia",
   "name": "julia",
   "version": "1.0.3"
  }
 },
 "nbformat": 4,
 "nbformat_minor": 2
}
