{
 "cells": [
  {
   "cell_type": "markdown",
   "metadata": {},
   "source": [
    "# Velocidad de caida libre de una pelota"
   ]
  },
  {
   "cell_type": "markdown",
   "metadata": {},
   "source": [
    "En este ejercicio consideraremos el ejemplo de una pelota que se deja caer bajo la influencia de la fuerza de la gravedad y la resistencia del aire.\n",
    "\n",
    "Consideraremos dos modelos matemáticos distintos (ambos basados en ecuaciones diferenciales) para describir la evolución de la velocidad $v$ de la pelota a lo largo del tiempo:\n",
    "\n",
    "<ul id=\"top\">\n",
    "<li><a href=\"#1.-Modelo-simplificado\">1. Modelo simplificado</a></li>\n",
    "<li><a href=\"#2.-Modelo-más-realista\">2. Modelo más realista</a></li>\n",
    "</ul>  \n",
    "\n",
    "En ambos casos, las unidades utilizadas son metros para la longitud, segundos para el tiempo, y kilogramos para la masa."
   ]
  },
  {
   "cell_type": "code",
   "execution_count": null,
   "metadata": {},
   "outputs": [],
   "source": [
    "using Plots"
   ]
  },
  {
   "cell_type": "markdown",
   "metadata": {},
   "source": [
    "## 1. Modelo simplificado"
   ]
  },
  {
   "cell_type": "markdown",
   "metadata": {},
   "source": [
    "Según el modelo simplificado, la velocidad $v(t)$ (como función del tiempo $t$) satisface la siguiente ecuación diferencial\n",
    "\n",
    "<a id='Edo-Simp'></a>\n",
    "\\begin{equation*}\n",
    "\\frac{d v}{dt} = -g - \\frac{c}{M} \\left|v\\right|\\, v, \\hspace{10em} \\tag{1}\n",
    "\\end{equation*}\n",
    "\n",
    "donde $g$ es la aceleración de la gravedad, $M$ la masa de la pelota, y $c$ es un coeficiente asociado a la resistencia que ejerce el aire sobre la pelota. Dicha ecuación diferencial viene a decir que la aceleración de la pelota ($dv/dt$) es la suma de dos contribuciones: por un lado, la acceleración de la gravedad (con signo negativo, pues la gravedad atrae la pelota hacia abajo), y por otro, la acceleración debida a la resistencia del aire al movimiento de la pelota, que se supone de magnitud $\\frac{c}{M}v^2$ y signo opuesto al de $v$.\n",
    "\n",
    "El hecho de dejar caer la pelota libremente en el instante $t=0$ se traduce en la condición inicial\n",
    "\n",
    "<a id='Cond-Ini'></a>\n",
    "\\begin{equation*}\n",
    "v(0)= 0, \\hspace{14em} \\tag{2}\n",
    "\\end{equation*}\n"
   ]
  },
  {
   "cell_type": "markdown",
   "metadata": {},
   "source": [
    "### 1.1- Ejercicio"
   ]
  },
  {
   "cell_type": "markdown",
   "metadata": {},
   "source": [
    "- **¿Cual es la variable de estado?** ??\n",
    "- **¿Cual es la variable independiente?** ??\n",
    "- **¿Cuales son los parámetros constantes del problema?** ???"
   ]
  },
  {
   "cell_type": "markdown",
   "metadata": {},
   "source": [
    "Se puede demostrar que\n",
    "\n",
    "<a id='Sol'></a>\n",
    "\\begin{equation*}\n",
    "v(t) = -v_T \\, \\frac{1-\\exp(-2gt/v_T)}{1+\\exp(-2gt/v_T)}, \\hspace{7em} \\tag{3}\n",
    "\\end{equation*}\n",
    "\n",
    "donde $v_T = \\sqrt{g \\, M/c}$ (denominada velocidad terminal), es solución del problema de valor inicial [(1)](#Edo-Simp)-[(2)](#Cond-Ini). \n",
    "\n",
    "Consideremos el caso de una pelota de tenis, con\n",
    "\n",
    "<a id='Par-Tenis'></a>\n",
    "\\begin{equation*}\n",
    "M=0.058\\, \\mathrm{Kg},  \\quad c = 29/90000. \\hspace{7em} \\tag{4}\n",
    "\\end{equation*}\n"
   ]
  },
  {
   "cell_type": "markdown",
   "metadata": {},
   "source": [
    "### 1.2- Ejercicio\n",
    "- **Calcular la velocidad terminal de la pelota de tenis**"
   ]
  },
  {
   "cell_type": "code",
   "execution_count": null,
   "metadata": {},
   "outputs": [],
   "source": [
    "g = 9.8\n",
    "M = 0.058\n",
    "c = 29/90000\n",
    "vT = ?"
   ]
  },
  {
   "cell_type": "markdown",
   "metadata": {},
   "source": [
    ">**Respuesta**\n",
    ">\n",
    ">La velocidad terminal de la pelota de tenis es de ? m/s."
   ]
  },
  {
   "cell_type": "markdown",
   "metadata": {},
   "source": [
    "### 1.3- Ejercicio\n",
    "\n",
    "- **Definir una función (que llamaremos $vsol$) que toma como argumentos de entrada el tiempo $t$, y devuelve como valor de salida la velocidad $v(t)$ dada en [(3)](#Sol) (para los valores de los parámetros constantes de problema dados en [(4)](#Par-Tenis)).**"
   ]
  },
  {
   "cell_type": "code",
   "execution_count": null,
   "metadata": {},
   "outputs": [],
   "source": [
    "function vsol(t)\n",
    "    aux = ?   #una variable auxiliar para evitar repetir cálculos \n",
    "    v = ?\n",
    "    return v\n",
    "end"
   ]
  },
  {
   "cell_type": "markdown",
   "metadata": {},
   "source": [
    "- **Comprobar que la velocidad vsol(t) para t=50 es muy próxima a $-v_T$.** (El signo negativo de la velocidad terminal se refiere al sentido descendente del movimiento de la pelota)."
   ]
  },
  {
   "cell_type": "code",
   "execution_count": null,
   "metadata": {},
   "outputs": [],
   "source": [
    "?"
   ]
  },
  {
   "cell_type": "markdown",
   "metadata": {},
   "source": [
    ">**Comprobación**\n",
    ">\n",
    ">Si la diferencia entre vsol(50.) y -vT resultara no ser pequeña, indicaría que se ha cometido algún error al implementar la función vsol(t)"
   ]
  },
  {
   "cell_type": "markdown",
   "metadata": {},
   "source": [
    "- **Representar gráficamente la evolución de la velocidad de la pelota de tenis en el intervalo temporal $[0,30]$.**"
   ]
  },
  {
   "cell_type": "code",
   "execution_count": null,
   "metadata": {},
   "outputs": [],
   "source": [
    "tF = 30\n",
    "tt = range(0,tF,length=1000)\n",
    "vv = vsol.(tt)\n",
    "plot(tt,vv, title=\"Evolución de la velocidad de caída de la pelota\", \n",
    "            xlabel=\"t\", ylabel=\"v\", label=\"\")"
   ]
  },
  {
   "cell_type": "markdown",
   "metadata": {},
   "source": [
    "Observese que a partir de un cierto tiempo la velocidad se mantiene muy cercana a la velocidad terminal."
   ]
  },
  {
   "cell_type": "markdown",
   "metadata": {},
   "source": [
    "Para comprobar que efectivamente $v(t)$ dada por [(3)](#Sol) (la función $vsol(t)$ definida arriba) es solución de [(1)](#Edo-Simp)-[(2)](#Cond-Ini), hace falta verificar, por un lado, que $v(t)$ cumple la condición inicial [(2)](#Cond-Ini), y por otro lado, que $v(t)$ cumple la ecuación diferencial [(1)](#Edo-Simp):\n"
   ]
  },
  {
   "cell_type": "markdown",
   "metadata": {},
   "source": [
    "### 1.4- Ejercicio\n",
    "- **Comprobar que efectivamente $vsol(0)=0$.**"
   ]
  },
  {
   "cell_type": "code",
   "execution_count": null,
   "metadata": {},
   "outputs": [],
   "source": [
    "vsol(0)"
   ]
  },
  {
   "cell_type": "markdown",
   "metadata": {},
   "source": [
    "### 1.5- Ejercicio\n",
    "\n",
    " Para comprobar que la función $v(t)$ definida en [(3)](#Sol) cumple la ecuación diferencial [(1)](#Edo-Simp) (es decir, la acceleración de la pelota según el modelo matemático simplificado  [(1)](#Edo-Simp), se pueden utilizar las reglas de derivación para obtener una expresión de la derivada respecto del tiempo del lado derecho de [(3)](#Sol), y comprobar que coincide (posiblemente después de algunas simplificaciones) con el resultado de substituir $v$ (en el lado derecho de la ecuación diferencial (1)) por la expresión de $v(t)$ dada en [(3)](#Sol). Aquí, proponemos de forma alternativa una comprobación de tipo numérico:\n",
    " \n",
    " \n",
    "- **Para empezar, una vez fijados los valores de los parámetros constantes de los problema dados en [(4)](#Par-Tenis), definir una función (que llamaremos $f$) que toma como argumentos de entrada la velocidad $v$ y devuelve como valor de salida el lado derecho de la ecuación diferencial [(1)](#Edo-Simp). Probar la función f implementada evaluando f(-vT).**"
   ]
  },
  {
   "cell_type": "code",
   "execution_count": null,
   "metadata": {},
   "outputs": [],
   "source": [
    "f(v) = ? # Las funciones sencillas se pueden definir en una línea\n",
    "\n",
    "f(-vT)"
   ]
  },
  {
   "cell_type": "markdown",
   "metadata": {},
   "source": [
    ">**Comprobación**\n",
    ">\n",
    ">En teoría, f(-vT) debería dar 0 como resultado. (Cuando la velocidad cae a la velocidad terminal, la acceleración de la gravedad y la debida a la resistencia del aire se cancelan una con la otra.) Sin embargo, puede que debido a errores de redondeo, no de exactamente 0. En todo caso debería de dar un número de valor absoluto muy pequeño. (En caso contrario, indicaría algún error en la implementación.)"
   ]
  },
  {
   "cell_type": "markdown",
   "metadata": {},
   "source": [
    "Para comprobar de forma numérica que la función $v(t)$ definida en [(3)](#Sol) cumple la ecuación diferencial [(1)](#Edo-Simp), seguiremos el siguiente razonamiento:\n",
    "\n",
    "Puesto que \n",
    " \n",
    "\\begin{equation*}\n",
    "\\frac{d}{dt} vsol(t) := \\lim_{\\epsilon\\to 0}\\frac{vsol(t+\\epsilon)-vsol(t)}{\\epsilon},\n",
    "\\end{equation*}\n",
    "\n",
    "para ver si $v = vsol(t)$ cumple la ecuación diferencial  [(1)](#Edo-Simp), tenemos que comprobar si para todo $t$ se cumple lo siguiente,\n",
    "\n",
    "\\begin{equation*}\n",
    "\\lim_{\\epsilon\\to 0}\\frac{vsol(t+\\epsilon)-vsol(t)}{\\epsilon} = f(vsol(t)),\n",
    "\\end{equation*}\n",
    "\n",
    "o de forma equivalente, si se cumple que para todo $t$, \n",
    "\n",
    "<a id='def-g'></a>\n",
    "\\begin{equation}\n",
    "\\lim_{\\epsilon\\to 0} G(t, \\epsilon) = 0, \\quad \\mbox{donde} \\quad\n",
    "G(t,\\epsilon) := \\frac{vsol(t+\\epsilon)-vsol(t)}{\\epsilon}- f(vsol(t)). \\tag{5}\n",
    "\\end{equation}\n",
    "\n",
    "Para comprobar si se cumple  [(5)](#def-g):\n",
    "- **Definir la función $G(t,epsilon)$ (utilizando para ello las funciones vsol(t) y f(v) previamente definidas).**"
   ]
  },
  {
   "cell_type": "code",
   "execution_count": null,
   "metadata": {},
   "outputs": [],
   "source": [
    "G(t,epsilon) = ?  "
   ]
  },
  {
   "cell_type": "markdown",
   "metadata": {},
   "source": [
    "- **Representar la gráfica de la función $G(t,\\epsilon)$ con respecto al tiempo para $\\epsilon=0.01$ en el intervalo $t \\in [0,30]$. Añadir en la misma figura la gráfica de la función $G(t,\\epsilon)$ para $\\epsilon=0.001$, y otra más para $\\epsilon=0.0001$.** "
   ]
  },
  {
   "cell_type": "code",
   "execution_count": null,
   "metadata": {},
   "outputs": [],
   "source": [
    "tF = 30\n",
    "tt = range(0,tF,length=1000)\n",
    "ϵ = 0.01\n",
    "gg = G.(tt,ϵ)\n",
    "plot(tt,gg, xlabel=\"t\", label=\"ϵ=0.01\")\n",
    "\n",
    "ϵ = 0.001\n",
    "gg = G.(tt,ϵ)\n",
    "plot!(tt,gg, label=\"ϵ=0.001\")\n",
    "\n",
    "ϵ = 0.0001\n",
    "gg = G.(tt,ϵ)\n",
    "plot!(tt,gg, label=\"ϵ=0.0001\")"
   ]
  },
  {
   "cell_type": "markdown",
   "metadata": {},
   "source": [
    "- **¿Son las gráficas obtenidas compatibles con el cumplimiento de [(5)](#def-g)? Es decir, ¿son coherentes con la afirmación de que $v=vsol(t)$ satisface la ecuación diferencial [(1)](#Edo-Simp)?**"
   ]
  },
  {
   "cell_type": "markdown",
   "metadata": {},
   "source": [
    ">**Respuesta**\n",
    "        > Escribir aquí la respuesta."
   ]
  },
  {
   "cell_type": "markdown",
   "metadata": {},
   "source": [
    "<a href=\"#top\">Back to the top</a>"
   ]
  },
  {
   "cell_type": "markdown",
   "metadata": {},
   "source": [
    "## 2. Modelo más realista"
   ]
  },
  {
   "cell_type": "markdown",
   "metadata": {},
   "source": [
    " Ahora consideramos un modelo más realista para describir la evolución de la velocidad  $v$  de la pelota a lo largo del tiempo. Consideraremos una pelota de ping-pong, de masa  $M=0.0028\\, \\mathrm{kg}$ y radio $R=0.02\\, m$,  que cae libremente cerca del nivel del mar, con una aceleración de la gravedad  $g=9.8\\, m/\\mathrm{seg}^2$, densidad del aire $\\rho = 1.205\\,  \\mathrm{kg}/m^3$, y viscosidad dinánica del aire\n",
    " $\\mu = 1.789\\times 10^{-5}\\,  \\mathrm{kg}/(m \\, \\mathrm{seg})$.\n",
    " \n",
    "\n",
    "Según el modelo matemático que consideraremos a partir de ahora, la evolución de la velocidad de la pelota viene descrita por medio de la ecuación diferencial\n",
    "\n",
    "<a id='Edo-Comp'></a>\n",
    "\\begin{equation*}\n",
    "     \\frac{d v}{dt} = -g - \\frac{\\rho\\, \\pi\\, R^2\\, C_D(Re)}{2\\, M}\\, \\left|v\\right|\\, v, \\hspace{5em} \\tag{6}\n",
    "\\end{equation*}\n",
    "\n",
    "con la condición inicial [(2)](#Cond-Ini),\n",
    "donde \n",
    "\n",
    "\\begin{equation*}\n",
    "        Re = \\frac{2\\, \\rho\\, R}{\\mu} |v|, \\quad\n",
    "        C_D(Re)  = \\left\\{\n",
    "        \\begin{split}\n",
    "       \\quad \\frac{24}{Re} + \\frac{2}{5} +\\frac{6}{1+\\sqrt{Re}} & \\quad \\mbox{ si  } Re>0,\\\\\n",
    "       \\quad 0  \\phantom{ \\frac{2}{5} +\\frac{6}{1+\\sqrt{Re}} }  & \\quad\\mbox{ si } Re=0.\n",
    "        \\end{split}\n",
    "        \\right. \n",
    "\\end{equation*}\n",
    "\n",
    "Aquí, $C_D(Re)$ es el coeficiente de arrastre de un fluído cualquiera sobre  una esfera de superficie suave, que es función del número de Reynols $Re$ (diréctamente proporcional a la magnitud de la velocidad $|v|$ de la esfera).\n",
    "\n",
    "En comparación con el modelo más simplicificado considerado en el apartado anterior, en este nuevo modelo la resistencia del aire sobre la pelota se calcula de forma más precisa, tomando en lugar de la constante $c$ del modelo más simplificado, la expresión  $\\frac{1}{2}\\, \\rho\\, \\pi\\, R^2\\, C_D(Re)$, que depende de forma no trivial del número de Reynols (y por tanto, depende de la magnitud $|v|$ de la velocidad. "
   ]
  },
  {
   "cell_type": "markdown",
   "metadata": {},
   "source": [
    "### 2.1- Ejericicio\n",
    "\n",
    "Aquí, se requiere hacer lo siguiente:\n",
    "\n",
    "- La ecuación diferencial de arriba permite determinar la aceleración de la pelota en un instante dado si se conoce la velocidad de la pelota en dicho instante. **Definir una función ac(v,p) que tenga como argumentos de entrada el valor concreto $v$ de la velocidad de la pelota y un vector $p$ que contenga los valores concretos de los parámetros del problema, y devuelva como argumento de salida el valor de la aceleración.**"
   ]
  },
  {
   "cell_type": "code",
   "execution_count": null,
   "metadata": {},
   "outputs": [],
   "source": [
    "function ac(v,p)\n",
    "  M=p[1]\n",
    "  g=p[2]\n",
    "  R=p[3]\n",
    "  mu=p[4]\n",
    "  rho=p[5]\n",
    "  aux1= (2*rho*R)/mu\n",
    "  Re =  aux1*abs(v)\n",
    "  if (Re>0)\n",
    "        Cd =  ?\n",
    "  else\n",
    "        Cd = 0\n",
    "  end\n",
    "    ?\n",
    "    ?\n",
    "    aceleracion = ?\n",
    "    return aceleracion\n",
    "end"
   ]
  },
  {
   "cell_type": "markdown",
   "metadata": {},
   "source": [
    "### 2.2- Ejercicio\n",
    "\n",
    "- **Aplicar el método Euler con longitud de paso $h=1/200$ para obtener aproximaciones $v_j$ de la velocidad $v(t_j)$ de la pelota (donde $v(t)$ es la solución de la ecuación diferencial [(6)](#Edo-Comp) con la condición inicial [(2)](#Cond-Ini)) en los tiempos**\n",
    "\n",
    "\\begin{equation*}\n",
    "  t_0=0, \\  t_1=h, \\  t_2 = 2h, \\ldots, t_{3998}=3998h, \\  \n",
    "t_{3999}=3999h, \\  t_{4000}=4000h=20.\n",
    "\\end{equation*}"
   ]
  },
  {
   "cell_type": "code",
   "execution_count": null,
   "metadata": {},
   "outputs": [],
   "source": [
    "M= 0.0028\n",
    "g=9.8\n",
    "R=0.02\n",
    "mu=1.789e-5\n",
    "pe= 1.205\n",
    "p=[M,g,R,mu,pe]\n",
    "\n",
    "tF = 20\n",
    "n = 4000\n",
    "h = tF/n\n",
    "\n",
    "tt = 0:h:tF\n",
    "vv = similar(tt)\n",
    "vv[1] = 0.\n",
    "\n",
    "for j in 1:n\n",
    "    vv[j+1] = ?\n",
    "end"
   ]
  },
  {
   "cell_type": "markdown",
   "metadata": {},
   "source": [
    "\n",
    "**Representar gráficamente la evolución de la velocidad de la pelota en el intervalo temporal $[0,20]$.**"
   ]
  },
  {
   "cell_type": "code",
   "execution_count": null,
   "metadata": {},
   "outputs": [],
   "source": [
    "plot(tt,?, title = \"Evolución de la velocidad de una pelota de ping-pong\", \n",
    "            xlabel=\"t\", ylabel=\"v\", label=\"\")"
   ]
  },
  {
   "cell_type": "markdown",
   "metadata": {},
   "source": [
    "### 2.3- Ejercicio\n",
    "\n",
    "- **¿Las velocidades obtenidas en los tiempos finales (por ejemplo, en los últimos seis tiempos) es la misma?**"
   ]
  },
  {
   "cell_type": "code",
   "execution_count": null,
   "metadata": {},
   "outputs": [],
   "source": [
    "?"
   ]
  },
  {
   "cell_type": "markdown",
   "metadata": {},
   "source": [
    ">**Respuesta**\n",
    "> ??? "
   ]
  },
  {
   "cell_type": "markdown",
   "metadata": {},
   "source": [
    " - Esta velocidad es la que se denomina velocidad terminal, que denotaremos por $v_T$. Para dicha velocidad $v_T$, la aceleración de la gravedad y la resistencia del aire tienen la misma magnitud y signos opuestos, es decir, el lado derecho de la ecuación diferencial (la aceleración total) se anula cuando $v$ toma el valor de la velocidad terminal. **Comprobar si esto es efectivamente así, evaluando la función ac(v,p) para $v=v_{4000}$**"
   ]
  },
  {
   "cell_type": "code",
   "execution_count": null,
   "metadata": {},
   "outputs": [],
   "source": [
    "?"
   ]
  },
  {
   "cell_type": "markdown",
   "metadata": {},
   "source": [
    "- **Es dicha acceleración total efectivamente nula? Comentar el resultado obtenido.**"
   ]
  },
  {
   "cell_type": "markdown",
   "metadata": {},
   "source": [
    ">**Respuesta**\n",
    ">??. "
   ]
  },
  {
   "cell_type": "markdown",
   "metadata": {},
   "source": [
    "### 2.4- Ejercicio\n",
    "\n",
    "- En este punto consideramos de nuevo el modelo simplificado [(1)](#Edo-Simp).  Un criterio razonable para determinar el valor de $c$ apropiado para la pelota de ping-pong (al nivel del mar) es exigir que la velocidad terminal en el modelo simplificado coincida con la velocidad $v_T$ obtenida en el apartado anterior (Ejercicio 2.3). **Describir como se puede determinar el valor de $c$ que verifica dicho criterio.**\n",
    "\n",
    ">**Respuesta**\n",
    ">\n",
    "> ??"
   ]
  },
  {
   "cell_type": "markdown",
   "metadata": {},
   "source": [
    "- **Calcular dicho valor de c**"
   ]
  },
  {
   "cell_type": "code",
   "execution_count": null,
   "metadata": {},
   "outputs": [],
   "source": [
    "vT = vv[end]\n",
    "c = ??"
   ]
  },
  {
   "cell_type": "markdown",
   "metadata": {},
   "source": [
    ">**Comprobación**\n",
    ">\n",
    ">Debería obtenerse $c = 0.00033244322995086144$."
   ]
  },
  {
   "cell_type": "markdown",
   "metadata": {},
   "source": [
    "### 2.5- Ejercicio\n",
    "\n",
    "- Una vez calculado el valor correcto de $c$, **representar gráficamente (en el intervalo temporal $t \\in[0,20]$) la evolución de la velocidad de la pelota de ping-pong según la solución [(3)](#Sol) del modelo simplificado. Incluir dicha gráfica en una misma figura junto con la gráfica de la solución numérica obtenida (con el método de Euler) para el modelo más realista [(6)](#Edo-Comp).**"
   ]
  },
  {
   "cell_type": "code",
   "execution_count": null,
   "metadata": {},
   "outputs": [],
   "source": [
    "vs = ??  # Velocidad de la pelota, según la solución del modelo simplificado\n",
    "         # en los tiempos guardados en tt\n",
    "plot(tt,vv, title = \"Evolución de la velocidad de una pelota\", \n",
    "            xlabel=\"t\", ylabel=\"v\", label=\"Modelo realista (Euler)\")\n",
    "plot!(tt,vs, label=\"Modelo simplificado\")"
   ]
  },
  {
   "cell_type": "markdown",
   "metadata": {},
   "source": [
    "La evolución de la velocidad del modelo simplificado y la de la simulación numérica del modelo más realista apenas se distinguen a simple vista en la figura obtenida (si son muy distintos, señal de que se ha cometido algún error). En la figura que sigue representamos la gráfica de la diferencia de ambas velocidades con respecto del tiempo, donde se puede apreciar la diferencia de los resultados para ambos modelos."
   ]
  },
  {
   "cell_type": "code",
   "execution_count": null,
   "metadata": {},
   "outputs": [],
   "source": [
    "plot(tt,vv-vs, title=\"Diferencia entre velocidades en ambos modelos\", xlabel=\"t\", label=\"\")"
   ]
  },
  {
   "cell_type": "markdown",
   "metadata": {},
   "source": [
    "### 2.6-Ejercicio\n",
    "\n",
    "- Los valores $\\mu = 1.789\\times 10^{-5} \\, \\mathrm{kg}/(m\\, \\mathrm{seg})$ de la viscosidad dinámica del aire y de su densidad $\\rho = 1.205\\,  \\mathrm{kg}/m^3$ dados al principio del enunciado de este problema se refieren a los valores estandar de la atmósfera al nivel del mar. En cambio, a $3000\\, m$ de altura, $\\mu = 1.69\\times 10^{-5}\\,  \\mathrm{kg}/(m\\, \\mathrm{seg})$,  $\\rho = 0.9\\, \\mathrm{kg}/m^3$. **Repetir la simulación de la evolución de la velocidad de la pelota de ping-pong (con el modelo más realista) pero esta vez a $3000\\, m$ de altura. Representar en una misma figura los resultados de la simulación de las velocidades al nivel del mar y a $3000\\, m$ de altura.**"
   ]
  },
  {
   "cell_type": "code",
   "execution_count": null,
   "metadata": {},
   "outputs": [],
   "source": [
    "mu=1.69e-5\n",
    "pe= 0.9\n",
    "p=[M,g,R,mu,pe]\n",
    "\n",
    "tF = 20\n",
    "n = 4000\n",
    "h = tF/n\n",
    "tt = 0:h:tF\n",
    "vv3000 = similar(tt)\n",
    "vv3000[1] = 0.\n",
    "for j in 1:n\n",
    "    vv3000[j+1] = ??\n",
    "end\n",
    "plot(tt,vv, title = \"Velocidad de una pelota de ping-pong\", \n",
    "            xlabel=\"t\", ylabel=\"v\", label=\"0m de altitud\")\n",
    "plot!(tt,vv3000, label=\"3000m de altitud\")"
   ]
  },
  {
   "cell_type": "markdown",
   "metadata": {},
   "source": [
    "- **¿Son las diferencias apreciables? Es la velocidad terminal distinta en un caso y en otro?**"
   ]
  },
  {
   "cell_type": "code",
   "execution_count": null,
   "metadata": {},
   "outputs": [],
   "source": [
    "??"
   ]
  },
  {
   "cell_type": "markdown",
   "metadata": {},
   "source": [
    ">**Respuesta**\n",
    ">\n",
    ">??"
   ]
  },
  {
   "cell_type": "markdown",
   "metadata": {},
   "source": [
    "<a href=\"#top\">Back to the top</a>"
   ]
  },
  {
   "cell_type": "markdown",
   "metadata": {},
   "source": [
    "### 2.7- Valoración"
   ]
  },
  {
   "cell_type": "markdown",
   "metadata": {},
   "source": [
    "_Incluir aquí los comentarios de valoración de la tarea a entregar (dificultad, interés, etc, incluidas, si se quiere, sugerencias de mejora del ejercicio), así como una estimación del tiempo dedicado al trabajo de la semana (desglosado en el tiempo de estudio de material teórico, tiempo de dedicación a la participación activa o pasiva en los foros, tiempo de implementación y experimentación con los problemas prácticos planteados, y tiempo de preparación del documento jupyter a entregar)._"
   ]
  }
 ],
 "metadata": {
  "anaconda-cloud": {},
  "kernelspec": {
   "display_name": "Julia 1.0.3",
   "language": "julia",
   "name": "julia-1.0"
  },
  "language_info": {
   "file_extension": ".jl",
   "mimetype": "application/julia",
   "name": "julia",
   "version": "1.0.3"
  }
 },
 "nbformat": 4,
 "nbformat_minor": 2
}
